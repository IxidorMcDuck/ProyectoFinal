{
 "cells": [
  {
   "cell_type": "code",
   "execution_count": 2,
   "metadata": {
    "collapsed": false
   },
   "outputs": [
    {
     "name": "stderr",
     "output_type": "stream",
     "text": [
      "Warning: New definition \n",
      "    ^(Derive,Real) at /home/pablo1/Documents/Tareas/ProyectoFinalMNA/Derivatives.jl:93\n",
      "is ambiguous with: \n",
      "    ^(Any,Integer) at intfuncs.jl:86.\n",
      "To fix, define \n",
      "    ^(Derive,Integer)\n",
      "before the new definition.\n"
     ]
    }
   ],
   "source": [
    "workspace()\n",
    "using Bolas\n",
    "using Derivatives\n"
   ]
  },
  {
   "cell_type": "code",
   "execution_count": 3,
   "metadata": {
    "collapsed": false
   },
   "outputs": [
    {
     "data": {
      "text/plain": [
       "Bola(0.6,0.4)"
      ]
     },
     "execution_count": 3,
     "metadata": {},
     "output_type": "execute_result"
    }
   ],
   "source": [
    "A=Bola(0,1)\n",
    "B=Bola(1.2,1)\n",
    "\n",
    "interseccion_de_bolas(B,A)"
   ]
  },
  {
   "cell_type": "code",
   "execution_count": 63,
   "metadata": {
    "collapsed": false
   },
   "outputs": [
    {
     "name": "stdout",
     "output_type": "stream",
     "text": [
      "X => [Bola(-70.0,25.0),Bola(-20.0,25.0),Bola(30.0,25.0),Bola(80.0,25.0)]\n",
      "X => [Bola(-82.5,12.5),Bola(-57.5,12.5),Bola(-32.5,12.5),Bola(-7.5,12.5),Bola(17.5,12.5),Bola(42.5,12.5),Bola(67.5,12.5),Bola(92.5,12.5)]\n",
      "X => [Bola(-51.25,6.25),Bola(-38.75,6.25),Bola(-26.25,6.25),Bola(-13.75,6.25),Bola(-1.25,6.25),Bola(11.25,6.25),Bola(23.75,6.25),Bola(36.25,6.25),Bola(48.75,6.25),Bola(61.25,6.25)]\n",
      "X => [Bola(-23.125,3.125),Bola(-16.875,3.125),Bola(-10.625,3.125),Bola(-4.375,3.125),Bola(1.875,3.125),Bola(8.125,3.125),Bola(14.375,3.125),Bola(20.625,3.125),Bola(26.875,3.125),Bola(33.125,3.125)]\n",
      "X => [Bola(-9.0625,1.5625),Bola(-5.9375,1.5625),Bola(-2.8125,1.5625),Bola(0.3125,1.5625),Bola(3.4375,1.5625),Bola(6.5625,1.5625),Bola(9.6875,1.5625),Bola(12.8125,1.5625),Bola(15.9375,1.5625),Bola(19.0625,1.5625)]\n",
      "X => [Bola(-3.59375,0.78125),Bola(-2.03125,0.78125),Bola(-0.46875,0.78125),Bola(1.09375,0.78125),Bola(2.65625,0.78125),Bola(4.21875,0.78125),Bola(5.78125,0.78125),Bola(7.34375,0.78125),Bola(8.90625,0.78125),Bola(10.46875,0.78125)]\n",
      "X => [Bola(-0.078125,0.390625),Bola(0.703125,0.390625),Bola(1.484375,0.390625),Bola(2.265625,0.390625),Bola(3.046875,0.390625),Bola(3.828125,0.390625),Bola(4.609375,0.390625),Bola(5.390625,0.390625),Bola(6.171875,0.390625),Bola(6.953125,0.390625),Bola(7.734375,0.390625),Bola(8.515625,0.390625)]\n",
      "X => [Bola(0.5078125,0.1953125),Bola(0.8984375,0.1953125),Bola(1.2890625,0.1953125),Bola(1.6796875,0.1953125),Bola(2.0703125,0.1953125),Bola(2.4609375,0.1953125),Bola(2.8515625,0.1953125),Bola(3.2421875,0.1953125),Bola(3.6328125,0.1953125),Bola(4.0234375,0.1953125),Bola(4.4140625,0.1953125),Bola(4.8046875,0.1953125),Bola(5.1953125,0.1953125),Bola(5.5859375,0.1953125),Bola(5.9765625,0.1953125),Bola(6.3671875,0.1953125),Bola(6.7578125,0.1953125),Bola(7.1484375,0.1953125)]\n",
      "X => [Bola(0.99609375,0.09765625),Bola(1.97265625,0.09765625),Bola(2.16796875,0.09765625),Bola(2.94921875,0.09765625),Bola(3.14453125,0.09765625),Bola(3.92578125,0.09765625),Bola(4.12109375,0.09765625),Bola(4.90234375,0.09765625),Bola(5.09765625,0.09765625),Bola(5.87890625,0.09765625),Bola(6.07421875,0.09765625),Bola(6.85546875,0.09765625),Bola(7.05078125,0.09765625)]\n",
      "X => [Bola(0.947265625,0.048828125),Bola(1.044921875,0.048828125),Bola(2.021484375,0.048828125),Bola(2.998046875,0.048828125),Bola(3.974609375,0.048828125),Bola(4.951171875,0.048828125),Bola(5.048828125,0.048828125),Bola(6.025390625,0.048828125),Bola(7.001953125,0.048828125)]\n",
      "X => [Bola(1.0205078125,0.0244140625),Bola(1.9970703125,0.0244140625),Bola(2.9736328125,0.0244140625),Bola(3.0224609375,0.0244140625),Bola(3.9990234375,0.0244140625),Bola(4.9755859375,0.0244140625),Bola(5.0244140625,0.0244140625),Bola(6.0009765625,0.0244140625),Bola(6.9775390625,0.0244140625),Bola(7.0263671875,0.0244140625)]\n",
      "X => [Bola(1.00830078125,0.01220703125),Bola(2.00927734375,0.01220703125),Bola(3.01025390625,0.01220703125),Bola(3.98681640625,0.01220703125),Bola(4.01123046875,0.01220703125),Bola(4.98779296875,0.01220703125),Bola(5.01220703125,0.01220703125),Bola(5.98876953125,0.01220703125),Bola(6.01318359375,0.01220703125),Bola(6.98974609375,0.01220703125)]\n",
      "X => [Bola(1.002197265625,0.006103515625),Bola(2.003173828125,0.006103515625),Bola(3.004150390625,0.006103515625),Bola(4.005126953125,0.006103515625),Bola(4.993896484375,0.006103515625),Bola(5.006103515625,0.006103515625),Bola(5.994873046875,0.006103515625),Bola(6.995849609375,0.006103515625)]\n",
      "X => [Bola(0.9991455078125,0.0030517578125),Bola(2.0001220703125,0.0030517578125),Bola(3.0010986328125,0.0030517578125),Bola(4.0020751953125,0.0030517578125),Bola(4.9969482421875,0.0030517578125),Bola(5.0030517578125,0.0030517578125),Bola(5.9979248046875,0.0030517578125),Bola(6.9989013671875,0.0030517578125)]\n",
      "X => [Bola(1.00067138671875,0.00152587890625),Bola(1.99859619140625,0.00152587890625),Bola(2.99957275390625,0.00152587890625),Bola(4.00054931640625,0.00152587890625),Bola(4.99847412109375,0.00152587890625),Bola(5.00152587890625,0.00152587890625),Bola(5.99945068359375,0.00152587890625),Bola(7.00042724609375,0.00152587890625)]\n",
      "X => [Bola(0.999908447265625,0.000762939453125),Bola(1.999359130859375,0.000762939453125),Bola(3.000335693359375,0.000762939453125),Bola(3.999786376953125,0.000762939453125),Bola(4.999237060546875,0.000762939453125),Bola(5.000762939453125,0.000762939453125),Bola(6.000213623046875,0.000762939453125),Bola(6.999664306640625,0.000762939453125)]\n",
      "16\n",
      "X[1] => Bola(0.999908447265625,0.000762939453125)\n",
      "radio_promedio /= length(X) => 0.11309425944870521\n",
      "X[1] => Bola(0.9999998556499885,0.16435645051886805)\n",
      "radio_promedio /= length(X) => 1.892525854633642\n",
      "X[1] => Bola(0.9999999997997487,0.07001083179571063)\n",
      "radio_promedio /= length(X) => 25.00108302614028\n",
      "X[1] => Bola(0.9999999999997222,3.632733007277547e-5)\n",
      "radio_promedio /= length(X) => 0.00010575602780255415\n",
      "X[1] => Bola(0.9999999999999997,2.3708430111662054e-11)\n",
      "radio_promedio /= length(X) => 4.353901325382832e-6\n",
      "X[1] => Bola(1.0,1.8551705961098573e-20)\n",
      "radio_promedio /= length(X) => 5.3016732358924896e-8\n",
      "X[1] => Bola(1.0,0.0)\n",
      "radio_promedio /= length(X) => 1.8327138335274436e-10\n",
      "X[1] => Bola(1.0,0.0)\n",
      "radio_promedio /= length(X) => 1.7966306893143535e-13\n",
      "X[1] => Bola(1.0,0.0)\n",
      "radio_promedio /= length(X) => 4.9946117638559356e-17\n",
      "9\n"
     ]
    },
    {
     "data": {
      "text/plain": [
       "8-element Array{Bola,1}:\n",
       " Bola(1.0,0.0)                                  \n",
       " Bola(5.0,0.0)                                  \n",
       " Bola(3.0000000039767696,3.995689411084719e-16) \n",
       " Bola(3.9999999999987255,2.0914759336056296e-33)\n",
       " Bola(4.999999999999551,1.4252916980797883e-30) \n",
       " Bola(5.000000000000454,1.5516508856410424e-30) \n",
       " Bola(6.0,0.0)                                  \n",
       " Bola(5.0,0.0)                                  "
      ]
     },
     "execution_count": 63,
     "metadata": {},
     "output_type": "execute_result"
    }
   ],
   "source": [
    "function quitar_no_deseadas(F::Function,B,x)\n",
    "    \n",
    "    temp=Bola[]\n",
    "    dF(x)=F(makex(x)).d\n",
    "    \n",
    "    for i=1:length(B)\n",
    "        if contiene(F(B[i]),x)\n",
    "            push!(temp,B[i])\n",
    "        end\n",
    "    end\n",
    "    \n",
    "    return(temp)\n",
    "    \n",
    "    \n",
    "end\n",
    "\n",
    "function operador_de_newton_bola(F::Function,B::Bola)\n",
    "    \n",
    "    dF(x)=F(makex(x)).d\n",
    "    m=Bola(B.centro,0)\n",
    "    \n",
    "    return (m-F(m)/(dF(B)))\n",
    "    \n",
    "end   \n",
    "\n",
    "function metodo_newton_bola(F::Function, B::Bola)\n",
    "    \n",
    "    X=bisectar_bolas([B])\n",
    "    \n",
    "    i=0\n",
    "    tolbis=1e-3\n",
    "    tolradio=1e-15\n",
    "    \n",
    "    while(X[1].radio>tolbis)\n",
    "        \n",
    "        X=bisectar_bolas(X)\n",
    "        X=quitar_no_deseadas(F,X,0)\n",
    "\n",
    "        \n",
    "        i+=1\n",
    "        \n",
    "        if i==50\n",
    "            break\n",
    "        end\n",
    "        \n",
    "        @show X\n",
    " \n",
    "    end\n",
    "    \n",
    "    println(i)\n",
    "    j=0\n",
    "    \n",
    "    radio_promedio=1\n",
    "    \n",
    "    while(tolradio<radio_promedio)\n",
    "        \n",
    "        radio_promedio=0\n",
    "        @show X[1]\n",
    "        \n",
    "        for i=1:length(X)\n",
    "            X[i]=interseccion_de_bolas(B,operador_de_newton_bola(F,X[i]))\n",
    "            radio_promedio+=X[i].radio\n",
    "        end\n",
    "        \n",
    "        \n",
    "        \n",
    "        @show radio_promedio/=length(X)\n",
    "        \n",
    "        j+=1\n",
    "        \n",
    "        if j==50\n",
    "            break\n",
    "        end\n",
    "    end\n",
    "    println(j)\n",
    "    \n",
    "    tolsimilar = 1e-2\n",
    "    \n",
    "    \n",
    "    return(X)\n",
    "    \n",
    "end\n",
    "\n",
    "\n",
    "f(x)=(x-2)*(x-3)*(x-4)*(x-5)*(x-6)*(x-7)*(x-1)\n",
    "metodo_newton_bola(f,Bola(5,100))"
   ]
  },
  {
   "cell_type": "code",
   "execution_count": 16,
   "metadata": {
    "collapsed": false
   },
   "outputs": [
    {
     "data": {
      "text/plain": [
       "0.0"
      ]
     },
     "execution_count": 16,
     "metadata": {},
     "output_type": "execute_result"
    }
   ],
   "source": [
    "x = [ i for -.5+i]"
   ]
  },
  {
   "cell_type": "code",
   "execution_count": 21,
   "metadata": {
    "collapsed": false
   },
   "outputs": [
    {
     "data": {
      "text/plain": [
       "6.404996373277071e-7"
      ]
     },
     "execution_count": 21,
     "metadata": {},
     "output_type": "execute_result"
    }
   ],
   "source": [
    "f(3.9999999822083434)"
   ]
  },
  {
   "cell_type": "code",
   "execution_count": 86,
   "metadata": {
    "collapsed": false
   },
   "outputs": [
    {
     "ename": "LoadError",
     "evalue": "No se puede dividir por una bola que contine el 0\nwhile loading In[86], in expression starting on line 1",
     "output_type": "error",
     "traceback": [
      "No se puede dividir por una bola que contine el 0\nwhile loading In[86], in expression starting on line 1",
      "",
      " in / at /home/pablo1/Documents/Tareas/ProyectoFinalMNA/Bolas.jl:223",
      " in operador_de_newton_bola at In[78]:22"
     ]
    }
   ],
   "source": [
    "operador_de_newton_bola(f,Bola(3.0056896291766835,0.5880009079680009))"
   ]
  },
  {
   "cell_type": "code",
   "execution_count": 6,
   "metadata": {
    "collapsed": false
   },
   "outputs": [
    {
     "data": {
      "text/plain": [
       "7-element Array{Int64,1}:\n",
       " 1\n",
       " 2\n",
       " 3\n",
       " 4\n",
       " 5\n",
       " 6\n",
       " 7"
      ]
     },
     "execution_count": 6,
     "metadata": {},
     "output_type": "execute_result"
    }
   ],
   "source": [
    "M=[1,2,3,4,5,6,6,6,7,1]\n",
    "\n",
    "\n",
    "for i=1:length(M)\n",
    "    \n",
    "    temp=Int[]\n",
    "    \n",
    "    for i=1:length(M)\n",
    "        \n",
    "        if !(M[i] in temp)\n",
    "            push!(temp,M[i])\n",
    "        end\n",
    "    end\n",
    "        \n",
    "    return(temp)\n",
    "end\n",
    "\n"
   ]
  },
  {
   "cell_type": "code",
   "execution_count": 64,
   "metadata": {
    "collapsed": false
   },
   "outputs": [
    {
     "data": {
      "text/plain": [
       "4-element Array{Bola,1}:\n",
       " Bola(3,1)  \n",
       " Bola(2,1)  \n",
       " Bola(4,1)  \n",
       " Bola(3.1,1)"
      ]
     },
     "execution_count": 64,
     "metadata": {},
     "output_type": "execute_result"
    }
   ],
   "source": [
    "function revisar_cercanas(A,B,tol)\n",
    "    \n",
    "    for i = 1:length(B)\n",
    "        \n",
    "        if distancia(A,B[i]) <= tol\n",
    "            return(true) \n",
    "        end\n",
    "        \n",
    "        \n",
    "    end\n",
    "    \n",
    "    return(false)\n",
    "end\n",
    "\n",
    "function quitar_repetidas(A,tol)\n",
    "   \n",
    "    temp=Bola[]\n",
    "    \n",
    "    for i=1:length(A)\n",
    "        \n",
    "        if !(revisar_cercanas(A[i],temp,tol))\n",
    "            push!(temp,A[i])\n",
    "        end\n",
    "        \n",
    "    end\n",
    "    \n",
    "    return(temp)\n",
    "end\n",
    "\n",
    "quitar_repetidas(M,.05)"
   ]
  },
  {
   "cell_type": "code",
   "execution_count": 62,
   "metadata": {
    "collapsed": false
   },
   "outputs": [
    {
     "data": {
      "text/plain": [
       "6-element Array{Bola,1}:\n",
       " Bola(3,1)  \n",
       " Bola(2,1)  \n",
       " Bola(3,1)  \n",
       " Bola(4,1)  \n",
       " Bola(2,1)  \n",
       " Bola(3.1,1)"
      ]
     },
     "execution_count": 62,
     "metadata": {},
     "output_type": "execute_result"
    }
   ],
   "source": [
    "M=[Bola(3),Bola(2),Bola(3),Bola(4),Bola(2),Bola(3.1)]"
   ]
  },
  {
   "cell_type": "code",
   "execution_count": 50,
   "metadata": {
    "collapsed": false
   },
   "outputs": [
    {
     "data": {
      "text/plain": [
       "quitar_bolas_similares (generic function with 1 method)"
      ]
     },
     "execution_count": 50,
     "metadata": {},
     "output_type": "execute_result"
    }
   ],
   "source": [
    "function quitar_bolas_similares(B,tol::Real)\n",
    "    \n",
    "    return(temp)\n",
    "end"
   ]
  },
  {
   "cell_type": "code",
   "execution_count": 22,
   "metadata": {
    "collapsed": false
   },
   "outputs": [
    {
     "data": {
      "text/plain": [
       "false"
      ]
     },
     "execution_count": 22,
     "metadata": {},
     "output_type": "execute_result"
    }
   ],
   "source": []
  },
  {
   "cell_type": "code",
   "execution_count": 54,
   "metadata": {
    "collapsed": false
   },
   "outputs": [
    {
     "ename": "LoadError",
     "evalue": "`isless` has no method matching isless(::Bola, ::Bola)\nwhile loading In[54], in expression starting on line 1",
     "output_type": "error",
     "traceback": [
      "`isless` has no method matching isless(::Bola, ::Bola)\nwhile loading In[54], in expression starting on line 1",
      "",
      " in sort! at sort.jl:262",
      " in sort! at sort.jl:314",
      " in sort! at sort.jl:353",
      " in sort at sort.jl:358"
     ]
    }
   ],
   "source": [
    "sort(M)"
   ]
  },
  {
   "cell_type": "code",
   "execution_count": 47,
   "metadata": {
    "collapsed": false
   },
   "outputs": [
    {
     "data": {
      "text/plain": [
       "49868.10344827586"
      ]
     },
     "execution_count": 47,
     "metadata": {},
     "output_type": "execute_result"
    }
   ],
   "source": [
    "57847/1.16"
   ]
  },
  {
   "cell_type": "code",
   "execution_count": 48,
   "metadata": {
    "collapsed": false
   },
   "outputs": [
    {
     "data": {
      "text/plain": [
       "10000.0"
      ]
     },
     "execution_count": 48,
     "metadata": {},
     "output_type": "execute_result"
    }
   ],
   "source": [
    "150000/15"
   ]
  },
  {
   "cell_type": "code",
   "execution_count": null,
   "metadata": {
    "collapsed": true
   },
   "outputs": [],
   "source": []
  }
 ],
 "metadata": {
  "kernelspec": {
   "display_name": "Julia 0.3.7",
   "language": "julia",
   "name": "julia 0.3"
  },
  "language_info": {
   "name": "julia",
   "version": "0.3.8"
  }
 },
 "nbformat": 4,
 "nbformat_minor": 0
}
