{
 "cells": [
  {
   "cell_type": "markdown",
   "metadata": {},
   "source": [
    "#Intervalos de Bola"
   ]
  },
  {
   "cell_type": "markdown",
   "metadata": {},
   "source": [
    "##Introducción"
   ]
  },
  {
   "cell_type": "markdown",
   "metadata": {},
   "source": [
    "Durante el curso se trabajó con bastante detalle la aritmética de intervalos. Se definieron los intervalos $[a,b] \\subseteq \\mathbb{R^*}$ en una dimensión como los conjuntos:\n",
    "\n",
    "$$[a,b] := \\{x \\in [a,b] \\Leftrightarrow a\\leq x \\leq b\\}$$\n",
    "\n",
    "Esta deficinición de intervalo tiene la ventaja de que es fácil generalizar las operaciones aritméticas de números a intervalos. Por ejemplo, la suma de dos intervalos se define como:\n",
    "\n",
    "$$[a,b]+[c,d]=[a+c,b+d]$$\n",
    "\n",
    "Claramente la operación es cerrada. En el caso de funciones monótonas, la generalización a intervalos es igualmente directa. Para una función $F(x)$:\n",
    "\n",
    "$$F([a,b]) = [F(a),F(b)]$$\n",
    "\n",
    "Para funciones periódicas la generalización es un poco más compleja. El interés en los intervalos dentro de los métodos numéricos radica en que en lugar de obtener un número de punto flotante que probablemente solo aproxime la respuesta correcta, los métodos de intervalos son capaces de generar un intervalo que contiene la respuesta correcta. Dadas las condiciones correctas esto se puede *garantizar*. Los extremos del intervalo entonces funcionan como cotas duras para la respuesta final. Sin embargo, esta no es la única forma posible de representar un intervalo. Mientras que esta representación se basa en especificar los dos extremos del conjunto, es posible representar un intervalo mediante un punto llamado centro y una distancia máxima, respecto a este centro, a la cual puede estar un punto y aún ser parte del conjunto. Estos conjuntos se conocen como intervalos de *bola*. "
   ]
  },
  {
   "cell_type": "markdown",
   "metadata": {},
   "source": [
    "##Representación de Intervalos de Bola"
   ]
  },
  {
   "cell_type": "markdown",
   "metadata": {},
   "source": [
    "Se define un intervalo de bola como un conjunto $[x_0,r] \\subseteq \\mathbb{R^*}$ tal que:\n",
    "\n",
    "$$[x_0,r] := \\{x \\in [x_0,r] \\Leftrightarrow |x-x_0| \\leq r\\}$$\n",
    "\n",
    "$x_0$ es el *centro* del intervalo y $r$ es su *radio*. Es muy sencillo pasar de una representación de intervalos a otra, simplemente utilizando que:\n",
    "\n",
    "$$x_0=\\frac{a+b}{2}$$\n",
    "\n",
    "y\n",
    "\n",
    "$$r=\\frac{|b-a|}{2}$$\n",
    "\n",
    "Esta representación es, básicamente, la definición estandard de una vecindad en matemáticas. La interpretación intuitiva de un intervalo de bola es un número más una delta, $x_0 + \\Delta x_0$. Mientras que en una diemnsión no hay gran diferencia geométrica entre ambas representaciones, al generalizar a más dimensiones las representaciones dejan de ser equivalentes. Por ejemplo, en dos dimensiones los intervalos que se utilizaron durante el curso definen rectángulos en el plano mientras que los intervalos de bola definen discos. La constricción de asignar un solo radio automáticamente dicta que el conjunto presenta simetría esférica. La generalización de operaciones a intervalos de bola es algo distinta del caso anterior y se presentan algunos casos a continuación."
   ]
  },
  {
   "cell_type": "markdown",
   "metadata": {},
   "source": [
    "##Aritmética de Intervalos de Bola"
   ]
  },
  {
   "cell_type": "markdown",
   "metadata": {},
   "source": [
    "La forma que deben tener las operaciones se puede deducir de la representación anterior de los intervalos, utilizando las ecuaciones que nos permiten pasar de una representación a otra. Si se invierten las ecuaciones, se obtiene:\n",
    "\n"
   ]
  },
  {
   "cell_type": "markdown",
   "metadata": {},
   "source": [
    "1 **Suma**\n",
    "$$[x_0,r]+[y_0,s]=[x_0+y_0,r+s]$$\n",
    "\n",
    "2 **Resta**\n",
    "$$[x_0,r]-[y_0,s]=[x_0-y_0,r+s]$$\n",
    "\n",
    "3 **Multiplicación**\n",
    "$$[x_0,r]\\times[y_0,s]=[x_0\\times y_0,|x|s+rs+r|y|]$$\n",
    "\n",
    "4 **División**\n",
    "$$\\frac{[x_0,r]}{[y_0,s]}=[\\frac{x_0}{y_0},|x|s+rs+\\frac{r}{|y|}]$$\n",
    "\n",
    "Nota: La división no está definida si $0\\in [y_0,s]$. En está representación no es factible definir la *división extendida* como se hizo para el caso de intervalos estandard. Esto se debe a la presencia de infinitos. Mientras que en el caso previo era posible tener intervalos de tipo:\n",
    "\n",
    "$$[a,\\infty)$$\n",
    "\n",
    "$$(-\\infty,b]$$\n",
    "\n",
    "En esta representación es imposible determinar un centro (no existe tal cosa como el punto medio entre un real y el infinito) y de cualquier forma el radio sería infinito lo cual convertiría al intervalo en la recta real. Esta es una limitación inherente de la representación de intervalos de bolas. Se muestran ejemplos a continuación utlizando el modulo de intervalos de bolas."
   ]
  },
  {
   "cell_type": "code",
   "execution_count": 1,
   "metadata": {
    "collapsed": false
   },
   "outputs": [],
   "source": [
    "workspace()\n",
    "using Bolas"
   ]
  },
  {
   "cell_type": "code",
   "execution_count": 15,
   "metadata": {
    "collapsed": false
   },
   "outputs": [
    {
     "data": {
      "text/plain": [
       "Bola(5,2)"
      ]
     },
     "execution_count": 15,
     "metadata": {},
     "output_type": "execute_result"
    }
   ],
   "source": [
    "A=Bola(2,1) #Se definen como Bola(centro,radio)\n",
    "B=Bola(5,2)"
   ]
  },
  {
   "cell_type": "code",
   "execution_count": 6,
   "metadata": {
    "collapsed": false
   },
   "outputs": [
    {
     "data": {
      "text/plain": [
       "Bola(1,1)"
      ]
     },
     "execution_count": 6,
     "metadata": {},
     "output_type": "execute_result"
    }
   ],
   "source": [
    "Bola(1) #El radio se toma como 1 si el usuario solo especifíca un valor"
   ]
  },
  {
   "cell_type": "code",
   "execution_count": 7,
   "metadata": {
    "collapsed": false
   },
   "outputs": [
    {
     "data": {
      "text/plain": [
       "Bola(1,1)"
      ]
     },
     "execution_count": 7,
     "metadata": {},
     "output_type": "execute_result"
    }
   ],
   "source": [
    "Bola(1,-1) #El constructor obliga a que el radio sea positivo"
   ]
  },
  {
   "cell_type": "code",
   "execution_count": 8,
   "metadata": {
    "collapsed": false
   },
   "outputs": [
    {
     "data": {
      "text/plain": [
       "Bola(7,3)"
      ]
     },
     "execution_count": 8,
     "metadata": {},
     "output_type": "execute_result"
    }
   ],
   "source": [
    "A+B"
   ]
  },
  {
   "cell_type": "code",
   "execution_count": 9,
   "metadata": {
    "collapsed": false
   },
   "outputs": [
    {
     "data": {
      "text/plain": [
       "Bola(-3,3)"
      ]
     },
     "execution_count": 9,
     "metadata": {},
     "output_type": "execute_result"
    }
   ],
   "source": [
    "A-B"
   ]
  },
  {
   "cell_type": "code",
   "execution_count": 10,
   "metadata": {
    "collapsed": false
   },
   "outputs": [
    {
     "data": {
      "text/plain": [
       "Bola(10,11.0)"
      ]
     },
     "execution_count": 10,
     "metadata": {},
     "output_type": "execute_result"
    }
   ],
   "source": [
    "A*B"
   ]
  },
  {
   "cell_type": "code",
   "execution_count": 11,
   "metadata": {
    "collapsed": false
   },
   "outputs": [
    {
     "data": {
      "text/plain": [
       "Bola(0.4,11.0)"
      ]
     },
     "execution_count": 11,
     "metadata": {},
     "output_type": "execute_result"
    }
   ],
   "source": [
    "A/B"
   ]
  },
  {
   "cell_type": "markdown",
   "metadata": {},
   "source": [
    "Toas las operaciones contienen redondeo dirigido hacia arriba al calcular el radio, ya que es necesario lograr una cobertura total del rango posible de respuestas:"
   ]
  },
  {
   "cell_type": "code",
   "execution_count": 24,
   "metadata": {
    "collapsed": false
   },
   "outputs": [
    {
     "data": {
      "text/plain": [
       "2.1"
      ]
     },
     "execution_count": 24,
     "metadata": {},
     "output_type": "execute_result"
    }
   ],
   "source": [
    "(A+.1).centro"
   ]
  },
  {
   "cell_type": "markdown",
   "metadata": {},
   "source": [
    "En el modulo se define una serie de funciones auxiliares que permiten ver si un número se encuentra contenido en una bola en particular, revisar la intersección de dos bolas, etc:"
   ]
  },
  {
   "cell_type": "code",
   "execution_count": 25,
   "metadata": {
    "collapsed": false
   },
   "outputs": [
    {
     "data": {
      "text/plain": [
       "true"
      ]
     },
     "execution_count": 25,
     "metadata": {},
     "output_type": "execute_result"
    }
   ],
   "source": [
    "contiene(A+B,A.centro+A.radio+B.centro+B.radio)"
   ]
  },
  {
   "cell_type": "code",
   "execution_count": 26,
   "metadata": {
    "collapsed": false
   },
   "outputs": [
    {
     "data": {
      "text/plain": [
       "0.125"
      ]
     },
     "execution_count": 26,
     "metadata": {},
     "output_type": "execute_result"
    }
   ],
   "source": [
    "distancia(A+.125,A)"
   ]
  },
  {
   "cell_type": "markdown",
   "metadata": {},
   "source": [
    "También se definió la exponenciación:"
   ]
  },
  {
   "cell_type": "code",
   "execution_count": 27,
   "metadata": {
    "collapsed": false
   },
   "outputs": [
    {
     "data": {
      "text/plain": [
       "Bola(4,6)"
      ]
     },
     "execution_count": 27,
     "metadata": {},
     "output_type": "execute_result"
    }
   ],
   "source": [
    "A^2"
   ]
  },
  {
   "cell_type": "code",
   "execution_count": 28,
   "metadata": {
    "collapsed": false
   },
   "outputs": [
    {
     "data": {
      "text/plain": [
       "true"
      ]
     },
     "execution_count": 28,
     "metadata": {},
     "output_type": "execute_result"
    }
   ],
   "source": [
    "contiene(A^2,(A.centro+A.radio)^2)"
   ]
  },
  {
   "cell_type": "markdown",
   "metadata": {},
   "source": [
    "Sin embargo aquí puede observarse uno de los problemas claves de utilizar la representación de intervalos de bolas: la sobre-estimación. Es muy común que la operación o función no sea simétrica en torno al centro del intervalo. Por ejemplo, dado el caso de la exponencial:\n",
    "\n",
    "$$|e^{x}-e^{x-\\delta x}|\\leq|e^{x}-e^{x+\\delta x}|$$\n",
    "\n",
    "Si se toma el intervalo solución como:\n",
    "\n",
    "$$F([x_0,r])=[F(x_0),r']$$\n",
    "\n",
    "El problema radica en encontrar el radio más pequeño que cubra todo el conjunto de puntos que se pueden obtener al aplicar la función a un punto en la bola inicial. Si en efecto se toma el centro de esta forma, se obtiene una sobre estimación en una de las dos direcciones. Al aplicar varias funciones el radio de la bola crece de forma acelerada:"
   ]
  },
  {
   "cell_type": "code",
   "execution_count": 31,
   "metadata": {
    "collapsed": false
   },
   "outputs": [
    {
     "data": {
      "text/plain": [
       "21971.86764477357"
      ]
     },
     "execution_count": 31,
     "metadata": {},
     "output_type": "execute_result"
    }
   ],
   "source": [
    "exp(A^2).radio/A.radio"
   ]
  },
  {
   "cell_type": "code",
   "execution_count": 35,
   "metadata": {
    "collapsed": false
   },
   "outputs": [
    {
     "name": "stderr",
     "output_type": "stream",
     "text": [
      "Warning: New definition \n",
      "    promote_type(Type{T<:Number},Type{Interval}) at /home/pablo1/Documents/Tareas/ProyectoFinalMNA/Intervals.jl:467\n",
      "is ambiguous with: \n",
      "    promote_type(Type{None},Type{T}) at promotion.jl:103.\n",
      "To fix, define \n",
      "    promote_type(Type{None},Type{Interval})\n",
      "before the new definition.\n",
      "Warning: New definition \n",
      "    promote_type(Type{T<:Number},Type{Interval}) at /home/pablo1/Documents/Tareas/ProyectoFinalMNA/Intervals.jl:467\n",
      "is ambiguous with: \n",
      "    promote_type(Type{T},Type{T}) at promotion.jl:101.\n",
      "To fix, define \n",
      "    promote_type(Type{_<:Number},Type{_<:Number})\n",
      "before the new definition.\n"
     ]
    }
   ],
   "source": [
    "using Intervals"
   ]
  },
  {
   "cell_type": "code",
   "execution_count": 36,
   "metadata": {
    "collapsed": false
   },
   "outputs": [
    {
     "data": {
      "text/plain": [
       "Interval(1.0,3.0)"
      ]
     },
     "execution_count": 36,
     "metadata": {},
     "output_type": "execute_result"
    }
   ],
   "source": [
    "A=Interval(1,3)"
   ]
  },
  {
   "cell_type": "code",
   "execution_count": 37,
   "metadata": {
    "collapsed": false
   },
   "outputs": [
    {
     "data": {
      "text/plain": [
       "Interval(2.718281828459045,8103.083927575384)"
      ]
     },
     "execution_count": 37,
     "metadata": {},
     "output_type": "execute_result"
    }
   ],
   "source": [
    "exp(A^2)"
   ]
  },
  {
   "cell_type": "markdown",
   "metadata": {},
   "source": [
    "La bola abarca muchos más números que los intervalos regulares. Esto podría solucionarse obteniendo los posibles extremos de la bola y calculando un nuevo centro, pero esto eliminaría la interpretación de vecindad y en ese caso sería mejor simplemente no utilizar intervalos de bolas. A continuación se presentan los cálculos para obtener los radios de algunas funciones."
   ]
  },
  {
   "cell_type": "code",
   "execution_count": null,
   "metadata": {
    "collapsed": true
   },
   "outputs": [],
   "source": []
  }
 ],
 "metadata": {
  "kernelspec": {
   "display_name": "Julia 0.3.7",
   "language": "julia",
   "name": "julia 0.3"
  },
  "language_info": {
   "name": "julia",
   "version": "0.3.8"
  }
 },
 "nbformat": 4,
 "nbformat_minor": 0
}
