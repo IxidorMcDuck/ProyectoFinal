{
 "cells": [
  {
   "cell_type": "code",
   "execution_count": 12,
   "metadata": {
    "collapsed": false
   },
   "outputs": [
    {
     "name": "stderr",
     "output_type": "stream",
     "text": [
      "Warning: New definition \n",
      "    +(Bola,Any) at /home/pablo1/Documents/Tareas/ProyectoFinalMNA/Bolas.jl:210\n",
      "is ambiguous with: \n",
      "    +(Any,Bola) at /home/pablo1/Documents/Tareas/ProyectoFinalMNA/Bolas.jl:215.\n",
      "To fix, define \n",
      "    +(Bola,Bola)\n",
      "before the new definition.\n",
      "Warning: New definition \n",
      "    +(Any,Bola) at /home/pablo1/Documents/Tareas/ProyectoFinalMNA/Bolas.jl:215\n",
      "is ambiguous with: \n",
      "    +(Bola,Any) at /home/pablo1/Documents/Tareas/ProyectoFinalMNA/Bolas.jl:210.\n",
      "To fix, define \n",
      "    +(Bola,Bola)\n",
      "before the new definition.\n",
      "Warning: New definition \n",
      "    -(Bola,Any) at /home/pablo1/Documents/Tareas/ProyectoFinalMNA/Bolas.jl:225\n",
      "is ambiguous with: \n",
      "    -(Any,Bola) at /home/pablo1/Documents/Tareas/ProyectoFinalMNA/Bolas.jl:230.\n",
      "To fix, define \n",
      "    -(Bola,Bola)\n",
      "before the new definition.\n",
      "Warning: New definition \n",
      "    -(Any,Bola) at /home/pablo1/Documents/Tareas/ProyectoFinalMNA/Bolas.jl:230\n",
      "is ambiguous with: \n",
      "    -(Bola,Any) at /home/pablo1/Documents/Tareas/ProyectoFinalMNA/Bolas.jl:225.\n",
      "To fix, define \n",
      "    -(Bola,Bola)\n",
      "before the new definition.\n",
      "Warning: New definition \n",
      "    ^(Derive,Real) at /home/pablo1/Documents/Tareas/ProyectoFinalMNA/Derivatives.jl:93\n",
      "is ambiguous with: \n",
      "    ^(Any,Integer) at intfuncs.jl:86.\n",
      "To fix, define \n",
      "    ^(Derive,Integer)\n",
      "before the new definition.\n"
     ]
    }
   ],
   "source": [
    "workspace()\n",
    "using Bolas\n",
    "using Derivatives\n"
   ]
  },
  {
   "cell_type": "code",
   "execution_count": 13,
   "metadata": {
    "collapsed": false
   },
   "outputs": [
    {
     "data": {
      "text/plain": [
       "Bola(0.6,0.4)"
      ]
     },
     "execution_count": 13,
     "metadata": {},
     "output_type": "execute_result"
    }
   ],
   "source": [
    "A=Bola(0,1)\n",
    "B=Bola(1.2,1)\n",
    "\n",
    "interseccion_de_bolas(B,A)"
   ]
  },
  {
   "cell_type": "code",
   "execution_count": 24,
   "metadata": {
    "collapsed": false
   },
   "outputs": [
    {
     "name": "stdout",
     "output_type": "stream",
     "text": [
      "i => 1\n",
      "i => 2\n",
      "i => 3\n",
      "i => 4\n",
      "i => 5\n",
      "i => 6\n",
      "i => 7\n",
      "i => 8\n",
      "i => 9\n",
      "i => 10\n",
      "i => 11\n",
      "i => 12\n",
      "i => 13\n"
     ]
    },
    {
     "data": {
      "text/plain": [
       "6-element Array{Bola,1}:\n",
       " Bola(2e+00 with 256 bits of precision,0e+00 with 256 bits of precision)                                                                                                                                                              \n",
       " Bola(1.999999997664350821622093055792080981676611382669058738736345091709838995550691e+00 with 256 bits of precision,5.148121385738302036382040596937644323401743857785310688778581873030593590355652e-33 with 256 bits of precision)\n",
       " Bola(2.000000002320964667663534151017415868427663251804391341191686175379449430995466e+00 with 256 bits of precision,4.89282716055259312168572161169287793603429287449853340978209614870585768602744e-33 with 256 bits of precision) \n",
       " Bola(3.000000000187499774743721182528282661978339109513780602681245949411271423195172e+00 with 256 bits of precision,1.379638996535498044770646635886886683896380482464596888509981851900307182792242e-41 with 256 bits of precision)\n",
       " Bola(4e+00 with 256 bits of precision,0e+00 with 256 bits of precision)                                                                                                                                                              \n",
       " Bola(4.9999999999999999682027666682574210034840534590757369825926630290765661573803e+00 with 256 bits of precision,6.203997694202451372678697588193690004664254967570479622224614385808882064124982e-59 with 256 bits of precision)  "
      ]
     },
     "execution_count": 24,
     "metadata": {},
     "output_type": "execute_result"
    }
   ],
   "source": [
    "function quitar_no_deseadas(F::Function,B,x)\n",
    "    \n",
    "    temp=Bola[]\n",
    "    dF(x)=F(makex(x)).d\n",
    "    \n",
    "    for i=1:length(B)\n",
    "        if contiene(F(B[i]),x)\n",
    "            push!(temp,B[i])\n",
    "        end\n",
    "    end\n",
    "    \n",
    "    return(temp)\n",
    "    \n",
    "    \n",
    "end\n",
    "\n",
    "function operador_de_newton_bola(F::Function,B::Bola)\n",
    "    \n",
    "    dF(x)=F(makex(x)).d\n",
    "    m=Bola(B.centro,0)\n",
    "    \n",
    "    return (m-F(m)/(dF(B)))\n",
    "    \n",
    "end   \n",
    "\n",
    "function metodo_newton_bola(F::Function, B::Bola)\n",
    "    \n",
    "    X=bisectar_bolas([B])\n",
    "    \n",
    "    i=0\n",
    "    tolbis=1e-3\n",
    "    tolradio=1e-5\n",
    "    \n",
    "    while(X[1].radio>tolbis)\n",
    "        \n",
    "        n=length(X)\n",
    "        \n",
    "        dF(x)=F(makex(x))\n",
    "\n",
    "        X=bisectar_bolas(X)\n",
    "        X=quitar_no_deseadas(F,X,0)\n",
    "\n",
    "        \n",
    "        i+=1\n",
    "        @show i\n",
    " \n",
    "    end\n",
    "    \n",
    "    while(tolradio<X[1].radio)\n",
    "        \n",
    "        for i=1:length(X)\n",
    "            X[i]=interseccion_de_bolas(B,operador_de_newton_bola(F,X[i]))\n",
    "        end\n",
    "    end\n",
    "    \n",
    "    tolsimilar = 1e-2\n",
    "    \n",
    "    \n",
    "    return(X)\n",
    "    \n",
    "end\n",
    "\n",
    "\n",
    "f(x)=(x-1)*(x-2)*(x-3)*(x-4)*(x-5)\n",
    "metodo_newton_bola(f,Bola(BigFloat(2),BigFloat(10)))"
   ]
  },
  {
   "cell_type": "code",
   "execution_count": 104,
   "metadata": {
    "collapsed": false
   },
   "outputs": [
    {
     "data": {
      "text/plain": [
       "-5.022704385489414e-7"
      ]
     },
     "execution_count": 104,
     "metadata": {},
     "output_type": "execute_result"
    }
   ],
   "source": [
    "distancia(Bola(3.000002260893497,1.4110593392949528e-15),Bola(2.999997739770821,1.4098746056536714e-15))\n",
    "f(2.999999748864685966332584026743665184890229144155282698741380181645717617816465)"
   ]
  },
  {
   "cell_type": "code",
   "execution_count": 110,
   "metadata": {
    "collapsed": false
   },
   "outputs": [
    {
     "data": {
      "text/plain": [
       "true"
      ]
     },
     "execution_count": 110,
     "metadata": {},
     "output_type": "execute_result"
    }
   ],
   "source": [
    "contiene(Bola(1.0000000018626451,1.862645149230957e-9),1)"
   ]
  },
  {
   "cell_type": "code",
   "execution_count": 86,
   "metadata": {
    "collapsed": false
   },
   "outputs": [
    {
     "ename": "LoadError",
     "evalue": "No se puede dividir por una bola que contine el 0\nwhile loading In[86], in expression starting on line 1",
     "output_type": "error",
     "traceback": [
      "No se puede dividir por una bola que contine el 0\nwhile loading In[86], in expression starting on line 1",
      "",
      " in / at /home/pablo1/Documents/Tareas/ProyectoFinalMNA/Bolas.jl:223",
      " in operador_de_newton_bola at In[78]:22"
     ]
    }
   ],
   "source": [
    "operador_de_newton_bola(f,Bola(3.0056896291766835,0.5880009079680009))"
   ]
  },
  {
   "cell_type": "code",
   "execution_count": 110,
   "metadata": {
    "collapsed": false
   },
   "outputs": [
    {
     "data": {
      "text/plain": [
       "Bola(2.3201169227365472,3.3201169227365472)"
      ]
     },
     "execution_count": 110,
     "metadata": {},
     "output_type": "execute_result"
    }
   ],
   "source": [
    "f(B)"
   ]
  },
  {
   "cell_type": "code",
   "execution_count": 51,
   "metadata": {
    "collapsed": false
   },
   "outputs": [
    {
     "data": {
      "text/plain": [
       "false"
      ]
     },
     "execution_count": 51,
     "metadata": {},
     "output_type": "execute_result"
    }
   ],
   "source": [
    "contiene(dF(B).d,0)"
   ]
  },
  {
   "cell_type": "code",
   "execution_count": 24,
   "metadata": {
    "collapsed": false
   },
   "outputs": [
    {
     "data": {
      "text/plain": [
       "1024"
      ]
     },
     "execution_count": 24,
     "metadata": {},
     "output_type": "execute_result"
    }
   ],
   "source": [
    "2^10"
   ]
  },
  {
   "cell_type": "code",
   "execution_count": 120,
   "metadata": {
    "collapsed": false
   },
   "outputs": [
    {
     "name": "stdout",
     "output_type": "stream",
     "text": [
      "X[i] = operador_de_newton_bola(F,X[i]) => Bola(0.7231301601484298,7.8019239264248)\n",
      "X[i] = operador_de_newton_bola(F,X[i]) => Bola(1.5820849986238987,68.11533257093657)\n"
     ]
    },
    {
     "data": {
      "text/plain": [
       "0-element Array{Bola,1}"
      ]
     },
     "execution_count": 120,
     "metadata": {},
     "output_type": "execute_result"
    }
   ],
   "source": [
    "function quitar_bolas_similares(B,tol::Real)\n",
    "   \n",
    "    temp=Bola[]\n",
    "    n=length(B)\n",
    "    \n",
    "    \n",
    "    \n",
    "    \n",
    "    \n",
    "end"
   ]
  },
  {
   "cell_type": "code",
   "execution_count": 77,
   "metadata": {
    "collapsed": false
   },
   "outputs": [
    {
     "data": {
      "text/plain": [
       "Bola(1.4,0.0)"
      ]
     },
     "execution_count": 77,
     "metadata": {},
     "output_type": "execute_result"
    }
   ],
   "source": [
    "interseccion_de_bolas(Bola(0.7999999999999999,0.6),Bola(1.7999999999999998,0.3999999999999999))"
   ]
  },
  {
   "cell_type": "code",
   "execution_count": 102,
   "metadata": {
    "collapsed": false
   },
   "outputs": [
    {
     "data": {
      "text/plain": [
       "1.24"
      ]
     },
     "execution_count": 102,
     "metadata": {},
     "output_type": "execute_result"
    }
   ],
   "source": [
    "f(1.2)"
   ]
  },
  {
   "cell_type": "code",
   "execution_count": null,
   "metadata": {
    "collapsed": true
   },
   "outputs": [],
   "source": []
  }
 ],
 "metadata": {
  "kernelspec": {
   "display_name": "Julia 0.3.7",
   "language": "julia",
   "name": "julia 0.3"
  },
  "language_info": {
   "name": "julia",
   "version": "0.3.8"
  }
 },
 "nbformat": 4,
 "nbformat_minor": 0
}
