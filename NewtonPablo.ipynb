{
 "cells": [
  {
   "cell_type": "code",
   "execution_count": 30,
   "metadata": {
    "collapsed": false
   },
   "outputs": [
    {
     "name": "stderr",
     "output_type": "stream",
     "text": [
      "Warning: New definition \n",
      "    +(Bola,Any) at /home/pablo1/Documents/Tareas/ProyectoFinalMNA/Bolas.jl:140\n",
      "is ambiguous with: \n",
      "    +(Any,Bola) at /home/pablo1/Documents/Tareas/ProyectoFinalMNA/Bolas.jl:141.\n",
      "To fix, define \n",
      "    +(Bola,Bola)\n",
      "before the new definition.\n",
      "Warning: New definition \n",
      "    +(Bola,Any) at /home/pablo1/Documents/Tareas/ProyectoFinalMNA/Bolas.jl:140\n",
      "is ambiguous with: \n",
      "    +(Any,Bola) at /home/pablo1/Documents/Tareas/ProyectoFinalMNA/Bolas.jl:141.\n",
      "To fix, define \n",
      "    +(Bola,Bola)\n",
      "before the new definition.\n",
      "Warning: New definition \n",
      "    +(Any,Bola) at /home/pablo1/Documents/Tareas/ProyectoFinalMNA/Bolas.jl:145\n",
      "is ambiguous with: \n",
      "    +(Bola,Any) at /home/pablo1/Documents/Tareas/ProyectoFinalMNA/Bolas.jl:136.\n",
      "To fix, define \n",
      "    +(Bola,Bola)\n",
      "before the new definition.\n",
      "Warning: New definition \n",
      "    +(Any,Bola) at /home/pablo1/Documents/Tareas/ProyectoFinalMNA/Bolas.jl:145\n",
      "is ambiguous with: \n",
      "    +(Bola,Any) at /home/pablo1/Documents/Tareas/ProyectoFinalMNA/Bolas.jl:136.\n",
      "To fix, define \n",
      "    +(Bola,Bola)\n",
      "before the new definition.\n",
      "Warning: New definition \n",
      "    -(Bola,Any) at /home/pablo1/Documents/Tareas/ProyectoFinalMNA/Bolas.jl:155\n",
      "is ambiguous with: \n",
      "    -(Any,Bola) at /home/pablo1/Documents/Tareas/ProyectoFinalMNA/Bolas.jl:156.\n",
      "To fix, define \n",
      "    -(Bola,Bola)\n",
      "before the new definition.\n",
      "Warning: New definition \n",
      "    -(Bola,Any) at /home/pablo1/Documents/Tareas/ProyectoFinalMNA/Bolas.jl:155\n",
      "is ambiguous with: \n",
      "    -(Any,Bola) at /home/pablo1/Documents/Tareas/ProyectoFinalMNA/Bolas.jl:156.\n",
      "To fix, define \n",
      "    -(Bola,Bola)\n",
      "before the new definition.\n",
      "Warning: New definition \n",
      "    -(Any,Bola) at /home/pablo1/Documents/Tareas/ProyectoFinalMNA/Bolas.jl:160\n",
      "is ambiguous with: \n",
      "    -(Bola,Any) at /home/pablo1/Documents/Tareas/ProyectoFinalMNA/Bolas.jl:151.\n",
      "To fix, define \n",
      "    -(Bola,Bola)\n",
      "before the new definition.\n",
      "Warning: New definition \n",
      "    -(Any,Bola) at /home/pablo1/Documents/Tareas/ProyectoFinalMNA/Bolas.jl:160\n",
      "is ambiguous with: \n",
      "    -(Bola,Any) at /home/pablo1/Documents/Tareas/ProyectoFinalMNA/Bolas.jl:151.\n",
      "To fix, define \n",
      "    -(Bola,Bola)\n",
      "before the new definition.\n",
      "Warning: New definition \n",
      "    ^(Derive,Real) at /home/pablo1/Documents/Tareas/ProyectoFinalMNA/Derivatives.jl:93\n",
      "is ambiguous with: \n",
      "    ^(Any,Integer) at intfuncs.jl:86.\n",
      "To fix, define \n",
      "    ^(Derive,Integer)\n",
      "before the new definition.\n"
     ]
    }
   ],
   "source": [
    "workspace()\n",
    "using Bolas\n",
    "using Derivatives\n",
    "\n"
   ]
  },
  {
   "cell_type": "code",
   "execution_count": 42,
   "metadata": {
    "collapsed": false
   },
   "outputs": [],
   "source": [
    "A=Bola(3,1)\n",
    "B=Bola(0,1)\n",
    "\n",
    "interseccion_de_bolas(B,A)"
   ]
  },
  {
   "cell_type": "code",
   "execution_count": 39,
   "metadata": {
    "collapsed": false
   },
   "outputs": [
    {
     "data": {
      "text/plain": [
       "metodo_newton (generic function with 1 method)"
      ]
     },
     "execution_count": 39,
     "metadata": {},
     "output_type": "execute_result"
    }
   ],
   "source": [
    "\n",
    "\n",
    "function metodo_newton(B::Bola,F::Function)\n",
    "    \n",
    "    df(x)=f(makex(x)) #Defino una función que me dará el valor de la derivada\n",
    "    \n",
    "\n",
    "end\n",
    "\n",
    "    "
   ]
  },
  {
   "cell_type": "code",
   "execution_count": 36,
   "metadata": {
    "collapsed": false
   },
   "outputs": [
    {
     "data": {
      "text/plain": [
       "Bola(0,0.2)"
      ]
     },
     "execution_count": 36,
     "metadata": {},
     "output_type": "execute_result"
    }
   ],
   "source": [
    "interseccion_de_bolas(B,A)"
   ]
  },
  {
   "cell_type": "code",
   "execution_count": 32,
   "metadata": {
    "collapsed": false
   },
   "outputs": [
    {
     "data": {
      "text/html": [
       "2 methods for generic function <b>contiene</b>:<ul><li> contiene(B::<b>Bola</b>,x::<b>Real</b>) at <a href=\"https://github.com/TigrisAltaica/ProyectoFinal/tree/1d016a3907d9c98b2dedc74a503a4b9264f116c5/Bolas.jl#L114\" target=\"_blank\">/home/pablo1/Documents/Tareas/ProyectoFinalMNA/Bolas.jl:114</a><li> contiene(A::<b>Bola</b>,B::<b>Bola</b>) at <a href=\"https://github.com/TigrisAltaica/ProyectoFinal/tree/1d016a3907d9c98b2dedc74a503a4b9264f116c5/Bolas.jl#L123\" target=\"_blank\">/home/pablo1/Documents/Tareas/ProyectoFinalMNA/Bolas.jl:123</a></ul>"
      ],
      "text/plain": [
       "# 2 methods for generic function \"contiene\":\n",
       "contiene(B::Bola,x::Real) at /home/pablo1/Documents/Tareas/ProyectoFinalMNA/Bolas.jl:114\n",
       "contiene(A::Bola,B::Bola) at /home/pablo1/Documents/Tareas/ProyectoFinalMNA/Bolas.jl:123"
      ]
     },
     "execution_count": 32,
     "metadata": {},
     "output_type": "execute_result"
    }
   ],
   "source": [
    "methods(contiene)"
   ]
  },
  {
   "cell_type": "code",
   "execution_count": null,
   "metadata": {
    "collapsed": true
   },
   "outputs": [],
   "source": []
  }
 ],
 "metadata": {
  "kernelspec": {
   "display_name": "Julia 0.3.7",
   "language": "julia",
   "name": "julia 0.3"
  },
  "language_info": {
   "name": "julia",
   "version": "0.3.8"
  }
 },
 "nbformat": 4,
 "nbformat_minor": 0
}
