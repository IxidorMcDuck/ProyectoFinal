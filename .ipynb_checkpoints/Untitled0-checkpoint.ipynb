{
 "metadata": {
  "language": "Julia",
  "name": "",
  "signature": "sha256:3bc183eec07e4b089f876bfcd76423c2b648f1a05a1834a56184c28d6c3163f8"
 },
 "nbformat": 3,
 "nbformat_minor": 0,
 "worksheets": [
  {
   "cells": [
    {
     "cell_type": "code",
     "collapsed": false,
     "input": [
      "using Bolas\n",
      "using FactCheck\n",
      "using BolasTest\n",
      "L=Bola(0,.1)\n",
      "contiene(L,.1)\n",
      "distancia(0,.1)\n",
      "\n",
      "  \n",
      " D=exp(Bola(2,1))\n",
      "E=sin(Bola(0,pi/4))\n",
      "println(exp(2))\n",
      "println(D)\n",
      "println(exp(1))\n",
      "println(D.centro-D.radio)\n",
      "\n",
      "println(exp(3))\n",
      "println(D.centro+D.radio)\n",
      "contiene(D,exp(3))\n",
      "contiene(E,sin(-pi/4))\n",
      "E"
     ],
     "language": "python",
     "metadata": {},
     "outputs": [
      {
       "output_type": "stream",
       "stream": "stdout",
       "text": [
        "Prueba b\u00e1sicas de Bolas:\n",
        "2 facts verified.\n"
       ]
      },
      {
       "output_type": "stream",
       "stream": "stdout",
       "text": [
        "Pruebas de funciones para bolas :\n",
        "7 facts verified.\n"
       ]
      },
      {
       "output_type": "stream",
       "stream": "stdout",
       "text": [
        "Prueba b\u00e1sicas de aritm\u00e9tica:\n",
        "16 facts verified.\n"
       ]
      },
      {
       "output_type": "stream",
       "stream": "stdout",
       "text": [
        "Pruebas de funciones elementales:\n",
        "  Failure"
       ]
      },
      {
       "output_type": "stream",
       "stream": "stdout",
       "text": [
        "   :: (line:-1) :: got Bola(0"
       ]
      },
      {
       "output_type": "stream",
       "stream": "stdout",
       "text": [
        ".0,0.8414709848078965)\n",
        "    sin(E) => Bola(0,1)\n",
        "  Failure   :: (line:-1) :: got Bola(1.0,0.45969769413186023)\n",
        "    cos(E) => Bola(1,0)\n",
        "  Failure"
       ]
      },
      {
       "output_type": "stream",
       "stream": "stdout",
       "text": [
        "   :: (line:-1) :: got Bola(1.5707963267948966,1.0)\n",
        "    acos(E) => Bola(acos(BigFloat(0)),1)\n",
        "  Failure   :: (line:-1) :: got Bola(0.7853981633974483,0.5)\n",
        "    atan(C) => Bola(atan(BigFloat(1)),0.5)\n",
        "  Failure   :: (line:-1) :: got Bola(0.7853981633974483,0.5)\n",
        "    acot(C) => Bola(atan(BigFloat(1)),0.5)\n",
        "  Error"
       ]
      },
      {
       "output_type": "stream",
       "stream": "stdout",
       "text": [
        "   :: (line:-1)\n",
        "    asec(C) => Bola(0,Inf)\n",
        "DomainError\n",
        "Cannot raise an integer x to a negative power -n. Make x a float by adding\n",
        "a zero decimal (e.g. 2.0^-n instead of 2^-n), or write 1/x^n, float(x)^-n, or (x//1)^-n\n",
        " in power_by_squaring at intfuncs.jl:60\n",
        " in ^ at intfuncs.jl:84\n",
        " in asec at /home/ixidor/Escritorio/juliaclase/Proyecto final/ProyectoFinal/Bolas.jl:253\n",
        " in anonymous at /home/ixidor/.julia/v0.3/FactCheck/src/FactCheck.jl:142\n",
        " in do_fact at /home/ixidor/.julia/v0.3/FactCheck/src/FactCheck.jl:201\n",
        " in anonymous at /home/ixidor/Escritorio/juliaclase/Proyecto final/ProyectoFinal/BolasTest.jl:142\n"
       ]
      },
      {
       "output_type": "stream",
       "stream": "stdout",
       "text": [
        " in facts at /home/ixidor/.julia/v0.3/FactCheck/src/FactCheck.jl:315\n",
        " in include at ./boot.jl:245\n",
        " in include_from_node1 at ./loading.jl:128\n",
        " in reload_path at loading.jl:152\n",
        " in _require at loading.jl:67\n",
        " in require at loading.jl:51\n",
        " in include_string at loading.jl:97\n",
        " in execute_request_0x535c5df2 at /home/ixidor/.julia/v0.3/IJulia/src/execute_request.jl:160\n",
        " in eventloop at /home/ixidor/.julia/v0.3/IJulia/src/IJulia.jl:123\n",
        " in anonymous at task.jl:340\n",
        "  Error   :: (line:-1)\n",
        "    acsc(C) => Bola(acsc(BigFloat(1)),Inf)\n",
        "DomainError\n",
        "Cannot raise an integer x to a negative power -n. Make x a float by adding\n",
        "a zero decimal (e.g. 2.0^-n instead of 2^-n), or write 1/x^n, float(x)^-n, or (x//1)^-n\n",
        " in power_by_squaring at intfuncs.jl:60\n",
        " in ^ at intfuncs.jl:84\n",
        " in acsc at /home/ixidor/Escritorio/juliaclase/Proyecto final/ProyectoFinal/Bolas.jl:257\n",
        " in anonymous at /home/ixidor/.julia/v0.3/FactCheck/src/FactCheck.jl:142\n",
        " in do_fact at /home/ixidor/.julia/v0.3/FactCheck/src/FactCheck.jl:201\n",
        " in anonymous at /home/ixidor/Escritorio/juliaclase/Proyecto final/ProyectoFinal/BolasTest.jl:142\n",
        " in facts at /home/ixidor/.julia/v0.3/FactCheck/src/FactCheck.jl:315\n",
        " in include at ./boot.jl:245\n",
        " in include_from_node1 at ./loading.jl:128\n",
        " in reload_path at loading.jl:152\n",
        " in _require at loading.jl:67\n",
        " in require at loading.jl:51\n",
        " in include_string at loading.jl:97\n",
        " in execute_request_0x535c5df2 at /home/ixidor/.julia/v0.3/IJulia/src/execute_request.jl:160\n",
        " in eventloop at /home/ixidor/.julia/v0.3/IJulia/src/IJulia.jl:123\n",
        " in anonymous at task.jl:340\n",
        "  Failure"
       ]
      },
      {
       "output_type": "stream",
       "stream": "stdout",
       "text": [
        "   :: (line:-1) :: got Bola(1.0,1.718281828459045)\n",
        "    exp(E) => Bola(1,1)\n",
        "  Failure   :: (line:-1) :: got Bola(0.0,Inf)\n",
        "    log(C) => Bola(0,1)\n",
        "Out of 20 total facts:\n",
        "  Verified: 11\n",
        "  Failed:   7\n",
        "  Errored:  2\n",
        "7.38905609893065\n",
        "Bola(7.38905609893065,12.696480824257018)\n",
        "2.718281828459045\n",
        "-5.307424725326367\n",
        "20.085536923187668\n",
        "20.085536923187668\n"
       ]
      },
      {
       "metadata": {},
       "output_type": "pyout",
       "prompt_number": 1,
       "text": [
        "Bola(0.0,0.7071067811865475)"
       ]
      }
     ],
     "prompt_number": 1
    },
    {
     "cell_type": "code",
     "collapsed": false,
     "input": [
      "using Bolas\n",
      "using FactCheck\n",
      "\n",
      "facts(\"Prueba b\u00e1sicas de Bolas:\") do\n",
      "\n",
      "    @fact Bola(pi/2) => Bola(pi/2,1)\n",
      "    @fact Bola(2,-2) => Bola(2,2)\n",
      "    \n",
      "end\n",
      "\n",
      "facts(\"Pruebas de funciones elementales:\") do\n",
      "    \n",
      "        \n",
      "    \n",
      "    B=Bola(1/sqrt(2),1/sqrt(2))\n",
      "    C=Bola(1,1)\n",
      "    D=Bola(sqrt(2),1)\n",
      "    E=Bola(0,1)\n",
      "    \n",
      "    @fact sin(E) => Bola(0,1)\n",
      "    @fact cos(E) => Bola(1,0)\n",
      "    @fact tan(E) => Bola(0,1)\n",
      "    @fact cot(E) => Bola(Inf,Inf)\n",
      "    @fact sec(E) => Bola(1,0)\n",
      "    @fact csc(E) => Bola(Inf,Inf)\n",
      "    \n",
      "    @fact asin(E) => Bola(0,1)\n",
      "    @fact acos(E) => Bola(acos(BigFloat(0)),1)\n",
      "    @fact atan(C) => Bola(atan(BigFloat(1)),.5)\n",
      "    @fact acot(C) => Bola(atan(BigFloat(1)),.5)\n",
      "    @fact asec(C) => Bola(0,Inf)\n",
      "    @fact acsc(C) => Bola(acsc(BigFloat(1)),Inf)\n",
      "    \n",
      "    @fact sinh(E) => Bola(0,1)\n",
      "    @fact cosh(E) => Bola(1,0)\n",
      "    @fact tanh(E) => Bola(0,1)\n",
      "    @fact coth(E) => Bola(Inf,Inf)\n",
      "    @fact sech(E) => Bola(1,0)\n",
      "    @fact csch(E) => Bola(Inf,Inf)\n",
      "    \n",
      "    @fact exp(E) => Bola(1,1)\n",
      "    @fact log(C) => Bola(0,1)\n",
      "    \n",
      "    \n",
      "   \n",
      "\n",
      "    \n",
      "end\n",
      "\n",
      "\n",
      "\n",
      "methods(roughly)\n",
      "isapprox(1,1.000001)\n",
      "Bola(pi/1)"
     ],
     "language": "python",
     "metadata": {},
     "outputs": [
      {
       "output_type": "stream",
       "stream": "stdout",
       "text": [
        "Prueba b\u00e1sicas de Bolas:\n",
        "2 facts verified.\n"
       ]
      },
      {
       "output_type": "stream",
       "stream": "stdout",
       "text": [
        "Pruebas de funciones elementales:\n",
        "20 facts verified.\n"
       ]
      },
      {
       "metadata": {},
       "output_type": "pyout",
       "prompt_number": 54,
       "text": [
        "Bola(3.141592653589793000000000000000000000000000000000000000000000000000000000000012e+00 with 256 bits of precision,1e+00 with 256 bits of precision)"
       ]
      }
     ],
     "prompt_number": 54
    },
    {
     "cell_type": "code",
     "collapsed": false,
     "input": [
      "type Bola\n",
      "    \n",
      "    centro\n",
      "    radio\n",
      "   \n",
      "    Bola(c) = new(BigFloat(\"$c\"),BigFloat(1))\n",
      "   \n",
      "    \n",
      "    function Bola(c,r)\n",
      "    C=BigFloat(\"$c\")\n",
      "    R=BigFloat(\"$r\")\n",
      "        return new(C,abs(R))\n",
      "    end\n",
      "    \n",
      "    \n",
      "end"
     ],
     "language": "python",
     "metadata": {},
     "outputs": [],
     "prompt_number": 18
    },
    {
     "cell_type": "code",
     "collapsed": false,
     "input": [
      "Bola(-.123456789101112131415,-2)"
     ],
     "language": "python",
     "metadata": {},
     "outputs": [
      {
       "metadata": {},
       "output_type": "pyout",
       "prompt_number": 41,
       "text": [
        "Bola(-1.234567891011121299999999999999999999999999999999999999999999999999999999999999e-01 with 256 bits of precision,2e+00 with 256 bits of precision)"
       ]
      }
     ],
     "prompt_number": 41
    },
    {
     "cell_type": "code",
     "collapsed": false,
     "input": [
      "BigFloat(-.123456789101112131415)"
     ],
     "language": "python",
     "metadata": {},
     "outputs": [
      {
       "metadata": {},
       "output_type": "pyout",
       "prompt_number": 40,
       "text": [
        "-1.2345678910111212989164641840034164488315582275390625e-01 with 256 bits of precision"
       ]
      }
     ],
     "prompt_number": 40
    },
    {
     "cell_type": "code",
     "collapsed": false,
     "input": [
      "exp(Bola(1,.1))"
     ],
     "language": "python",
     "metadata": {},
     "outputs": [
      {
       "metadata": {},
       "output_type": "pyout",
       "prompt_number": 4,
       "text": [
        "Bola(2.718281828459045235360287471352662497757247093699959574966967627724076630353589e+00 with 256 bits of precision,2.71828182845904523536028747135266249775724709369995957496696762772407663035358e-01 with 256 bits of precision)"
       ]
      }
     ],
     "prompt_number": 4
    },
    {
     "cell_type": "code",
     "collapsed": false,
     "input": [
      "exp(.9)"
     ],
     "language": "python",
     "metadata": {},
     "outputs": [
      {
       "metadata": {},
       "output_type": "pyout",
       "prompt_number": 6,
       "text": [
        "2.45960311115695"
       ]
      }
     ],
     "prompt_number": 6
    },
    {
     "cell_type": "code",
     "collapsed": false,
     "input": [
      "function intersection(A::Bola,B::Bola)\n",
      "    h=Array(BigFloat,4)\n",
      "    ord=Array(BigFloat,4)\n",
      "    inter=Array(BigFloat,2)\n",
      "\n",
      "    if A==B\n",
      "        return A\n",
      "    end\n",
      "    \n",
      "    h[1]=(A.centro-A.radio)\n",
      "h[2]=(A.centro+A.radio)\n",
      "h[3]=(B.centro-B.radio)\n",
      "h[4]=(B.centro+B.radio)\n",
      "    ord[1]=minimum(h)\n",
      "    ord[4]=maximum(h)\n",
      "    \n",
      "    \n",
      "    \n",
      "    j=1\n",
      "    for i=1:4\n",
      "        \n",
      "        if h[i]!= minimum(h) && h[i]!= maximum(h)\n",
      "            inter[j]=h[i]\n",
      "       j=j+1\n",
      "        end\n",
      "    end\n",
      "    \n",
      "    \n",
      "    if inter[1]<= inter[2]\n",
      "        ord[2]=inter[1]\n",
      "        ord[3]=inter[2]\n",
      "    else\n",
      "        ord[2]=inter[2]\n",
      "        ord[3]=inter[1]\n",
      "    end\n",
      "    \n",
      "    \n",
      "    if (A.centro-A.radio)==ord[1]\n",
      "        \n",
      "        if (A.centro+A.radio)==ord[2]\n",
      "            return 0\n",
      "            else\n",
      "            return Bola((ord[2]+ord[3])/2,(ord[3]-ord[2])/2) \n",
      "        end\n",
      "        \n",
      "        elseif (A.centro-A.radio)==ord[2]\n",
      "        \n",
      "        return Bola((ord[2]+ord[3])/2,(ord[3]-ord[2])/2)\n",
      "        \n",
      "        elseif (A.centro-A.radio)==ord[3]\n",
      "        \n",
      "        return 0\n",
      "    end\n",
      "\n",
      "end\n",
      "\n",
      "function N(X,g,dg,x)\n",
      "x-(g(x)*(dg(X)^-1))\n",
      "end\n",
      "\n",
      "\n",
      "\n",
      "\n",
      "function NOperator(X,g,dg)\n",
      "m=X.centro\n",
      "N(X,g,dg,m)\n",
      "end\n",
      "\n",
      "\n",
      "function intervalRoot(X,g,dg)\n",
      "    if (dg(X).centro+dg(X).radio)*(dg(X).centro-dg(X).radio)<0\n",
      "        X1=Bola((X.centro-X.radio-.0000000000000000000000000000000000001)/2,(-.0000000000000000000000000000000000001-(X.centro-X.radio))/2)\n",
      "        X2=Bola(X.centro+X.radio/2,(X.centro+X.radio)/2)\n",
      "    \n",
      "        \n",
      "        \n",
      "         if intersection(X1,NOperator(X1,g,dg))==0\n",
      "            println(\"no hay raiz en el intervalo negativo\")\n",
      "         else\n",
      "         Y=intersection(X1,NOperator(X1,g,dg))\n",
      "            \n",
      "         while Y !=0 && (2*Y.radio) > .0000001   \n",
      "         Y=intersection(Y,NOperator(Y,g,dg))\n",
      "         end \n",
      "            if Y==0\n",
      "            println(\"no hay raiz en el intervalo negativo\")\n",
      "            else\n",
      "            println(Y)\n",
      "            end\n",
      "         end\n",
      "        \n",
      "        if intersection(X2,NOperator(X2,g,dg))==0\n",
      "            println(\"no hay raiz en el intervalo positivo\")\n",
      "        else\n",
      "        Y=intersection(X2,NOperator(X2,g,dg))\n",
      "    \n",
      "        while Y !=0 && (2*Y.radio) > .0000001     \n",
      "      \n",
      "        Y=intersection(Y,NOperator(Y,g,dg))\n",
      "      \n",
      "        end    \n",
      "            if Y==0\n",
      "                println(\"no hay raiz en el intervalo positivo\")\n",
      "            else\n",
      "            println(Y)\n",
      "            end\n",
      "      \n",
      "        end\n",
      "        \n",
      "   else   \n",
      "    \n",
      "    if intersection(X,NOperator(X,g,dg))==0\n",
      "        println(\"no hay raiz en el intervalo\")\n",
      "    else\n",
      "      Y=intersection(X,NOperator(X,g,dg))\n",
      "    \n",
      "    while Y !=0 && (2*Y.radio) > .0000001      \n",
      "      \n",
      "        Y=intersection(Y,NOperator(Y,g,dg))\n",
      "      \n",
      "    end    \n",
      "              if Y==0\n",
      "            println(\"no hay raiz en el intervalo negativo\")\n",
      "            else\n",
      "                return Y\n",
      "            end\n",
      "      \n",
      "    end\n",
      "    end\n",
      "    \n",
      "end\n",
      "\n"
     ],
     "language": "python",
     "metadata": {},
     "outputs": [
      {
       "metadata": {},
       "output_type": "pyout",
       "prompt_number": 14,
       "text": [
        "intervalRoot (generic function with 1 method)"
       ]
      }
     ],
     "prompt_number": 14
    },
    {
     "cell_type": "code",
     "collapsed": false,
     "input": [
      "O=Bola(0,3)\n",
      "P=Bola(4,1)\n",
      "f(x)=(x^2-2)\n",
      "df(x)=2*x\n",
      "intervalRoot(O,f,df)"
     ],
     "language": "python",
     "metadata": {},
     "outputs": [
      {
       "output_type": "stream",
       "stream": "stdout",
       "text": [
        "Bola("
       ]
      },
      {
       "output_type": "stream",
       "stream": "stdout",
       "text": [
        "-1.414213562374689910626295771203519111797959401718846618343337904269568492239668e+00 with 256 bits of precision,6.217560405304473664677515773678240237164538330618471372974592961000426486021561e-12 with 256 bits of precision)\n",
        "Bola(1.414213562374689910626295771203519111797959401718846618343337904269568492239668e+00 with 256 bits of precision,6.217560405304473664677515773678240237164538330618471372974592961000426486021561e-12 with 256 bits of precision)\n"
       ]
      }
     ],
     "prompt_number": 15
    },
    {
     "cell_type": "code",
     "collapsed": false,
     "input": [],
     "language": "python",
     "metadata": {},
     "outputs": []
    }
   ],
   "metadata": {}
  }
 ]
}