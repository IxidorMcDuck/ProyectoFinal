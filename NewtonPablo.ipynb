{
 "cells": [
  {
   "cell_type": "code",
   "execution_count": 1,
   "metadata": {
    "collapsed": false
   },
   "outputs": [
    {
     "name": "stderr",
     "output_type": "stream",
     "text": [
      "Warning: New definition \n",
      "    ^(Derive,Real) at /home/pablo1/Documents/Tareas/ProyectoFinalMNA/Derivatives.jl:93\n",
      "is ambiguous with: \n",
      "    ^(Any,Integer) at intfuncs.jl:86.\n",
      "To fix, define \n",
      "    ^(Derive,Integer)\n",
      "before the new definition.\n"
     ]
    }
   ],
   "source": [
    "workspace()\n",
    "using Bolas\n",
    "using Derivatives\n"
   ]
  },
  {
   "cell_type": "code",
   "execution_count": 3,
   "metadata": {
    "collapsed": false
   },
   "outputs": [
    {
     "data": {
      "text/plain": [
       "Bola(0.6,0.4)"
      ]
     },
     "execution_count": 3,
     "metadata": {},
     "output_type": "execute_result"
    }
   ],
   "source": [
    "A=Bola(0,1)\n",
    "B=Bola(1.2,1)\n",
    "\n",
    "interseccion_de_bolas(B,A)"
   ]
  },
  {
   "cell_type": "code",
   "execution_count": 109,
   "metadata": {
    "collapsed": false
   },
   "outputs": [
    {
     "data": {
      "text/plain": [
       "6-element Array{Bola,1}:\n",
       " Bola(0.9999999981373549,1.862645149230957e-9)\n",
       " Bola(1.0000000018626451,1.862645149230957e-9)\n",
       " Bola(1.9999999981373549,1.862645149230957e-9)\n",
       " Bola(2.000000001862645,1.862645149230957e-9) \n",
       " Bola(2.999999998137355,1.862645149230957e-9) \n",
       " Bola(3.000000001862645,1.862645149230957e-9) "
      ]
     },
     "execution_count": 109,
     "metadata": {},
     "output_type": "execute_result"
    }
   ],
   "source": [
    "function quitar_no_deseadas(F::Function,B,x)\n",
    "    \n",
    "    temp=Bola[]\n",
    "    dF(x)=F(makex(x)).d\n",
    "    \n",
    "    for i=1:length(B)\n",
    "        if contiene(F(B[i]),x)\n",
    "            push!(temp,B[i])\n",
    "        end\n",
    "    end\n",
    "    \n",
    "    return(temp)\n",
    "    \n",
    "    \n",
    "end\n",
    "\n",
    "function operador_de_newton_bola(F::Function,B::Bola)\n",
    "    \n",
    "    dF(x)=F(makex(x)).d\n",
    "    m=Bola(B.centro,0)\n",
    "    \n",
    "    return (m-F(m)/(dF(B)))\n",
    "    \n",
    "end   \n",
    "\n",
    "function metodo_newton_bola(F::Function, B::Bola)\n",
    "    \n",
    "    X=bisectar_bolas([B])\n",
    "    \n",
    "    for j=1:30\n",
    "        \n",
    "        dF(x)=F(makex(x))\n",
    "\n",
    "        X=bisectar_bolas(X)\n",
    "        X=quitar_no_deseadas(F,X,0)\n",
    " \n",
    "    end\n",
    "    \n",
    "    \n",
    "    return(X)\n",
    "    \n",
    "end\n",
    "\n",
    "\n",
    "f(x)=(x-1)*(x-2)*(x-3)\n",
    "metodo_newton_bola(f,Bola(2,4))"
   ]
  },
  {
   "cell_type": "code",
   "execution_count": 104,
   "metadata": {
    "collapsed": false
   },
   "outputs": [
    {
     "data": {
      "text/plain": [
       "-5.022704385489414e-7"
      ]
     },
     "execution_count": 104,
     "metadata": {},
     "output_type": "execute_result"
    }
   ],
   "source": [
    "distancia(Bola(3.000002260893497,1.4110593392949528e-15),Bola(2.999997739770821,1.4098746056536714e-15))\n",
    "f(2.999999748864685966332584026743665184890229144155282698741380181645717617816465)"
   ]
  },
  {
   "cell_type": "code",
   "execution_count": 110,
   "metadata": {
    "collapsed": false
   },
   "outputs": [
    {
     "data": {
      "text/plain": [
       "true"
      ]
     },
     "execution_count": 110,
     "metadata": {},
     "output_type": "execute_result"
    }
   ],
   "source": [
    "contiene(Bola(1.0000000018626451,1.862645149230957e-9),1)"
   ]
  },
  {
   "cell_type": "code",
   "execution_count": 86,
   "metadata": {
    "collapsed": false
   },
   "outputs": [
    {
     "ename": "LoadError",
     "evalue": "No se puede dividir por una bola que contine el 0\nwhile loading In[86], in expression starting on line 1",
     "output_type": "error",
     "traceback": [
      "No se puede dividir por una bola que contine el 0\nwhile loading In[86], in expression starting on line 1",
      "",
      " in / at /home/pablo1/Documents/Tareas/ProyectoFinalMNA/Bolas.jl:223",
      " in operador_de_newton_bola at In[78]:22"
     ]
    }
   ],
   "source": [
    "operador_de_newton_bola(f,Bola(3.0056896291766835,0.5880009079680009))"
   ]
  },
  {
   "cell_type": "code",
   "execution_count": 110,
   "metadata": {
    "collapsed": false
   },
   "outputs": [
    {
     "data": {
      "text/plain": [
       "Bola(2.3201169227365472,3.3201169227365472)"
      ]
     },
     "execution_count": 110,
     "metadata": {},
     "output_type": "execute_result"
    }
   ],
   "source": [
    "f(B)"
   ]
  },
  {
   "cell_type": "code",
   "execution_count": 51,
   "metadata": {
    "collapsed": false
   },
   "outputs": [
    {
     "data": {
      "text/plain": [
       "false"
      ]
     },
     "execution_count": 51,
     "metadata": {},
     "output_type": "execute_result"
    }
   ],
   "source": [
    "contiene(dF(B).d,0)"
   ]
  },
  {
   "cell_type": "code",
   "execution_count": 24,
   "metadata": {
    "collapsed": false
   },
   "outputs": [
    {
     "data": {
      "text/plain": [
       "1024"
      ]
     },
     "execution_count": 24,
     "metadata": {},
     "output_type": "execute_result"
    }
   ],
   "source": [
    "2^10"
   ]
  },
  {
   "cell_type": "code",
   "execution_count": 120,
   "metadata": {
    "collapsed": false
   },
   "outputs": [
    {
     "name": "stdout",
     "output_type": "stream",
     "text": [
      "X[i] = operador_de_newton_bola(F,X[i]) => Bola(0.7231301601484298,7.8019239264248)\n",
      "X[i] = operador_de_newton_bola(F,X[i]) => Bola(1.5820849986238987,68.11533257093657)\n"
     ]
    },
    {
     "data": {
      "text/plain": [
       "0-element Array{Bola,1}"
      ]
     },
     "execution_count": 120,
     "metadata": {},
     "output_type": "execute_result"
    }
   ],
   "source": []
  },
  {
   "cell_type": "code",
   "execution_count": 77,
   "metadata": {
    "collapsed": false
   },
   "outputs": [
    {
     "data": {
      "text/plain": [
       "Bola(1.4,0.0)"
      ]
     },
     "execution_count": 77,
     "metadata": {},
     "output_type": "execute_result"
    }
   ],
   "source": [
    "interseccion_de_bolas(Bola(0.7999999999999999,0.6),Bola(1.7999999999999998,0.3999999999999999))"
   ]
  },
  {
   "cell_type": "code",
   "execution_count": 102,
   "metadata": {
    "collapsed": false
   },
   "outputs": [
    {
     "data": {
      "text/plain": [
       "1.24"
      ]
     },
     "execution_count": 102,
     "metadata": {},
     "output_type": "execute_result"
    }
   ],
   "source": [
    "f(1.2)"
   ]
  },
  {
   "cell_type": "code",
   "execution_count": null,
   "metadata": {
    "collapsed": true
   },
   "outputs": [],
   "source": []
  }
 ],
 "metadata": {
  "kernelspec": {
   "display_name": "Julia 0.3.7",
   "language": "julia",
   "name": "julia 0.3"
  },
  "language_info": {
   "name": "julia",
   "version": "0.3.8"
  }
 },
 "nbformat": 4,
 "nbformat_minor": 0
}
