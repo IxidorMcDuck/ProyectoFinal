{
 "metadata": {
  "kernelspec": {
   "display_name": "Julia 0.3.7",
   "language": "julia",
   "name": "julia 0.3"
  },
  "language": "Julia",
  "language_info": {
   "name": "julia",
   "version": "0.3.7"
  },
  "name": "",
  "signature": "sha256:32900aae39478b0783714b76e985e13118f8b0eea65fb51a2467810bbcbaddfa"
 },
 "nbformat": 3,
 "nbformat_minor": 0,
 "worksheets": [
  {
<<<<<<< HEAD
   "cells": [
    {
     "cell_type": "code",
     "collapsed": true,
     "input": [],
     "language": "python",
     "metadata": {},
     "outputs": [],
     "prompt_number": 4
    },
    {
     "cell_type": "code",
     "collapsed": false,
     "input": [
      "workspace()\n",
      "using Bolas\n",
      "using FactCheck\n",
      "using BolasTest"
     ],
     "language": "python",
     "metadata": {},
     "outputs": [
      {
       "output_type": "stream",
       "stream": "stderr",
       "text": [
        "Warning: Method definition IPv4(String"
       ]
      },
      {
       "output_type": "stream",
       "stream": "stderr",
       "text": [
        ",) in module Compat at /home/ixidor/.julia/v0.3/Compat/src/Compat.jl:31 overwritten in module Compat at /home/ixidor/.julia/v0.3/Compat/src/Compat.jl:31.\n",
        "Warning: Method definition IPv6(String,) in module Compat at /home/ixidor/.julia/v0.3/Compat/src/Compat.jl:32 overwritten in module Compat at /home/ixidor/.julia/v0.3/Compat/src/Compat.jl:32.\n",
        "Warning: Method definition isless(T<:IpAddr,T<:IpAddr) in module Compat at /home/ixidor/.julia/v0.3/Compat/src/Compat.jl:37 overwritten in module Compat at /home/ixidor/.julia/v0.3/Compat/src/Compat.jl:37.\n",
        "Warning: Method definition Dict(Any,) in module Compat at /home/ixidor/.julia/v0.3/Compat/src/Compat.jl:49 overwritten in module Compat at /home/ixidor/.julia/v0.3/Compat/src/Compat.jl:49.\n",
        "Warning: Method definition round(Type{T<:Integer},Integer) in module Compat at /home/ixidor/.julia/v0.3/Compat/src/Compat.jl:65 overwritten in module Compat at /home/ixidor/.julia/v0.3/Compat/src/Compat.jl:65.\n",
        "Warning: Method definition round(Type{T<:Integer},Real) in module Compat at /home/ixidor/.julia/v0.3/Compat/src/Compat.jl:66 overwritten in module Compat at /home/ixidor/.julia/v0.3/Compat/src/Compat.jl:66.\n",
        "Warning: Method definition round(Type{T<:Integer},Rational{T<:Integer}) in module Compat at /home/ixidor/.julia/v0.3/Compat/src/Compat.jl:67 overwritten in module Compat at /home/ixidor/.julia/v0.3/Compat/src/Compat.jl:67.\n",
        "Warning: Method definition round(Type{T},AbstractArray{R,1}) in module Compat at /home/ixidor/.julia/v0.3/Compat/src/Compat.jl:69 overwritten in module Compat at /home/ixidor/.julia/v0.3/Compat/src/Compat.jl:69.\n",
        "Warning: Method definition round(Type{T},AbstractArray{R,2}) in module Compat at /home/ixidor/.julia/v0.3/Compat/src/Compat.jl:72 overwritten in module Compat at /home/ixidor/.julia/v0.3/Compat/src/Compat.jl:72.\n",
        "Warning: Method definition round(Type{T},AbstractArray{T,N}) in module Compat at /home/ixidor/.julia/v0.3/Compat/src/Compat.jl:75 overwritten in module Compat at /home/ixidor/.julia/v0.3/Compat/src/Compat.jl:75.\n",
        "Warning: Method definition ceil(Type{T<:Integer},Integer) in module Compat at /home/ixidor/.julia/v0.3/Compat/src/Compat.jl:65 overwritten in module Compat at /home/ixidor/.julia/v0.3/Compat/src/Compat.jl:65.\n",
        "Warning: Method definition ceil(Type{T<:Integer},Real) in module Compat at /home/ixidor/.julia/v0.3/Compat/src/Compat.jl:66 overwritten in module Compat at /home/ixidor/.julia/v0.3/Compat/src/Compat.jl:66.\n",
        "Warning: Method definition ceil(Type{T<:Integer},Rational{T<:Integer}) in module Compat at /home/ixidor/.julia/v0.3/Compat/src/Compat.jl:67 overwritten in module Compat at /home/ixidor/.julia/v0.3/Compat/src/Compat.jl:67.\n",
        "Warning: Method definition ceil(Type{T},AbstractArray{R,1}) in module Compat at /home/ixidor/.julia/v0.3/Compat/src/Compat.jl:69 overwritten in module Compat at /home/ixidor/.julia/v0.3/Compat/src/Compat.jl:69.\n",
        "Warning: Method definition ceil(Type{T},AbstractArray{R,2}) in module Compat at /home/ixidor/.julia/v0.3/Compat/src/Compat.jl:72 overwritten in module Compat at /home/ixidor/.julia/v0.3/Compat/src/Compat.jl:72.\n",
        "Warning: Method definition ceil(Type{T},AbstractArray{T,N}) in module Compat at /home/ixidor/.julia/v0.3/Compat/src/Compat.jl:75 overwritten in module Compat at /home/ixidor/.julia/v0.3/Compat/src/Compat.jl:75.\n",
        "Warning: Method definition floor(Type{T<:Integer},Integer) in module Compat at /home/ixidor/.julia/v0.3/Compat/src/Compat.jl:65 overwritten in module Compat at /home/ixidor/.julia/v0.3/Compat/src/Compat.jl:65.\n",
        "Warning: Method definition floor(Type{T<:Integer},Real) in module Compat at /home/ixidor/.julia/v0.3/Compat/src/Compat.jl:66 overwritten in module Compat at /home/ixidor/.julia/v0.3/Compat/src/Compat.jl:66.\n",
        "Warning: Method definition floor(Type{T<:Integer},Rational{T<:Integer}) in module Compat at /home/ixidor/.julia/v0.3/Compat/src/Compat.jl:67 overwritten in module Compat at /home/ixidor/.julia/v0.3/Compat/src/Compat.jl:67.\n",
        "Warning: Method definition floor(Type{T},AbstractArray{R,1}) in module Compat at /home/ixidor/.julia/v0.3/Compat/src/Compat.jl:69 overwritten in module Compat at /home/ixidor/.julia/v0.3/Compat/src/Compat.jl:69.\n",
        "Warning: Method definition floor(Type{T},AbstractArray{R,2}) in module Compat at /home/ixidor/.julia/v0.3/Compat/src/Compat.jl:72 overwritten in module Compat at /home/ixidor/.julia/v0.3/Compat/src/Compat.jl:72.\n",
        "Warning: Method definition floor(Type{T},AbstractArray{T,N}) in module Compat at /home/ixidor/.julia/v0.3/Compat/src/Compat.jl:75 overwritten in module Compat at /home/ixidor/.julia/v0.3/Compat/src/Compat.jl:75.\n",
        "Warning: Method definition trunc(Type{T<:Integer},Integer) in module Compat at /home/ixidor/.julia/v0.3/Compat/src/Compat.jl:65 overwritten in module Compat at /home/ixidor/.julia/v0.3/Compat/src/Compat.jl:65.\n",
        "Warning: Method definition trunc(Type{T<:Integer},Real) in module Compat at /home/ixidor/.julia/v0.3/Compat/src/Compat.jl:66 overwritten in module Compat at /home/ixidor/.julia/v0.3/Compat/src/Compat.jl:66.\n",
        "Warning: Method definition trunc(Type{T<:Integer},Rational{T<:Integer}) in module Compat at /home/ixidor/.julia/v0.3/Compat/src/Compat.jl:67 overwritten in module Compat at /home/ixidor/.julia/v0.3/Compat/src/Compat.jl:67.\n",
        "Warning: Method definition trunc(Type{T},AbstractArray{R,1}) in module Compat at /home/ixidor/.julia/v0.3/Compat/src/Compat.jl:69 overwritten in module Compat at /home/ixidor/.julia/v0.3/Compat/src/Compat.jl:69.\n",
        "Warning: Method definition trunc(Type{T},AbstractArray{R,2}) in module Compat at /home/ixidor/.julia/v0.3/Compat/src/Compat.jl:72 overwritten in module Compat at /home/ixidor/.julia/v0.3/Compat/src/Compat.jl:72.\n",
        "Warning: Method definition trunc(Type{T},AbstractArray{T,N}) in module Compat at /home/ixidor/.julia/v0.3/Compat/src/Compat.jl:75 overwritten in module Compat at /home/ixidor/.julia/v0.3/Compat/src/Compat.jl:75.\n",
        "Warning: Method definition rand("
       ]
      },
      {
       "output_type": "stream",
       "stream": "stderr",
       "text": [
        "Type{Bool},) in module Compat at /home/ixidor/.julia/v0.3/Compat/src/Compat.jl:182 overwritten in module Compat at /home/ixidor/.julia/v0.3/Compat/src/Compat.jl:182.\n",
        "Warning: Method definition parse(Type{T<:Integer},Char) in module Compat at /home/ixidor/.julia/v0.3/Compat/src/Compat.jl:203 overwritten in module Compat at /home/ixidor/.julia/v0.3/Compat/src/Compat.jl:203.\n",
        "Warning: Method definition parse(Type{T<:Integer},Char,Integer) in module Compat at /home/ixidor/.julia/v0.3/Compat/src/Compat.jl:204 overwritten in module Compat at /home/ixidor/.julia/v0.3/Compat/src/Compat.jl:204.\n",
        "Warning: Method definition parse(Type{T<:Integer},String) in module Compat at /home/ixidor/.julia/v0.3/Compat/src/Compat.jl:205 overwritten in module Compat at /home/ixidor/.julia/v0.3/Compat/src/Compat.jl:205.\n",
        "Warning: Method definition parse(Type{T<:Integer},String,Integer) in module Compat at /home/ixidor/.julia/v0.3/Compat/src/Compat.jl:206 overwritten in module Compat at /home/ixidor/.julia/v0.3/Compat/src/Compat.jl:206.\n",
        "Warning: Method definition parse(Type{T<:Union(Float64,Float32)},String) in module Compat at /home/ixidor/.julia/v0.3/Compat/src/Compat.jl:207 overwritten in module Compat at /home/ixidor/.julia/v0.3/Compat/src/Compat.jl:207.\n"
       ]
      },
      {
       "output_type": "stream",
       "stream": "stdout",
       "text": [
        "Prueba b\u00e1sicas de Bolas:\n",
        "2 facts verified.\n"
       ]
      },
      {
       "output_type": "stream",
       "stream": "stdout",
       "text": [
        "Pruebas de funciones para bolas :\n",
        "5 facts verified.\n"
       ]
      },
      {
       "ename": "LoadError",
       "evalue": "Incorrect usage of @fact: 0A = begin  # /home/ixidor/Escritorio/juliaclase/Proyecto final/ProyectoFinal/BolasTest.jl, line 44:\n        Bola(0)\n    end\nwhile loading /home/ixidor/Escritorio/juliaclase/Proyecto final/ProyectoFinal/BolasTest.jl, in expression starting on line 26\nwhile loading In[3], in expression starting on line 4",
       "output_type": "pyerr",
       "traceback": [
        "Incorrect usage of @fact: 0A = begin  # /home/ixidor/Escritorio/juliaclase/Proyecto final/ProyectoFinal/BolasTest.jl, line 44:\n        Bola(0)\n    end\nwhile loading /home/ixidor/Escritorio/juliaclase/Proyecto final/ProyectoFinal/BolasTest.jl, in expression starting on line 26\nwhile loading In[3], in expression starting on line 4",
        "",
        " in include at ./boot.jl:245",
        " in include_from_node1 at ./loading.jl:128",
        " in reload_path at loading.jl:152",
        " in _require at loading.jl:67",
        " in require at loading.jl:51"
       ]
      }
     ],
     "prompt_number": 3
    },
    {
     "cell_type": "code",
     "collapsed": false,
     "input": [],
     "language": "python",
     "metadata": {},
     "outputs": [
      {
       "output_type": "stream",
       "stream": "stdout",
       "text": [
        "Prueba b\u00e1sicas de Bolas:\n",
        "2 facts verified.\n",
        "Pruebas de funciones para bolas :\n",
        "5 facts verified.\n",
        "Prueba b\u00e1sicas de aritm\u00e9tica:\n",
        "8 facts verified.\n"
       ]
      },
      {
       "metadata": {},
       "output_type": "pyout",
       "prompt_number": 22,
       "text": [
        "delayed_handler (generic function with 4 methods)"
       ]
      }
     ],
     "prompt_number": 22
    },
    {
     "cell_type": "code",
     "collapsed": false,
     "input": [
      "Bola(1)"
     ],
     "language": "python",
     "metadata": {},
     "outputs": [
      {
       "metadata": {},
       "output_type": "pyout",
       "prompt_number": 6,
       "text": [
        "Bola(1,1)"
       ]
      }
     ],
     "prompt_number": 6
    },
    {
     "cell_type": "code",
     "collapsed": false,
     "input": [
      "Bola(1,-1)"
     ],
     "language": "python",
     "metadata": {},
     "outputs": [
      {
       "metadata": {},
       "output_type": "pyout",
       "prompt_number": 7,
       "text": [
        "Bola(1,1)"
       ]
      }
     ],
     "prompt_number": 7
    },
=======
   "cell_type": "code",
   "execution_count": 98,
   "metadata": {
    "collapsed": false
   },
   "outputs": [
    {
     "name": "stderr",
     "output_type": "stream",
     "text": [
      "Warning: New definition \n",
      "    +(Bola,Any) at /home/pablo1/Documents/Tareas/ProyectoFinalMNA/Bolas.jl:131\n",
      "is ambiguous with: \n",
      "    +(Any,Bola) at /home/pablo1/Documents/Tareas/ProyectoFinalMNA/Bolas.jl:129.\n",
      "To fix, define \n",
      "    +(Bola,Bola)\n",
      "before the new definition.\n",
      "Warning: New definition \n",
      "    +(Bola,Any) at /home/pablo1/Documents/Tareas/ProyectoFinalMNA/Bolas.jl:131\n",
      "is ambiguous with: \n",
      "    +(Any,Bola) at /home/pablo1/Documents/Tareas/ProyectoFinalMNA/Bolas.jl:129.\n",
      "To fix, define \n",
      "    +(Bola,Bola)\n",
      "before the new definition.\n",
      "Warning: New definition \n",
      "    +(Bola,Any) at /home/pablo1/Documents/Tareas/ProyectoFinalMNA/Bolas.jl:131\n",
      "is ambiguous with: \n",
      "    +(Any,Bola) at /home/pablo1/Documents/Tareas/ProyectoFinalMNA/Bolas.jl:130.\n",
      "To fix, define \n",
      "    +(Bola,Bola)\n",
      "before the new definition.\n",
      "Warning: New definition \n",
      "    +(Bola,Any) at /home/pablo1/Documents/Tareas/ProyectoFinalMNA/Bolas.jl:131\n",
      "is ambiguous with: \n",
      "    +(Any,Bola) at /home/pablo1/Documents/Tareas/ProyectoFinalMNA/Bolas.jl:130.\n",
      "To fix, define \n",
      "    +(Bola,Bola)\n",
      "before the new definition.\n",
      "Warning: New definition \n",
      "    +(Bola,Any) at /home/pablo1/Documents/Tareas/ProyectoFinalMNA/Bolas.jl:131\n",
      "is ambiguous with: \n",
      "    +(Any,Bola) at /home/pablo1/Documents/Tareas/ProyectoFinalMNA/Bolas.jl:136.\n",
      "To fix, define \n",
      "    +(Bola,Bola)\n",
      "before the new definition.\n",
      "Warning: New definition \n",
      "    +(Bola,Any) at /home/pablo1/Documents/Tareas/ProyectoFinalMNA/Bolas.jl:131\n",
      "is ambiguous with: \n",
      "    +(Any,Bola) at /home/pablo1/Documents/Tareas/ProyectoFinalMNA/Bolas.jl:136.\n",
      "To fix, define \n",
      "    +(Bola,Bola)\n",
      "before the new definition.\n",
      "Warning: New definition \n",
      "    +(Bola,Any) at /home/pablo1/Documents/Tareas/ProyectoFinalMNA/Bolas.jl:131\n",
      "is ambiguous with: \n",
      "    +(Any,Bola) at /home/pablo1/Documents/Tareas/ProyectoFinalMNA/Bolas.jl:136.\n",
      "To fix, define \n",
      "    +(Bola,Bola)\n",
      "before the new definition.\n",
      "Warning: New definition \n",
      "    +(Bola,Any) at /home/pablo1/Documents/Tareas/ProyectoFinalMNA/Bolas.jl:131\n",
      "is ambiguous with: \n",
      "    +(Any,Bola) at /home/pablo1/Documents/Tareas/ProyectoFinalMNA/Bolas.jl:136.\n",
      "To fix, define \n",
      "    +(Bola,Bola)\n",
      "before the new definition.\n",
      "Warning: New definition \n",
      "    +(Bola,Any) at /home/pablo1/Documents/Tareas/ProyectoFinalMNA/Bolas.jl:131\n",
      "is ambiguous with: \n",
      "    +(Any,Bola) at /home/pablo1/Documents/Tareas/ProyectoFinalMNA/Bolas.jl:136.\n",
      "To fix, define \n",
      "    +(Bola,Bola)\n",
      "before the new definition.\n",
      "Warning: New definition \n",
      "    +(Bola,Any) at /home/pablo1/Documents/Tareas/ProyectoFinalMNA/Bolas.jl:131\n",
      "is ambiguous with: \n",
      "    +(Any,Bola) at /home/pablo1/Documents/Tareas/ProyectoFinalMNA/Bolas.jl:136.\n",
      "To fix, define \n",
      "    +(Bola,Bola)\n",
      "before the new definition.\n",
      "Warning: New definition \n",
      "    +(Bola,Any) at /home/pablo1/Documents/Tareas/ProyectoFinalMNA/Bolas.jl:131\n",
      "is ambiguous with: \n",
      "    +(Any,Bola) at /home/pablo1/Documents/Tareas/ProyectoFinalMNA/Bolas.jl:136.\n",
      "To fix, define \n",
      "    +(Bola,Bola)\n",
      "before the new definition.\n",
      "Warning: New definition \n",
      "    +(Bola,Any) at /home/pablo1/Documents/Tareas/ProyectoFinalMNA/Bolas.jl:131\n",
      "is ambiguous with: \n",
      "    +(Any,Bola) at /home/pablo1/Documents/Tareas/ProyectoFinalMNA/Bolas.jl:136.\n",
      "To fix, define \n",
      "    +(Bola,Bola)\n",
      "before the new definition.\n",
      "Warning: New definition \n",
      "    +(Bola,Any) at /home/pablo1/Documents/Tareas/ProyectoFinalMNA/Bolas.jl:131\n",
      "is ambiguous with: \n",
      "    +(Any,Bola) at /home/pablo1/Documents/Tareas/ProyectoFinalMNA/Bolas.jl:136.\n",
      "To fix, define \n",
      "    +(Bola,Bola)\n",
      "before the new definition.\n",
      "Warning: New definition \n",
      "    +(Bola,Any) at /home/pablo1/Documents/Tareas/ProyectoFinalMNA/Bolas.jl:131\n",
      "is ambiguous with: \n",
      "    +(Any,Bola) at /home/pablo1/Documents/Tareas/ProyectoFinalMNA/Bolas.jl:136.\n",
      "To fix, define \n",
      "    +(Bola,Bola)\n",
      "before the new definition.\n",
      "Warning: New definition \n",
      "    +(Bola,Any) at /home/pablo1/Documents/Tareas/ProyectoFinalMNA/Bolas.jl:131\n",
      "is ambiguous with: \n",
      "    +(Any,Bola) at /home/pablo1/Documents/Tareas/ProyectoFinalMNA/Bolas.jl:136.\n",
      "To fix, define \n",
      "    +(Bola,Bola)\n",
      "before the new definition.\n",
      "Warning: New definition \n",
      "    +(Any,Bola) at /home/pablo1/Documents/Tareas/ProyectoFinalMNA/Bolas.jl:136\n",
      "is ambiguous with: \n",
      "    +(Bola,Any) at /home/pablo1/Documents/Tareas/ProyectoFinalMNA/Bolas.jl:124.\n",
      "To fix, define \n",
      "    +(Bola,Bola)\n",
      "before the new definition.\n",
      "Warning: New definition \n",
      "    +(Any,Bola) at /home/pablo1/Documents/Tareas/ProyectoFinalMNA/Bolas.jl:136\n",
      "is ambiguous with: \n",
      "    +(Bola,Any) at /home/pablo1/Documents/Tareas/ProyectoFinalMNA/Bolas.jl:124.\n",
      "To fix, define \n",
      "    +(Bola,Bola)\n",
      "before the new definition.\n",
      "Warning: New definition \n",
      "    +(Any,Bola) at /home/pablo1/Documents/Tareas/ProyectoFinalMNA/Bolas.jl:136\n",
      "is ambiguous with: \n",
      "    +(Bola,Any) at /home/pablo1/Documents/Tareas/ProyectoFinalMNA/Bolas.jl:125.\n",
      "To fix, define \n",
      "    +(Bola,Bola)\n",
      "before the new definition.\n",
      "Warning: New definition \n",
      "    +(Any,Bola) at /home/pablo1/Documents/Tareas/ProyectoFinalMNA/Bolas.jl:136\n",
      "is ambiguous with: \n",
      "    +(Bola,Any) at /home/pablo1/Documents/Tareas/ProyectoFinalMNA/Bolas.jl:125.\n",
      "To fix, define \n",
      "    +(Bola,Bola)\n",
      "before the new definition.\n",
      "Warning: New definition \n",
      "    +(Any,Bola) at /home/pablo1/Documents/Tareas/ProyectoFinalMNA/Bolas.jl:136\n",
      "is ambiguous with: \n",
      "    +(Bola,Any) at /home/pablo1/Documents/Tareas/ProyectoFinalMNA/Bolas.jl:131.\n",
      "To fix, define \n",
      "    +(Bola,Bola)\n",
      "before the new definition.\n",
      "Warning: New definition \n",
      "    +(Any,Bola) at /home/pablo1/Documents/Tareas/ProyectoFinalMNA/Bolas.jl:136\n",
      "is ambiguous with: \n",
      "    +(Bola,Any) at /home/pablo1/Documents/Tareas/ProyectoFinalMNA/Bolas.jl:131.\n",
      "To fix, define \n",
      "    +(Bola,Bola)\n",
      "before the new definition.\n",
      "Warning: New definition \n",
      "    +(Any,Bola) at /home/pablo1/Documents/Tareas/ProyectoFinalMNA/Bolas.jl:136\n",
      "is ambiguous with: \n",
      "    +(Bola,Any) at /home/pablo1/Documents/Tareas/ProyectoFinalMNA/Bolas.jl:131.\n",
      "To fix, define \n",
      "    +(Bola,Bola)\n",
      "before the new definition.\n",
      "Warning: New definition \n",
      "    +(Any,Bola) at /home/pablo1/Documents/Tareas/ProyectoFinalMNA/Bolas.jl:136\n",
      "is ambiguous with: \n",
      "    +(Bola,Any) at /home/pablo1/Documents/Tareas/ProyectoFinalMNA/Bolas.jl:131.\n",
      "To fix, define \n",
      "    +(Bola,Bola)\n",
      "before the new definition.\n",
      "Warning: New definition \n",
      "    +(Any,Bola) at /home/pablo1/Documents/Tareas/ProyectoFinalMNA/Bolas.jl:136\n",
      "is ambiguous with: \n",
      "    +(Bola,Any) at /home/pablo1/Documents/Tareas/ProyectoFinalMNA/Bolas.jl:131.\n",
      "To fix, define \n",
      "    +(Bola,Bola)\n",
      "before the new definition.\n",
      "Warning: New definition \n",
      "    +(Any,Bola) at /home/pablo1/Documents/Tareas/ProyectoFinalMNA/Bolas.jl:136\n",
      "is ambiguous with: \n",
      "    +(Bola,Any) at /home/pablo1/Documents/Tareas/ProyectoFinalMNA/Bolas.jl:131.\n",
      "To fix, define \n",
      "    +(Bola,Bola)\n",
      "before the new definition.\n",
      "Warning: New definition \n",
      "    +(Any,Bola) at /home/pablo1/Documents/Tareas/ProyectoFinalMNA/Bolas.jl:136\n",
      "is ambiguous with: \n",
      "    +(Bola,Any) at /home/pablo1/Documents/Tareas/ProyectoFinalMNA/Bolas.jl:131.\n",
      "To fix, define \n",
      "    +(Bola,Bola)\n",
      "before the new definition.\n",
      "Warning: New definition \n",
      "    +(Any,Bola) at /home/pablo1/Documents/Tareas/ProyectoFinalMNA/Bolas.jl:136\n",
      "is ambiguous with: \n",
      "    +(Bola,Any) at /home/pablo1/Documents/Tareas/ProyectoFinalMNA/Bolas.jl:131.\n",
      "To fix, define \n",
      "    +(Bola,Bola)\n",
      "before the new definition.\n",
      "Warning: New definition \n",
      "    +(Any,Bola) at /home/pablo1/Documents/Tareas/ProyectoFinalMNA/Bolas.jl:136\n",
      "is ambiguous with: \n",
      "    +(Bola,Any) at /home/pablo1/Documents/Tareas/ProyectoFinalMNA/Bolas.jl:131.\n",
      "To fix, define \n",
      "    +(Bola,Bola)\n",
      "before the new definition.\n",
      "Warning: New definition \n",
      "    +(Any,Bola) at /home/pablo1/Documents/Tareas/ProyectoFinalMNA/Bolas.jl:136\n",
      "is ambiguous with: \n",
      "    +(Bola,Any) at /home/pablo1/Documents/Tareas/ProyectoFinalMNA/Bolas.jl:131.\n",
      "To fix, define \n",
      "    +(Bola,Bola)\n",
      "before the new definition.\n",
      "Warning: New definition \n",
      "    +(Any,Bola) at /home/pablo1/Documents/Tareas/ProyectoFinalMNA/Bolas.jl:136\n",
      "is ambiguous with: \n",
      "    +(Bola,Any) at /home/pablo1/Documents/Tareas/ProyectoFinalMNA/Bolas.jl:131.\n",
      "To fix, define \n",
      "    +(Bola,Bola)\n",
      "before the new definition.\n",
      "Warning: New definition \n",
      "    -(Bola,Any) at /home/pablo1/Documents/Tareas/ProyectoFinalMNA/Bolas.jl:146\n",
      "is ambiguous with: \n",
      "    -(Any,Bola) at /home/pablo1/Documents/Tareas/ProyectoFinalMNA/Bolas.jl:144.\n",
      "To fix, define \n",
      "    -(Bola,Bola)\n",
      "before the new definition.\n",
      "Warning: New definition \n",
      "    -(Bola,Any) at /home/pablo1/Documents/Tareas/ProyectoFinalMNA/Bolas.jl:146\n",
      "is ambiguous with: \n",
      "    -(Any,Bola) at /home/pablo1/Documents/Tareas/ProyectoFinalMNA/Bolas.jl:144.\n",
      "To fix, define \n",
      "    -(Bola,Bola)\n",
      "before the new definition.\n",
      "Warning: New definition \n",
      "    -(Bola,Any) at /home/pablo1/Documents/Tareas/ProyectoFinalMNA/Bolas.jl:146\n",
      "is ambiguous with: \n",
      "    -(Any,Bola) at /home/pablo1/Documents/Tareas/ProyectoFinalMNA/Bolas.jl:145.\n",
      "To fix, define \n",
      "    -(Bola,Bola)\n",
      "before the new definition.\n",
      "Warning: New definition \n",
      "    -(Bola,Any) at /home/pablo1/Documents/Tareas/ProyectoFinalMNA/Bolas.jl:146\n",
      "is ambiguous with: \n",
      "    -(Any,Bola) at /home/pablo1/Documents/Tareas/ProyectoFinalMNA/Bolas.jl:145.\n",
      "To fix, define \n",
      "    -(Bola,Bola)\n",
      "before the new definition.\n",
      "Warning: New definition \n",
      "    -(Bola,Any) at /home/pablo1/Documents/Tareas/ProyectoFinalMNA/Bolas.jl:146\n",
      "is ambiguous with: \n",
      "    -(Any,Bola) at /home/pablo1/Documents/Tareas/ProyectoFinalMNA/Bolas.jl:151.\n",
      "To fix, define \n",
      "    -(Bola,Bola)\n",
      "before the new definition.\n",
      "Warning: New definition \n",
      "    -(Bola,Any) at /home/pablo1/Documents/Tareas/ProyectoFinalMNA/Bolas.jl:146\n",
      "is ambiguous with: \n",
      "    -(Any,Bola) at /home/pablo1/Documents/Tareas/ProyectoFinalMNA/Bolas.jl:151.\n",
      "To fix, define \n",
      "    -(Bola,Bola)\n",
      "before the new definition.\n",
      "Warning: New definition \n",
      "    -(Bola,Any) at /home/pablo1/Documents/Tareas/ProyectoFinalMNA/Bolas.jl:146\n",
      "is ambiguous with: \n",
      "    -(Any,Bola) at /home/pablo1/Documents/Tareas/ProyectoFinalMNA/Bolas.jl:151.\n",
      "To fix, define \n",
      "    -(Bola,Bola)\n",
      "before the new definition.\n",
      "Warning: New definition \n",
      "    -(Bola,Any) at /home/pablo1/Documents/Tareas/ProyectoFinalMNA/Bolas.jl:146\n",
      "is ambiguous with: \n",
      "    -(Any,Bola) at /home/pablo1/Documents/Tareas/ProyectoFinalMNA/Bolas.jl:151.\n",
      "To fix, define \n",
      "    -(Bola,Bola)\n",
      "before the new definition.\n",
      "Warning: New definition \n",
      "    -(Bola,Any) at /home/pablo1/Documents/Tareas/ProyectoFinalMNA/Bolas.jl:146\n",
      "is ambiguous with: \n",
      "    -(Any,Bola) at /home/pablo1/Documents/Tareas/ProyectoFinalMNA/Bolas.jl:151.\n",
      "To fix, define \n",
      "    -(Bola,Bola)\n",
      "before the new definition.\n",
      "Warning: New definition \n",
      "    -(Bola,Any) at /home/pablo1/Documents/Tareas/ProyectoFinalMNA/Bolas.jl:146\n",
      "is ambiguous with: \n",
      "    -(Any,Bola) at /home/pablo1/Documents/Tareas/ProyectoFinalMNA/Bolas.jl:151.\n",
      "To fix, define \n",
      "    -(Bola,Bola)\n",
      "before the new definition.\n",
      "Warning: New definition \n",
      "    -(Bola,Any) at /home/pablo1/Documents/Tareas/ProyectoFinalMNA/Bolas.jl:146\n",
      "is ambiguous with: \n",
      "    -(Any,Bola) at /home/pablo1/Documents/Tareas/ProyectoFinalMNA/Bolas.jl:151.\n",
      "To fix, define \n",
      "    -(Bola,Bola)\n",
      "before the new definition.\n",
      "Warning: New definition \n",
      "    -(Bola,Any) at /home/pablo1/Documents/Tareas/ProyectoFinalMNA/Bolas.jl:146\n",
      "is ambiguous with: \n",
      "    -(Any,Bola) at /home/pablo1/Documents/Tareas/ProyectoFinalMNA/Bolas.jl:151.\n",
      "To fix, define \n",
      "    -(Bola,Bola)\n",
      "before the new definition.\n",
      "Warning: New definition \n",
      "    -(Bola,Any) at /home/pablo1/Documents/Tareas/ProyectoFinalMNA/Bolas.jl:146\n",
      "is ambiguous with: \n",
      "    -(Any,Bola) at /home/pablo1/Documents/Tareas/ProyectoFinalMNA/Bolas.jl:151.\n",
      "To fix, define \n",
      "    -(Bola,Bola)\n",
      "before the new definition.\n",
      "Warning: New definition \n",
      "    -(Bola,Any) at /home/pablo1/Documents/Tareas/ProyectoFinalMNA/Bolas.jl:146\n",
      "is ambiguous with: \n",
      "    -(Any,Bola) at /home/pablo1/Documents/Tareas/ProyectoFinalMNA/Bolas.jl:151.\n",
      "To fix, define \n",
      "    -(Bola,Bola)\n",
      "before the new definition.\n",
      "Warning: New definition \n",
      "    -(Bola,Any) at /home/pablo1/Documents/Tareas/ProyectoFinalMNA/Bolas.jl:146\n",
      "is ambiguous with: \n",
      "    -(Any,Bola) at /home/pablo1/Documents/Tareas/ProyectoFinalMNA/Bolas.jl:151.\n",
      "To fix, define \n",
      "    -(Bola,Bola)\n",
      "before the new definition.\n",
      "Warning: New definition \n",
      "    -(Any,Bola) at /home/pablo1/Documents/Tareas/ProyectoFinalMNA/Bolas.jl:151\n",
      "is ambiguous with: \n",
      "    -(Bola,Any) at /home/pablo1/Documents/Tareas/ProyectoFinalMNA/Bolas.jl:139.\n",
      "To fix, define \n",
      "    -(Bola,Bola)\n",
      "before the new definition.\n",
      "Warning: New definition \n",
      "    -(Any,Bola) at /home/pablo1/Documents/Tareas/ProyectoFinalMNA/Bolas.jl:151\n",
      "is ambiguous with: \n",
      "    -(Bola,Any) at /home/pablo1/Documents/Tareas/ProyectoFinalMNA/Bolas.jl:139.\n",
      "To fix, define \n",
      "    -(Bola,Bola)\n",
      "before the new definition.\n",
      "Warning: New definition \n",
      "    -(Any,Bola) at /home/pablo1/Documents/Tareas/ProyectoFinalMNA/Bolas.jl:151\n",
      "is ambiguous with: \n",
      "    -(Bola,Any) at /home/pablo1/Documents/Tareas/ProyectoFinalMNA/Bolas.jl:140.\n",
      "To fix, define \n",
      "    -(Bola,Bola)\n",
      "before the new definition.\n",
      "Warning: New definition \n",
      "    -(Any,Bola) at /home/pablo1/Documents/Tareas/ProyectoFinalMNA/Bolas.jl:151\n",
      "is ambiguous with: \n",
      "    -(Bola,Any) at /home/pablo1/Documents/Tareas/ProyectoFinalMNA/Bolas.jl:140.\n",
      "To fix, define \n",
      "    -(Bola,Bola)\n",
      "before the new definition.\n",
      "Warning: New definition \n",
      "    -(Any,Bola) at /home/pablo1/Documents/Tareas/ProyectoFinalMNA/Bolas.jl:151\n",
      "is ambiguous with: \n",
      "    -(Bola,Any) at /home/pablo1/Documents/Tareas/ProyectoFinalMNA/Bolas.jl:146.\n",
      "To fix, define \n",
      "    -(Bola,Bola)\n",
      "before the new definition.\n",
      "Warning: New definition \n",
      "    -(Any,Bola) at /home/pablo1/Documents/Tareas/ProyectoFinalMNA/Bolas.jl:151\n",
      "is ambiguous with: \n",
      "    -(Bola,Any) at /home/pablo1/Documents/Tareas/ProyectoFinalMNA/Bolas.jl:146.\n",
      "To fix, define \n",
      "    -(Bola,Bola)\n",
      "before the new definition.\n",
      "Warning: New definition \n",
      "    -(Any,Bola) at /home/pablo1/Documents/Tareas/ProyectoFinalMNA/Bolas.jl:151\n",
      "is ambiguous with: \n",
      "    -(Bola,Any) at /home/pablo1/Documents/Tareas/ProyectoFinalMNA/Bolas.jl:146.\n",
      "To fix, define \n",
      "    -(Bola,Bola)\n",
      "before the new definition.\n",
      "Warning: New definition \n",
      "    -(Any,Bola) at /home/pablo1/Documents/Tareas/ProyectoFinalMNA/Bolas.jl:151\n",
      "is ambiguous with: \n",
      "    -(Bola,Any) at /home/pablo1/Documents/Tareas/ProyectoFinalMNA/Bolas.jl:146.\n",
      "To fix, define \n",
      "    -(Bola,Bola)\n",
      "before the new definition.\n",
      "Warning: New definition \n",
      "    -(Any,Bola) at /home/pablo1/Documents/Tareas/ProyectoFinalMNA/Bolas.jl:151\n",
      "is ambiguous with: \n",
      "    -(Bola,Any) at /home/pablo1/Documents/Tareas/ProyectoFinalMNA/Bolas.jl:146.\n",
      "To fix, define \n",
      "    -(Bola,Bola)\n",
      "before the new definition.\n",
      "Warning: New definition \n",
      "    -(Any,Bola) at /home/pablo1/Documents/Tareas/ProyectoFinalMNA/Bolas.jl:151\n",
      "is ambiguous with: \n",
      "    -(Bola,Any) at /home/pablo1/Documents/Tareas/ProyectoFinalMNA/Bolas.jl:146.\n",
      "To fix, define \n",
      "    -(Bola,Bola)\n",
      "before the new definition.\n",
      "Warning: New definition \n",
      "    -(Any,Bola) at /home/pablo1/Documents/Tareas/ProyectoFinalMNA/Bolas.jl:151\n",
      "is ambiguous with: \n",
      "    -(Bola,Any) at /home/pablo1/Documents/Tareas/ProyectoFinalMNA/Bolas.jl:146.\n",
      "To fix, define \n",
      "    -(Bola,Bola)\n",
      "before the new definition.\n",
      "Warning: New definition \n",
      "    -(Any,Bola) at /home/pablo1/Documents/Tareas/ProyectoFinalMNA/Bolas.jl:151\n",
      "is ambiguous with: \n",
      "    -(Bola,Any) at /home/pablo1/Documents/Tareas/ProyectoFinalMNA/Bolas.jl:146.\n",
      "To fix, define \n",
      "    -(Bola,Bola)\n",
      "before the new definition.\n",
      "Warning: New definition \n",
      "    -(Any,Bola) at /home/pablo1/Documents/Tareas/ProyectoFinalMNA/Bolas.jl:151\n",
      "is ambiguous with: \n",
      "    -(Bola,Any) at /home/pablo1/Documents/Tareas/ProyectoFinalMNA/Bolas.jl:146.\n",
      "To fix, define \n",
      "    -(Bola,Bola)\n",
      "before the new definition.\n",
      "Warning: New definition \n",
      "    -(Any,Bola) at /home/pablo1/Documents/Tareas/ProyectoFinalMNA/Bolas.jl:151\n",
      "is ambiguous with: \n",
      "    -(Bola,Any) at /home/pablo1/Documents/Tareas/ProyectoFinalMNA/Bolas.jl:146.\n",
      "To fix, define \n",
      "    -(Bola,Bola)\n",
      "before the new definition.\n",
      "Warning: New definition \n",
      "    -(Any,Bola) at /home/pablo1/Documents/Tareas/ProyectoFinalMNA/Bolas.jl:151\n",
      "is ambiguous with: \n",
      "    -(Bola,Any) at /home/pablo1/Documents/Tareas/ProyectoFinalMNA/Bolas.jl:146.\n",
      "To fix, define \n",
      "    -(Bola,Bola)\n",
      "before the new definition.\n",
      "Warning: Method definition IPv4(String,) in module Compat at /home/pablo1/.julia/v0.3/Compat/src/Compat.jl:36 overwritten in module Compat at /home/pablo1/.julia/v0.3/Compat/src/Compat.jl:36.\n",
      "Warning: Method definition IPv6(String,) in module Compat at /home/pablo1/.julia/v0.3/Compat/src/Compat.jl:37 overwritten in module Compat at /home/pablo1/.julia/v0.3/Compat/src/Compat.jl:37.\n",
      "Warning: Method definition isless(T<:IpAddr,T<:IpAddr) in module Compat at /home/pablo1/.julia/v0.3/Compat/src/Compat.jl:42 overwritten in module Compat at /home/pablo1/.julia/v0.3/Compat/src/Compat.jl:42.\n",
      "Warning: Method definition Dict(Any,) in module Compat at /home/pablo1/.julia/v0.3/Compat/src/Compat.jl:54 overwritten in module Compat at /home/pablo1/.julia/v0.3/Compat/src/Compat.jl:54.\n",
      "Warning: Method definition round(Type{T<:Integer},Integer) in module Compat at /home/pablo1/.julia/v0.3/Compat/src/Compat.jl:70 overwritten in module Compat at /home/pablo1/.julia/v0.3/Compat/src/Compat.jl:70.\n",
      "Warning: Method definition round(Type{T<:Integer},Real) in module Compat at /home/pablo1/.julia/v0.3/Compat/src/Compat.jl:71 overwritten in module Compat at /home/pablo1/.julia/v0.3/Compat/src/Compat.jl:71.\n",
      "Warning: Method definition round(Type{T<:Integer},Rational{T<:Integer}) in module Compat at /home/pablo1/.julia/v0.3/Compat/src/Compat.jl:72 overwritten in module Compat at /home/pablo1/.julia/v0.3/Compat/src/Compat.jl:72.\n",
      "Warning: Method definition round(Type{T},AbstractArray{R,1}) in module Compat at /home/pablo1/.julia/v0.3/Compat/src/Compat.jl:74 overwritten in module Compat at /home/pablo1/.julia/v0.3/Compat/src/Compat.jl:74.\n",
      "Warning: Method definition round(Type{T},AbstractArray{R,2}) in module Compat at /home/pablo1/.julia/v0.3/Compat/src/Compat.jl:77 overwritten in module Compat at /home/pablo1/.julia/v0.3/Compat/src/Compat.jl:77.\n",
      "Warning: Method definition round(Type{T},AbstractArray{T,N}) in module Compat at /home/pablo1/.julia/v0.3/Compat/src/Compat.jl:80 overwritten in module Compat at /home/pablo1/.julia/v0.3/Compat/src/Compat.jl:80.\n",
      "Warning: Method definition ceil(Type{T<:Integer},Integer) in module Compat at /home/pablo1/.julia/v0.3/Compat/src/Compat.jl:70 overwritten in module Compat at /home/pablo1/.julia/v0.3/Compat/src/Compat.jl:70.\n",
      "Warning: Method definition ceil(Type{T<:Integer},Real) in module Compat at /home/pablo1/.julia/v0.3/Compat/src/Compat.jl:71 overwritten in module Compat at /home/pablo1/.julia/v0.3/Compat/src/Compat.jl:71.\n",
      "Warning: Method definition ceil(Type{T<:Integer},Rational{T<:Integer}) in module Compat at /home/pablo1/.julia/v0.3/Compat/src/Compat.jl:72 overwritten in module Compat at /home/pablo1/.julia/v0.3/Compat/src/Compat.jl:72.\n",
      "Warning: Method definition ceil(Type{T},AbstractArray{R,1}) in module Compat at /home/pablo1/.julia/v0.3/Compat/src/Compat.jl:74 overwritten in module Compat at /home/pablo1/.julia/v0.3/Compat/src/Compat.jl:74.\n",
      "Warning: Method definition ceil(Type{T},AbstractArray{R,2}) in module Compat at /home/pablo1/.julia/v0.3/Compat/src/Compat.jl:77 overwritten in module Compat at /home/pablo1/.julia/v0.3/Compat/src/Compat.jl:77.\n",
      "Warning: Method definition ceil(Type{T},AbstractArray{T,N}) in module Compat at /home/pablo1/.julia/v0.3/Compat/src/Compat.jl:80 overwritten in module Compat at /home/pablo1/.julia/v0.3/Compat/src/Compat.jl:80.\n",
      "Warning: Method definition floor(Type{T<:Integer},Integer) in module Compat at /home/pablo1/.julia/v0.3/Compat/src/Compat.jl:70 overwritten in module Compat at /home/pablo1/.julia/v0.3/Compat/src/Compat.jl:70.\n",
      "Warning: Method definition floor(Type{T<:Integer},Real) in module Compat at /home/pablo1/.julia/v0.3/Compat/src/Compat.jl:71 overwritten in module Compat at /home/pablo1/.julia/v0.3/Compat/src/Compat.jl:71.\n",
      "Warning: Method definition floor(Type{T<:Integer},Rational{T<:Integer}) in module Compat at /home/pablo1/.julia/v0.3/Compat/src/Compat.jl:72 overwritten in module Compat at /home/pablo1/.julia/v0.3/Compat/src/Compat.jl:72.\n",
      "Warning: Method definition floor(Type{T},AbstractArray{R,1}) in module Compat at /home/pablo1/.julia/v0.3/Compat/src/Compat.jl:74 overwritten in module Compat at /home/pablo1/.julia/v0.3/Compat/src/Compat.jl:74.\n",
      "Warning: Method definition floor(Type{T},AbstractArray{R,2}) in module Compat at /home/pablo1/.julia/v0.3/Compat/src/Compat.jl:77 overwritten in module Compat at /home/pablo1/.julia/v0.3/Compat/src/Compat.jl:77.\n",
      "Warning: Method definition floor(Type{T},AbstractArray{T,N}) in module Compat at /home/pablo1/.julia/v0.3/Compat/src/Compat.jl:80 overwritten in module Compat at /home/pablo1/.julia/v0.3/Compat/src/Compat.jl:80.\n",
      "Warning: Method definition trunc(Type{T<:Integer},Integer) in module Compat at /home/pablo1/.julia/v0.3/Compat/src/Compat.jl:70 overwritten in module Compat at /home/pablo1/.julia/v0.3/Compat/src/Compat.jl:70.\n",
      "Warning: Method definition trunc(Type{T<:Integer},Real) in module Compat at /home/pablo1/.julia/v0.3/Compat/src/Compat.jl:71 overwritten in module Compat at /home/pablo1/.julia/v0.3/Compat/src/Compat.jl:71.\n",
      "Warning: Method definition trunc(Type{T<:Integer},Rational{T<:Integer}) in module Compat at /home/pablo1/.julia/v0.3/Compat/src/Compat.jl:72 overwritten in module Compat at /home/pablo1/.julia/v0.3/Compat/src/Compat.jl:72.\n",
      "Warning: Method definition trunc(Type{T},AbstractArray{R,1}) in module Compat at /home/pablo1/.julia/v0.3/Compat/src/Compat.jl:74 overwritten in module Compat at /home/pablo1/.julia/v0.3/Compat/src/Compat.jl:74.\n",
      "Warning: Method definition trunc(Type{T},AbstractArray{R,2}) in module Compat at /home/pablo1/.julia/v0.3/Compat/src/Compat.jl:77 overwritten in module Compat at /home/pablo1/.julia/v0.3/Compat/src/Compat.jl:77.\n",
      "Warning: Method definition trunc(Type{T},AbstractArray{T,N}) in module Compat at /home/pablo1/.julia/v0.3/Compat/src/Compat.jl:80 overwritten in module Compat at /home/pablo1/.julia/v0.3/Compat/src/Compat.jl:80.\n",
      "Warning: Method definition rand(Type{Bool},) in module Compat at /home/pablo1/.julia/v0.3/Compat/src/Compat.jl:187 overwritten in module Compat at /home/pablo1/.julia/v0.3/Compat/src/Compat.jl:187.\n",
      "Warning: Method definition parse(Type{T<:Integer},Char) in module Compat at /home/pablo1/.julia/v0.3/Compat/src/Compat.jl:208 overwritten in module Compat at /home/pablo1/.julia/v0.3/Compat/src/Compat.jl:208.\n",
      "Warning: Method definition parse(Type{T<:Integer},Char,Integer) in module Compat at /home/pablo1/.julia/v0.3/Compat/src/Compat.jl:209 overwritten in module Compat at /home/pablo1/.julia/v0.3/Compat/src/Compat.jl:209.\n",
      "Warning: Method definition parse(Type{T<:Integer},String) in module Compat at /home/pablo1/.julia/v0.3/Compat/src/Compat.jl:210 overwritten in module Compat at /home/pablo1/.julia/v0.3/Compat/src/Compat.jl:210.\n",
      "Warning: Method definition parse(Type{T<:Integer},String,Integer) in module Compat at /home/pablo1/.julia/v0.3/Compat/src/Compat.jl:211 overwritten in module Compat at /home/pablo1/.julia/v0.3/Compat/src/Compat.jl:211.\n",
      "Warning: Method definition parse(Type{T<:Union(Float64,Float32)},String) in module Compat at /home/pablo1/.julia/v0.3/Compat/src/Compat.jl:212 overwritten in module Compat at /home/pablo1/.julia/v0.3/Compat/src/Compat.jl:212.\n"
     ]
    },
    {
     "name": "stdout",
     "output_type": "stream",
     "text": [
      "Prueba básicas de Bolas:\n",
      "2 facts verified.\n",
      "Pruebas de funciones para bolas :\n",
      "7 facts verified.\n",
      "Prueba básicas de aritmética:\n",
      "16 facts verified.\n"
     ]
    }
   ],
   "source": [
    "workspace()\n",
    "using Bolas\n",
    "using FactCheck\n",
    "using BolasTest"
   ]
  },
  {
   "cell_type": "code",
   "execution_count": 16,
   "metadata": {
    "collapsed": false
   },
   "outputs": [
    {
     "data": {
      "text/plain": [
       "* (generic function with 132 methods)"
      ]
     },
     "execution_count": 16,
     "metadata": {},
     "output_type": "execute_result"
    }
   ],
   "source": [
    "function *(A::Bola,B::Bola)\n",
    "    return(Bola(A.centro*B.centro,UpSum(UpProd(norma(A.centro)+A.radio,B.radio),UpProd(norma(B.centro)+B.radio,A.radio))))\n",
    "end"
   ]
  },
  {
   "cell_type": "code",
   "execution_count": 15,
   "metadata": {
    "collapsed": false
   },
   "outputs": [
    {
     "data": {
      "text/plain": [
       "2.0000000000000004"
      ]
     },
     "execution_count": 15,
     "metadata": {},
     "output_type": "execute_result"
    }
   ],
   "source": [
    "norma([-1,1])^2"
   ]
  },
  {
   "cell_type": "code",
   "execution_count": 7,
   "metadata": {
    "collapsed": false
   },
   "outputs": [
>>>>>>> 98f84a32c98da6d23e288f5f956dcba8ea1963c2
    {
     "cell_type": "code",
     "collapsed": false,
     "input": [
      "B=Bola(2,.1)\n",
      "A=Bola(3,.1)"
     ],
     "language": "python",
     "metadata": {},
<<<<<<< HEAD
     "outputs": [
      {
       "metadata": {},
       "output_type": "pyout",
       "prompt_number": 14,
       "text": [
        "Bola(3,0.1)"
       ]
      }
     ],
     "prompt_number": 14
    },
    {
     "cell_type": "code",
     "collapsed": false,
     "input": [
      "B+A+A+A+A\n"
     ],
     "language": "python",
     "metadata": {},
     "outputs": [
      {
       "metadata": {},
       "output_type": "pyout",
       "prompt_number": 17,
       "text": [
        "Bola(14,0.5000000000000001)"
       ]
      }
     ],
     "prompt_number": 17
    },
    {
     "cell_type": "code",
     "collapsed": false,
     "input": [
      "distancia(1.1,2)"
     ],
     "language": "python",
     "metadata": {},
     "outputs": [
      {
       "metadata": {},
       "output_type": "pyout",
       "prompt_number": 23,
       "text": [
        "0.8999999999999999"
       ]
      }
     ],
     "prompt_number": 23
    },
    {
     "cell_type": "code",
     "collapsed": false,
     "input": [
      "function distancia(x,y) #Mide la distancia entre dos puntos\n",
      "    \n",
      "    if length(x) != length(y)\n",
      "        error(\"Error: ambos puntos deben tener el mismo numero de entradas\")\n",
      "    end\n",
      "    \n",
      "    dist=0\n",
      "    \n",
      "    for i=1:length(x)\n",
      "        dist+=(x[i]-y[i])^2\n",
      "    end\n",
      "    \n",
      "    return(sqrt(dist))\n",
      "end\n",
      "    \n",
      "function distancia(A::Bola,B::Bola) #Mide la distancia entre dos puntos\n",
      "    \n",
      "    x=A.centro\n",
      "    y=B.centro\n",
      "    \n",
      "    if length(x) != length(y)\n",
      "        error(\"Error: ambos puntos deben tener el mismo numero de entradas\")\n",
      "    end\n",
      "    \n",
      "    dist=0\n",
      "    \n",
      "    for i=1:length(x)\n",
      "        dist+=(x[i]-y[i])^2\n",
      "    end\n",
      "    \n",
      "    return(sqrt(dist))\n",
      "end\n",
      "\n",
      "\n",
      "function contiene(B::Bola,x)\n",
      "\n",
      "    if distancia(B.centro,x)<= B.radio\n",
      "        return(true)\n",
      "    else\n",
      "        return(false)\n",
      "    end\n",
      "     \n",
      "end\n",
      "\n",
      "function +(A::Bola,B::Bola)\n",
      "    \n",
      "    return(Bola(A.centro+B.centro,A.radio+B.radio))\n",
      "end\n",
      "\n",
      "function +(A::Bola,c)\n",
      "    \n",
      "    return(Bola(A.centro+c,A.radio))\n",
      "end\n",
      "\n",
      "function +(c,A::Bola)\n",
      "    \n",
      "    return(Bola(A.centro+c,A.radio))\n",
      "end\n",
      "\n",
      "function -(A::Bola,B::Bola)\n",
      "    \n",
      "    return(Bola(A.centro-B.centro,A.radio+B.radio))\n",
      "end\n",
      "\n",
      "function +(A::Bola,B::Bola)\n",
      "    \n",
      "    return(Bola(A.centro+B.centro,A.radio+B.radio))\n",
      "end\n",
      "\n",
      "function -(A::Bola,c)\n",
      "    \n",
      "    return(Bola(A.centro+c,A.radio))\n",
      "end\n",
      "\n",
      "function -(c,A::Bola)\n",
      "    \n",
      "    return(Bola(A.centro-c,A.radio))\n",
      "end    \n",
      "    "
     ],
     "language": "python",
     "metadata": {},
     "outputs": [
      {
       "metadata": {},
       "output_type": "pyout",
       "prompt_number": 44,
       "text": [
        "- (generic function with 130 methods)"
       ]
      }
     ],
     "prompt_number": 44
    },
=======
     "output_type": "execute_result"
    }
   ],
   "source": [
    "Bola(1,-1)"
   ]
  },
  {
   "cell_type": "code",
   "execution_count": 103,
   "metadata": {
    "collapsed": false
   },
   "outputs": [
    {
     "data": {
      "text/plain": [
       "Bola(3,1)"
      ]
     },
     "execution_count": 103,
     "metadata": {},
     "output_type": "execute_result"
    }
   ],
   "source": [
    "B=Bola(3,1)\n",
    "A=Bola(3,1)"
   ]
  },
  {
   "cell_type": "code",
   "execution_count": 39,
   "metadata": {
    "collapsed": false
   },
   "outputs": [
    {
     "data": {
      "text/plain": [
       "/ (generic function with 46 methods)"
      ]
     },
     "execution_count": 39,
     "metadata": {},
     "output_type": "execute_result"
    }
   ],
   "source": [
    "\n"
   ]
  },
  {
   "cell_type": "code",
   "execution_count": 104,
   "metadata": {
    "collapsed": false
   },
   "outputs": [
    {
     "data": {
      "text/plain": [
       "Bola(9,7.0)"
      ]
     },
     "execution_count": 104,
     "metadata": {},
     "output_type": "execute_result"
    }
   ],
   "source": [
    "B*A"
   ]
  },
  {
   "cell_type": "code",
   "execution_count": 44,
   "metadata": {
    "collapsed": false
   },
   "outputs": [
>>>>>>> 98f84a32c98da6d23e288f5f956dcba8ea1963c2
    {
     "cell_type": "code",
     "collapsed": false,
     "input": [
      "distancia([4,3],[5,2])"
     ],
     "language": "python",
     "metadata": {},
     "outputs": [
      {
       "metadata": {},
       "output_type": "pyout",
       "prompt_number": 30,
       "text": [
        "1.4142135623730951"
       ]
      }
     ],
     "prompt_number": 30
    },
    {
     "cell_type": "code",
     "collapsed": false,
     "input": [
      "B"
     ],
     "language": "python",
     "metadata": {},
     "outputs": [
      {
       "metadata": {},
       "output_type": "pyout",
       "prompt_number": 35,
       "text": [
        "Bola(2,0.03125)"
       ]
      }
     ],
     "prompt_number": 35
    },
    {
     "cell_type": "code",
     "collapsed": false,
     "input": [
      "contiene(B,2)"
     ],
     "language": "python",
     "metadata": {},
     "outputs": [
      {
       "metadata": {},
       "output_type": "pyout",
       "prompt_number": 37,
       "text": [
        "true"
       ]
      }
     ],
     "prompt_number": 37
    },
    {
     "cell_type": "code",
     "collapsed": false,
     "input": [
      "contiene(B,3)"
     ],
     "language": "python",
     "metadata": {},
     "outputs": [
      {
       "metadata": {},
       "output_type": "pyout",
       "prompt_number": 38,
       "text": [
        "false"
       ]
      }
     ],
     "prompt_number": 38
    },
    {
     "cell_type": "code",
     "collapsed": false,
     "input": [
      "A = Bola(2,3)\n",
      "B = Bola(-1,-3)"
     ],
     "language": "python",
     "metadata": {},
<<<<<<< HEAD
     "outputs": [
      {
       "metadata": {},
       "output_type": "pyout",
       "prompt_number": 26,
       "text": [
        "Bola(-1,3)"
       ]
      }
     ],
     "prompt_number": 26
    },
    {
     "cell_type": "code",
     "collapsed": false,
     "input": [
      "A+B"
     ],
     "language": "python",
     "metadata": {},
     "outputs": [
      {
       "metadata": {},
       "output_type": "pyout",
       "prompt_number": 41,
       "text": [
        "Bola(1,6)"
       ]
      }
     ],
     "prompt_number": 41
    },
=======
     "output_type": "execute_result"
    }
   ],
   "source": [
    "contiene(B,3)"
   ]
  },
  {
   "cell_type": "code",
   "execution_count": 158,
   "metadata": {
    "collapsed": false
   },
   "outputs": [
    {
     "data": {
      "text/plain": [
       "Bola(-1,3)"
      ]
     },
     "execution_count": 158,
     "metadata": {},
     "output_type": "execute_result"
    }
   ],
   "source": [
    "A = Bola(-2,1)\n",
    "B = Bola(-1,-3)"
   ]
  },
  {
   "cell_type": "code",
   "execution_count": 41,
   "metadata": {
    "collapsed": false
   },
   "outputs": [
>>>>>>> 98f84a32c98da6d23e288f5f956dcba8ea1963c2
    {
     "cell_type": "code",
     "collapsed": false,
     "input": [
      "distancia(A,B)"
     ],
     "language": "python",
     "metadata": {},
<<<<<<< HEAD
     "outputs": [
      {
       "metadata": {},
       "output_type": "pyout",
       "prompt_number": 27,
       "text": [
        "3.0"
       ]
      }
     ],
     "prompt_number": 27
    },
    {
     "cell_type": "code",
     "collapsed": false,
     "input": [
      "\n",
      "\n",
      "\n",
      "    "
     ],
     "language": "python",
     "metadata": {},
     "outputs": [
      {
       "metadata": {},
       "output_type": "pyout",
       "prompt_number": 26,
       "text": [
        "* (generic function with 117 methods)"
       ]
      }
     ],
     "prompt_number": 26
    },
    {
     "cell_type": "code",
     "collapsed": false,
     "input": [
      "5*Bola(2)*2"
     ],
     "language": "python",
     "metadata": {},
     "outputs": [
      {
       "metadata": {},
       "output_type": "pyout",
       "prompt_number": 27,
       "text": [
        "Bola(20,1)"
       ]
      }
     ],
     "prompt_number": 27
    },
    {
     "cell_type": "code",
     "collapsed": true,
     "input": [],
     "language": "python",
=======
     "output_type": "execute_result"
    }
   ],
   "source": [
    "A+B"
   ]
  },
  {
   "cell_type": "code",
   "execution_count": 124,
   "metadata": {
    "collapsed": false
   },
   "outputs": [
    {
     "data": {
      "text/plain": [
       "f (generic function with 1 method)"
      ]
     },
     "execution_count": 124,
     "metadata": {},
     "output_type": "execute_result"
    }
   ],
   "source": [
    "f(x) = (x*x)*x"
   ]
  },
  {
   "cell_type": "code",
   "execution_count": 165,
   "metadata": {
    "collapsed": false
   },
   "outputs": [
    {
     "data": {
      "text/plain": [
       "^ (generic function with 46 methods)"
      ]
     },
     "execution_count": 165,
     "metadata": {},
     "output_type": "execute_result"
    }
   ],
   "source": [
    "function ^(A::Bola, n::Int)\n",
    "    \n",
    "    if n == 0\n",
    "        return Bola(1,0)\n",
    "    end\n",
    "    \n",
    "    if n == 1\n",
    "        \n",
    "        return A\n",
    "    end\n",
    "    \n",
    "    \n",
    "    return Bola(A.centro^n,n*abs(A.centro)^(n-1)*A.radio+n*(n-1)*abs(A.centro)^(n-2)*A.radio)\n",
    "end\n",
    "\n",
    "\n",
    "\n",
    "    "
   ]
  },
  {
   "cell_type": "code",
   "execution_count": 167,
   "metadata": {
    "collapsed": false
   },
   "outputs": [
    {
     "data": {
      "text/plain": [
       "Bola(1,0)"
      ]
     },
     "execution_count": 167,
     "metadata": {},
     "output_type": "execute_result"
    }
   ],
   "source": [
    "A^0"
   ]
  },
  {
   "cell_type": "code",
   "execution_count": 147,
   "metadata": {
    "collapsed": false
   },
   "outputs": [
    {
     "data": {
      "text/plain": [
       "125"
      ]
     },
     "execution_count": 147,
>>>>>>> 98f84a32c98da6d23e288f5f956dcba8ea1963c2
     "metadata": {},
     "outputs": [],
     "prompt_number": null
    }
   ],
<<<<<<< HEAD
   "metadata": {}
=======
   "source": [
    "5^3"
   ]
  },
  {
   "cell_type": "code",
   "execution_count": null,
   "metadata": {
    "collapsed": true
   },
   "outputs": [],
   "source": []
>>>>>>> 98f84a32c98da6d23e288f5f956dcba8ea1963c2
  }
 ]
}
