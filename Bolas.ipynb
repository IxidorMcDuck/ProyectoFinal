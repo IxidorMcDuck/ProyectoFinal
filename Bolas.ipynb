{
 "cells": [
  {
   "cell_type": "code",
   "execution_count": 4,
   "metadata": {
    "collapsed": true
   },
   "outputs": [],
   "source": []
  },
  {
   "cell_type": "code",
   "execution_count": 11,
   "metadata": {
    "collapsed": false
   },
   "outputs": [],
   "source": [
    "using Bolas\n",
    "using FactCheck\n",
    "using BolasTest\n",
    "using Derivatives"
   ]
  },
  {
   "cell_type": "code",
   "execution_count": 16,
   "metadata": {
    "collapsed": false
   },
   "outputs": [
    {
     "data": {
      "text/plain": [
       "* (generic function with 132 methods)"
      ]
     },
     "execution_count": 16,
     "metadata": {},
     "output_type": "execute_result"
    }
   ],
   "source": [
    "function *(A::Bola,B::Bola)\n",
    "    return(Bola(A.centro*B.centro,UpSum(UpProd(norma(A.centro)+A.radio,B.radio),UpProd(norma(B.centro)+B.radio,A.radio))))\n",
    "end"
   ]
  },
  {
   "cell_type": "code",
   "execution_count": 15,
   "metadata": {
    "collapsed": false
   },
   "outputs": [
    {
     "data": {
      "text/plain": [
       "2.0000000000000004"
      ]
     },
     "execution_count": 15,
     "metadata": {},
     "output_type": "execute_result"
    }
   ],
   "source": [
    "norma([-1,1])^2"
   ]
  },
  {
   "cell_type": "code",
   "execution_count": 7,
   "metadata": {
    "collapsed": false
   },
   "outputs": [
    {
     "data": {
      "text/plain": [
       "Bola(1,1)"
      ]
     },
     "execution_count": 7,
     "metadata": {},
     "output_type": "execute_result"
    }
   ],
   "source": [
    "Bola(1,-1)"
   ]
  },
  {
   "cell_type": "code",
   "execution_count": 103,
   "metadata": {
    "collapsed": false
   },
   "outputs": [
    {
     "data": {
      "text/plain": [
       "Bola(3,1)"
      ]
     },
     "execution_count": 103,
     "metadata": {},
     "output_type": "execute_result"
    }
   ],
   "source": [
    "B=Bola(3,1)\n",
    "A=Bola(3,1)"
   ]
  },
  {
   "cell_type": "code",
   "execution_count": 3,
   "metadata": {
    "collapsed": false
   },
   "outputs": [
    {
     "ename": "LoadError",
     "evalue": "A not defined\nwhile loading In[3], in expression starting on line 1",
     "output_type": "error",
     "traceback": [
      "A not defined\nwhile loading In[3], in expression starting on line 1",
      ""
     ]
    }
   ],
   "source": [
    "\n"
   ]
  },
  {
   "cell_type": "code",
   "execution_count": 104,
   "metadata": {
    "collapsed": false
   },
   "outputs": [
    {
     "data": {
      "text/plain": [
       "Bola(9,7.0)"
      ]
     },
     "execution_count": 104,
     "metadata": {},
     "output_type": "execute_result"
    }
   ],
   "source": [
    "B*A"
   ]
  },
  {
   "cell_type": "code",
   "execution_count": 44,
   "metadata": {
    "collapsed": false
   },
   "outputs": [
    {
     "data": {
      "text/plain": [
       "- (generic function with 130 methods)"
      ]
     },
     "execution_count": 44,
     "metadata": {},
     "output_type": "execute_result"
    }
   ],
   "source": [
    "function distancia(x,y) #Mide la distancia entre dos puntos\n",
    "    \n",
    "    if length(x) != length(y)\n",
    "        error(\"Error: ambos puntos deben tener el mismo numero de entradas\")\n",
    "    end\n",
    "    \n",
    "    dist=0\n",
    "    \n",
    "    for i=1:length(x)\n",
    "        dist+=(x[i]-y[i])^2\n",
    "    end\n",
    "    \n",
    "    return(sqrt(dist))\n",
    "end\n",
    "    \n",
    "function distancia(A::Bola,B::Bola) #Mide la distancia entre dos puntos\n",
    "    \n",
    "    x=A.centro\n",
    "    y=B.centro\n",
    "    \n",
    "    if length(x) != length(y)\n",
    "        error(\"Error: ambos puntos deben tener el mismo numero de entradas\")\n",
    "    end\n",
    "    \n",
    "    dist=0\n",
    "    \n",
    "    for i=1:length(x)\n",
    "        dist+=(x[i]-y[i])^2\n",
    "    end\n",
    "    \n",
    "    return(sqrt(dist))\n",
    "end\n",
    "\n",
    "\n",
    "function contiene(B::Bola,x)\n",
    "\n",
    "    if distancia(B.centro,x)<= B.radio\n",
    "        return(true)\n",
    "    else\n",
    "        return(false)\n",
    "    end\n",
    "     \n",
    "end\n",
    "\n",
    "function +(A::Bola,B::Bola)\n",
    "    \n",
    "    return(Bola(A.centro+B.centro,A.radio+B.radio))\n",
    "end\n",
    "\n",
    "function +(A::Bola,c)\n",
    "    \n",
    "    return(Bola(A.centro+c,A.radio))\n",
    "end\n",
    "\n",
    "function +(c,A::Bola)\n",
    "    \n",
    "    return(Bola(A.centro+c,A.radio))\n",
    "end\n",
    "\n",
    "function -(A::Bola,B::Bola)\n",
    "    \n",
    "    return(Bola(A.centro-B.centro,A.radio+B.radio))\n",
    "end\n",
    "\n",
    "function +(A::Bola,B::Bola)\n",
    "    \n",
    "    return(Bola(A.centro+B.centro,A.radio+B.radio))\n",
    "end\n",
    "\n",
    "function -(A::Bola,c)\n",
    "    \n",
    "    return(Bola(A.centro+c,A.radio))\n",
    "end\n",
    "\n",
    "function -(c,A::Bola)\n",
    "    \n",
    "    return(Bola(A.centro-c,A.radio))\n",
    "end    \n",
    "    "
   ]
  },
  {
   "cell_type": "code",
   "execution_count": 30,
   "metadata": {
    "collapsed": false
   },
   "outputs": [
    {
     "data": {
      "text/plain": [
       "1.4142135623730951"
      ]
     },
     "execution_count": 30,
     "metadata": {},
     "output_type": "execute_result"
    }
   ],
   "source": [
    "distancia([4,3],[5,2])"
   ]
  },
  {
   "cell_type": "code",
   "execution_count": 35,
   "metadata": {
    "collapsed": false
   },
   "outputs": [
    {
     "data": {
      "text/plain": [
       "Bola(2,0.03125)"
      ]
     },
     "execution_count": 35,
     "metadata": {},
     "output_type": "execute_result"
    }
   ],
   "source": [
    "B"
   ]
  },
  {
   "cell_type": "code",
   "execution_count": 37,
   "metadata": {
    "collapsed": false
   },
   "outputs": [
    {
     "data": {
      "text/plain": [
       "true"
      ]
     },
     "execution_count": 37,
     "metadata": {},
     "output_type": "execute_result"
    }
   ],
   "source": [
    "contiene(B,2)"
   ]
  },
  {
   "cell_type": "code",
   "execution_count": 38,
   "metadata": {
    "collapsed": false
   },
   "outputs": [
    {
     "data": {
      "text/plain": [
       "false"
      ]
     },
     "execution_count": 38,
     "metadata": {},
     "output_type": "execute_result"
    }
   ],
   "source": [
    "contiene(B,3)"
   ]
  },
  {
   "cell_type": "code",
   "execution_count": 4,
   "metadata": {
    "collapsed": false
   },
   "outputs": [
    {
     "data": {
      "text/plain": [
       "Bola(-1,3)"
      ]
     },
     "execution_count": 4,
     "metadata": {},
     "output_type": "execute_result"
    }
   ],
   "source": [
    "A = Bola(-2,1)\n",
    "B = Bola(-1,-3)"
   ]
  },
  {
   "cell_type": "code",
   "execution_count": 5,
   "metadata": {
    "collapsed": false
   },
   "outputs": [
    {
     "data": {
      "text/plain": [
       "Derive(Bola(-2,1),1)"
      ]
     },
     "execution_count": 5,
     "metadata": {},
     "output_type": "execute_result"
    }
   ],
   "source": [
    "a=makex(A)"
   ]
  },
  {
   "cell_type": "code",
   "execution_count": 7,
   "metadata": {
    "collapsed": false
   },
   "outputs": [
    {
     "data": {
      "text/plain": [
       "f (generic function with 1 method)"
      ]
     },
     "execution_count": 7,
     "metadata": {},
     "output_type": "execute_result"
    }
   ],
   "source": [
    "f(x) = x^3"
   ]
  },
  {
   "cell_type": "code",
   "execution_count": 165,
   "metadata": {
    "collapsed": false
   },
   "outputs": [
    {
     "data": {
      "text/plain": [
       "^ (generic function with 46 methods)"
      ]
     },
     "execution_count": 165,
     "metadata": {},
     "output_type": "execute_result"
    }
   ],
   "source": [
    "function ^(A::Bola, n::Int)\n",
    "    \n",
    "    if n == 0\n",
    "        return Bola(1,0)\n",
    "    end\n",
    "    \n",
    "    if n == 1\n",
    "        \n",
    "        return A\n",
    "    end\n",
    "    \n",
    "    \n",
    "    return Bola(A.centro^n,n*abs(A.centro)^(n-1)*A.radio+n*(n-1)*abs(A.centro)^(n-2)*A.radio)\n",
    "end\n",
    "\n",
    "\n",
    "\n",
    "    "
   ]
  },
  {
   "cell_type": "code",
   "execution_count": 8,
   "metadata": {
    "collapsed": false
   },
   "outputs": [
    {
     "data": {
      "text/plain": [
       "Derive(Bola(-8,24),Bola(12,18))"
      ]
     },
     "execution_count": 8,
     "metadata": {},
     "output_type": "execute_result"
    }
   ],
   "source": [
    "f(a)"
   ]
  },
  {
   "cell_type": "code",
   "execution_count": 9,
   "metadata": {
    "collapsed": false
   },
   "outputs": [
    {
     "data": {
      "text/plain": [
       "Bola(-8,24)"
      ]
     },
     "execution_count": 9,
     "metadata": {},
     "output_type": "execute_result"
    }
   ],
   "source": [
    "f(A)"
   ]
  },
  {
   "cell_type": "code",
   "execution_count": 10,
   "metadata": {
    "collapsed": false
   },
   "outputs": [
    {
     "data": {
      "text/plain": [
       "Bola(12,18)"
      ]
     },
     "execution_count": 10,
     "metadata": {},
     "output_type": "execute_result"
    }
   ],
   "source": [
    "3*A^2"
   ]
  },
  {
   "cell_type": "code",
   "execution_count": null,
   "metadata": {
    "collapsed": true
   },
   "outputs": [],
   "source": []
  }
 ],
 "metadata": {
  "kernelspec": {
   "display_name": "Julia 0.3.7",
   "language": "julia",
   "name": "julia 0.3"
  },
  "language_info": {
   "name": "julia",
   "version": "0.3.7"
  }
 },
 "nbformat": 4,
 "nbformat_minor": 0
}
