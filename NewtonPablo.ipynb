{
 "cells": [
  {
   "cell_type": "code",
   "execution_count": 1,
   "metadata": {
    "collapsed": false
   },
   "outputs": [
    {
     "name": "stderr",
     "output_type": "stream",
     "text": [
      "Warning: New definition \n",
      "    ^(Derive,Real) at /home/pablo1/Documents/Tareas/ProyectoFinalMNA/Derivatives.jl:93\n",
      "is ambiguous with: \n",
      "    ^(Any,Integer) at intfuncs.jl:86.\n",
      "To fix, define \n",
      "    ^(Derive,Integer)\n",
      "before the new definition.\n",
      "Warning: New definition \n",
      "    promote_type(Type{T<:Number},Type{Interval}) at /home/pablo1/Documents/Tareas/ProyectoFinalMNA/Intervals.jl:467\n",
      "is ambiguous with: \n",
      "    promote_type(Type{None},Type{T}) at promotion.jl:103.\n",
      "To fix, define \n",
      "    promote_type(Type{None},Type{Interval})\n",
      "before the new definition.\n",
      "Warning: New definition \n",
      "    promote_type(Type{T<:Number},Type{Interval}) at /home/pablo1/Documents/Tareas/ProyectoFinalMNA/Intervals.jl:467\n",
      "is ambiguous with: \n",
      "    promote_type(Type{T},Type{T}) at promotion.jl:101.\n",
      "To fix, define \n",
      "    promote_type(Type{_<:Number},Type{_<:Number})\n",
      "before the new definition.\n",
      "Warning: requiring \"BolaIntervalo\" did not define a corresponding module.\n"
     ]
    }
   ],
   "source": [
    "workspace()\n",
    "using Bolas\n",
    "using Derivatives\n",
    "using BolaIntervalo\n"
   ]
  },
  {
   "cell_type": "code",
   "execution_count": 26,
   "metadata": {
    "collapsed": false
   },
   "outputs": [
    {
     "data": {
      "text/plain": [
       "Interval(3.0,5.0)"
      ]
     },
     "execution_count": 26,
     "metadata": {},
     "output_type": "execute_result"
    }
   ],
   "source": [
    "A=Bola(4,1)\n",
    "B=Bola(2,1)\n",
    "N=Bola(0.9999942779541016,9.5367431640625e-6)\n",
    "\n",
    "bola_a_intervalo(A)"
   ]
  },
  {
   "cell_type": "code",
   "execution_count": 18,
   "metadata": {
    "collapsed": false
   },
   "outputs": [
    {
     "name": "stdout",
     "output_type": "stream",
     "text": [
      "Posible raíz en 0.99908447265625 ± 0.00091552734375\n",
      "Posible raíz en 2.00067138671875 ± 0.00091552734375\n",
      "Posible raíz en 3.0 ± 1.3322676295501878e-15\n",
      "Posible raíz en 4.000000000000001 ± 1.7763568394002505e-15\n",
      "Posible raíz en 5.0 ± 2.0000000000073476e-15\n",
      "Posible raíz en 5.99969482421875 ± 0.00091552734375\n"
     ]
    }
   ],
   "source": [
    "function revisar_cercanas(A,B,tol) #revisa si una raíz dada está cerca de las demás\n",
    "    \n",
    "    for i = 1:length(B)\n",
    "        \n",
    "        if distancia(A,B[i]) <= tol\n",
    "            return(true) \n",
    "        end\n",
    "        \n",
    "        \n",
    "    end\n",
    "    \n",
    "    return(false)\n",
    "end\n",
    "\n",
    "function quitar_repetidas(A,tol) #remueve raices que esten mas cerca que una cierta tolerancia\n",
    "   \n",
    "    temp=Bola[]\n",
    "    \n",
    "    for i=1:length(A)\n",
    "        \n",
    "        if !(revisar_cercanas(A[i],temp,tol))\n",
    "            push!(temp,A[i])\n",
    "        end\n",
    "        \n",
    "    end\n",
    "    \n",
    "    return(temp)\n",
    "end\n",
    "\n",
    "function quitar_no_deseadas(F::Function,B,x) #Funcion para quitar bolas donde la derivada de la funcion se hace cero\n",
    "    \n",
    "    temp=Bola[]\n",
    "    dF(x)=F(makex(x)).d\n",
    "    \n",
    "    for i=1:length(B)\n",
    "        if !contiene(dF(B[i]),x)\n",
    "            push!(temp,B[i])\n",
    "        end\n",
    "    end\n",
    "    \n",
    "    return(temp)\n",
    "end\n",
    "\n",
    "function quitar_no_utiles(F::Function,B,x) #Se encarga de quitar bolas que no contienen ceros de la funcion\n",
    "    \n",
    "    temp=Bola[]\n",
    "    \n",
    "    for i=1:length(B)\n",
    "        if contiene(F(B[i]),x)\n",
    "            push!(temp,B[i])\n",
    "        end\n",
    "    end\n",
    "    \n",
    "    return(temp)\n",
    "end\n",
    "\n",
    "\n",
    "\n",
    "function operador_de_newton_bola(F::Function,B::Bola) \n",
    "    \n",
    "    dF(x)=F(makex(x)).d\n",
    "    m=Bola(B.centro,1e-15) #Le asigno un radio mínimo al punto m \n",
    "    \n",
    "    \n",
    "    return (m-F(m)/(dF(B)))\n",
    "    \n",
    "end   \n",
    "\n",
    "function metodo_newton_bola(F::Function, B::Bola)\n",
    "    \n",
    "    X=[B]\n",
    "    \n",
    "    i=0\n",
    "    tolbis=1e-3\n",
    "    tolradio=1e-15\n",
    "    tolsimilar = 1e-2\n",
    "    \n",
    "    while(X[1].radio>tolbis)\n",
    "        \n",
    "       X=bisectar_bolas(X)\n",
    "       X=quitar_no_utiles(F,X,0)\n",
    "    \n",
    "        \n",
    "        i+=1\n",
    "        \n",
    "        if i==50\n",
    "            break\n",
    "        end\n",
    "        \n",
    "        X\n",
    " \n",
    "    end\n",
    "    \n",
    "    X=quitar_no_deseadas(F,X,0)\n",
    "    \n",
    "    j=0\n",
    "    \n",
    "    radio_promedio=1\n",
    "    \n",
    "    while(tolradio<radio_promedio)\n",
    "        \n",
    "        radio_promedio=0\n",
    "        \n",
    "        \n",
    "        for i=1:length(X)\n",
    "            \n",
    "            temp=operador_de_newton_bola(F,X[i])\n",
    "            \n",
    "            if interseccion_de_bolas(X[i],temp)==nothing\n",
    "                X[i]=interseccion_de_bolas(B,temp)\n",
    "            else\n",
    "                X[i]=interseccion_de_bolas(X[i],temp)\n",
    "            end\n",
    "            \n",
    "            radio_promedio+=(X[i].radio)\n",
    "        end\n",
    "         \n",
    "        radio_promedio/=length(X)\n",
    "        \n",
    "        j+=1\n",
    "        \n",
    "        if j==50\n",
    "            break\n",
    "        end\n",
    "    end\n",
    "    \n",
    "    X=quitar_repetidas(X,tolsimilar)\n",
    "    \n",
    "    for i=1:length(X) \n",
    "        println(\"Posible raíz en $(X[i].centro) ± $(X[i].radio)\")\n",
    "    end\n",
    "    \n",
    "end\n",
    "\n",
    "f(x)=(x-1)*(x-2)*(x-3)*(x-4)*(x-5)*(x-6)\n",
    "g(x)=(x-2)*(x+4)*(exp(x)-1)*exp(x)\n",
    "M=metodo_newton_bola(f,Bola(1,30))"
   ]
  },
  {
   "cell_type": "code",
   "execution_count": 20,
   "metadata": {
    "collapsed": false
   },
   "outputs": [
    {
     "data": {
      "text/plain": [
       "-8.881784197001252e-16"
      ]
     },
     "execution_count": 20,
     "metadata": {},
     "output_type": "execute_result"
    }
   ],
   "source": [
    "4-4.000000000000001"
   ]
  },
  {
   "cell_type": "code",
   "execution_count": 82,
   "metadata": {
    "collapsed": false
   },
   "outputs": [
    {
     "data": {
      "text/plain": [
       "-5.849978886418583e-6"
      ]
     },
     "execution_count": 82,
     "metadata": {},
     "output_type": "execute_result"
    }
   ],
   "source": [
    "g(2.471156143761765985091067496914777668228857824447285685081296242485736952738683e+00-3.921311541886343194711952615628528423130597924445861642547724252737956805218929e-17)"
   ]
  },
  {
   "cell_type": "code",
   "execution_count": 86,
   "metadata": {
    "collapsed": false
   },
   "outputs": [
    {
     "ename": "LoadError",
     "evalue": "No se puede dividir por una bola que contine el 0\nwhile loading In[86], in expression starting on line 1",
     "output_type": "error",
     "traceback": [
      "No se puede dividir por una bola que contine el 0\nwhile loading In[86], in expression starting on line 1",
      "",
      " in / at /home/pablo1/Documents/Tareas/ProyectoFinalMNA/Bolas.jl:223",
      " in operador_de_newton_bola at In[78]:22"
     ]
    }
   ],
   "source": [
    "operador_de_newton_bola(f,Bola(3.0056896291766835,0.5880009079680009))"
   ]
  },
  {
   "cell_type": "code",
   "execution_count": 3,
   "metadata": {
    "collapsed": false
   },
   "outputs": [
    {
     "data": {
      "text/plain": [
       "7-element Array{Int64,1}:\n",
       " 1\n",
       " 2\n",
       " 3\n",
       " 4\n",
       " 5\n",
       " 6\n",
       " 7"
      ]
     },
     "execution_count": 3,
     "metadata": {},
     "output_type": "execute_result"
    }
   ],
   "source": [
    "M=[1,2,3,4,5,6,6,6,7,1]\n",
    "\n",
    "\n",
    "for i=1:length(M)\n",
    "    \n",
    "    temp=Int[]\n",
    "    \n",
    "    for i=1:length(M)\n",
    "        \n",
    "        if !(M[i] in temp)\n",
    "            push!(temp,M[i])\n",
    "        end\n",
    "    end\n",
    "        \n",
    "    return(temp)\n",
    "end\n",
    "\n"
   ]
  },
  {
   "cell_type": "code",
   "execution_count": 2,
   "metadata": {
    "collapsed": false
   },
   "outputs": [
    {
     "ename": "LoadError",
     "evalue": "M not defined\nwhile loading In[2], in expression starting on line 30",
     "output_type": "error",
     "traceback": [
      "M not defined\nwhile loading In[2], in expression starting on line 30",
      ""
     ]
    }
   ],
   "source": [
    "\n",
    "\n",
    "quitar_repetidas(M,.05)"
   ]
  },
  {
   "cell_type": "code",
   "execution_count": 62,
   "metadata": {
    "collapsed": false
   },
   "outputs": [
    {
     "data": {
      "text/plain": [
       "6-element Array{Bola,1}:\n",
       " Bola(3,1)  \n",
       " Bola(2,1)  \n",
       " Bola(3,1)  \n",
       " Bola(4,1)  \n",
       " Bola(2,1)  \n",
       " Bola(3.1,1)"
      ]
     },
     "execution_count": 62,
     "metadata": {},
     "output_type": "execute_result"
    }
   ],
   "source": [
    "M=[Bola(3),Bola(2),Bola(3),Bola(4),Bola(2),Bola(3.1)]"
   ]
  },
  {
   "cell_type": "code",
   "execution_count": 50,
   "metadata": {
    "collapsed": false
   },
   "outputs": [
    {
     "data": {
      "text/plain": [
       "quitar_bolas_similares (generic function with 1 method)"
      ]
     },
     "execution_count": 50,
     "metadata": {},
     "output_type": "execute_result"
    }
   ],
   "source": [
    "function quitar_bolas_similares(B,tol::Real)\n",
    "    \n",
    "    return(temp)\n",
    "end"
   ]
  },
  {
   "cell_type": "code",
   "execution_count": 22,
   "metadata": {
    "collapsed": false
   },
   "outputs": [
    {
     "data": {
      "text/plain": [
       "false"
      ]
     },
     "execution_count": 22,
     "metadata": {},
     "output_type": "execute_result"
    }
   ],
   "source": []
  },
  {
   "cell_type": "code",
   "execution_count": 54,
   "metadata": {
    "collapsed": false
   },
   "outputs": [
    {
     "ename": "LoadError",
     "evalue": "`isless` has no method matching isless(::Bola, ::Bola)\nwhile loading In[54], in expression starting on line 1",
     "output_type": "error",
     "traceback": [
      "`isless` has no method matching isless(::Bola, ::Bola)\nwhile loading In[54], in expression starting on line 1",
      "",
      " in sort! at sort.jl:262",
      " in sort! at sort.jl:314",
      " in sort! at sort.jl:353",
      " in sort at sort.jl:358"
     ]
    }
   ],
   "source": [
    "sort(M)"
   ]
  },
  {
   "cell_type": "code",
   "execution_count": 47,
   "metadata": {
    "collapsed": false
   },
   "outputs": [
    {
     "data": {
      "text/plain": [
       "49868.10344827586"
      ]
     },
     "execution_count": 47,
     "metadata": {},
     "output_type": "execute_result"
    }
   ],
   "source": [
    "57847/1.16"
   ]
  },
  {
   "cell_type": "code",
   "execution_count": 48,
   "metadata": {
    "collapsed": false
   },
   "outputs": [
    {
     "data": {
      "text/plain": [
       "10000.0"
      ]
     },
     "execution_count": 48,
     "metadata": {},
     "output_type": "execute_result"
    }
   ],
   "source": [
    "150000/15"
   ]
  },
  {
   "cell_type": "code",
   "execution_count": 106,
   "metadata": {
    "collapsed": false
   },
   "outputs": [
    {
     "data": {
      "text/plain": [
       "Bola([1,2],1)"
      ]
     },
     "execution_count": 106,
     "metadata": {},
     "output_type": "execute_result"
    }
   ],
   "source": [
    "M=Bola([1,1],1)\n",
    "N=Bola([1,2],1)"
   ]
  },
  {
   "cell_type": "code",
   "execution_count": 110,
   "metadata": {
    "collapsed": false
   },
   "outputs": [
    {
     "data": {
      "text/plain": [
       "Bola([0,-1],2)"
      ]
     },
     "execution_count": 110,
     "metadata": {},
     "output_type": "execute_result"
    }
   ],
   "source": [
    "M-N"
   ]
  },
  {
   "cell_type": "code",
   "execution_count": 9,
   "metadata": {
    "collapsed": false
   },
   "outputs": [
    {
     "data": {
      "text/plain": [
       "Bola(0.6666666666666666,6.333333333333334)"
      ]
     },
     "execution_count": 9,
     "metadata": {},
     "output_type": "execute_result"
    }
   ],
   "source": [
    "A=Bola(2,1)\n",
    "B=Bola(3,2)\n",
    "\n",
    "A/B"
   ]
  },
  {
   "cell_type": "code",
   "execution_count": 10,
   "metadata": {
    "collapsed": true
   },
   "outputs": [],
   "source": [
    "using Intervals"
   ]
  },
  {
   "cell_type": "code",
   "execution_count": 11,
   "metadata": {
    "collapsed": false
   },
   "outputs": [
    {
     "data": {
      "text/plain": [
       "Interval(0.19999999999999998,3.0)"
      ]
     },
     "execution_count": 11,
     "metadata": {},
     "output_type": "execute_result"
    }
   ],
   "source": [
    "Interval(1,3)/Interval(1,5)"
   ]
  },
  {
   "cell_type": "code",
   "execution_count": null,
   "metadata": {
    "collapsed": true
   },
   "outputs": [],
   "source": []
  }
 ],
 "metadata": {
  "kernelspec": {
   "display_name": "Julia 0.3.7",
   "language": "julia",
   "name": "julia 0.3"
  },
  "language_info": {
   "name": "julia",
   "version": "0.3.8"
  }
 },
 "nbformat": 4,
 "nbformat_minor": 0
}
