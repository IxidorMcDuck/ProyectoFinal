{
 "cells": [
  {
   "cell_type": "code",
   "execution_count": 111,
   "metadata": {
    "collapsed": false
   },
   "outputs": [
    {
     "name": "stderr",
     "output_type": "stream",
     "text": [
      "Warning: New definition \n",
      "    +(Bola,Any) at /home/pablo1/Documents/Tareas/ProyectoFinalMNA/Bolas.jl:185\n",
      "is ambiguous with: \n",
      "    +(Any,Bola) at /home/pablo1/Documents/Tareas/ProyectoFinalMNA/Bolas.jl:184.\n",
      "To fix, define \n",
      "    +(Bola,Bola)\n",
      "before the new definition.\n",
      "Warning: New definition \n",
      "    +(Bola,Any) at /home/pablo1/Documents/Tareas/ProyectoFinalMNA/Bolas.jl:185\n",
      "is ambiguous with: \n",
      "    +(Any,Bola) at /home/pablo1/Documents/Tareas/ProyectoFinalMNA/Bolas.jl:184.\n",
      "To fix, define \n",
      "    +(Bola,Bola)\n",
      "before the new definition.\n",
      "Warning: New definition \n",
      "    +(Bola,Any) at /home/pablo1/Documents/Tareas/ProyectoFinalMNA/Bolas.jl:185\n",
      "is ambiguous with: \n",
      "    +(Any,Bola) at /home/pablo1/Documents/Tareas/ProyectoFinalMNA/Bolas.jl:184.\n",
      "To fix, define \n",
      "    +(Bola,Bola)\n",
      "before the new definition.\n",
      "Warning: New definition \n",
      "    +(Bola,Any) at /home/pablo1/Documents/Tareas/ProyectoFinalMNA/Bolas.jl:185\n",
      "is ambiguous with: \n",
      "    +(Any,Bola) at /home/pablo1/Documents/Tareas/ProyectoFinalMNA/Bolas.jl:190.\n",
      "To fix, define \n",
      "    +(Bola,Bola)\n",
      "before the new definition.\n",
      "Warning: New definition \n",
      "    +(Bola,Any) at /home/pablo1/Documents/Tareas/ProyectoFinalMNA/Bolas.jl:185\n",
      "is ambiguous with: \n",
      "    +(Any,Bola) at /home/pablo1/Documents/Tareas/ProyectoFinalMNA/Bolas.jl:190.\n",
      "To fix, define \n",
      "    +(Bola,Bola)\n",
      "before the new definition.\n",
      "Warning: New definition \n",
      "    +(Any,Bola) at /home/pablo1/Documents/Tareas/ProyectoFinalMNA/Bolas.jl:190\n",
      "is ambiguous with: \n",
      "    +(Bola,Any) at /home/pablo1/Documents/Tareas/ProyectoFinalMNA/Bolas.jl:179.\n",
      "To fix, define \n",
      "    +(Bola,Bola)\n",
      "before the new definition.\n",
      "Warning: New definition \n",
      "    +(Any,Bola) at /home/pablo1/Documents/Tareas/ProyectoFinalMNA/Bolas.jl:190\n",
      "is ambiguous with: \n",
      "    +(Bola,Any) at /home/pablo1/Documents/Tareas/ProyectoFinalMNA/Bolas.jl:179.\n",
      "To fix, define \n",
      "    +(Bola,Bola)\n",
      "before the new definition.\n",
      "Warning: New definition \n",
      "    +(Any,Bola) at /home/pablo1/Documents/Tareas/ProyectoFinalMNA/Bolas.jl:190\n",
      "is ambiguous with: \n",
      "    +(Bola,Any) at /home/pablo1/Documents/Tareas/ProyectoFinalMNA/Bolas.jl:179.\n",
      "To fix, define \n",
      "    +(Bola,Bola)\n",
      "before the new definition.\n",
      "Warning: New definition \n",
      "    +(Any,Bola) at /home/pablo1/Documents/Tareas/ProyectoFinalMNA/Bolas.jl:190\n",
      "is ambiguous with: \n",
      "    +(Bola,Any) at /home/pablo1/Documents/Tareas/ProyectoFinalMNA/Bolas.jl:185.\n",
      "To fix, define \n",
      "    +(Bola,Bola)\n",
      "before the new definition.\n",
      "Warning: New definition \n",
      "    +(Any,Bola) at /home/pablo1/Documents/Tareas/ProyectoFinalMNA/Bolas.jl:190\n",
      "is ambiguous with: \n",
      "    +(Bola,Any) at /home/pablo1/Documents/Tareas/ProyectoFinalMNA/Bolas.jl:185.\n",
      "To fix, define \n",
      "    +(Bola,Bola)\n",
      "before the new definition.\n",
      "Warning: New definition \n",
      "    -(Bola,Any) at /home/pablo1/Documents/Tareas/ProyectoFinalMNA/Bolas.jl:200\n",
      "is ambiguous with: \n",
      "    -(Any,Bola) at /home/pablo1/Documents/Tareas/ProyectoFinalMNA/Bolas.jl:199.\n",
      "To fix, define \n",
      "    -(Bola,Bola)\n",
      "before the new definition.\n",
      "Warning: New definition \n",
      "    -(Bola,Any) at /home/pablo1/Documents/Tareas/ProyectoFinalMNA/Bolas.jl:200\n",
      "is ambiguous with: \n",
      "    -(Any,Bola) at /home/pablo1/Documents/Tareas/ProyectoFinalMNA/Bolas.jl:199.\n",
      "To fix, define \n",
      "    -(Bola,Bola)\n",
      "before the new definition.\n",
      "Warning: New definition \n",
      "    -(Bola,Any) at /home/pablo1/Documents/Tareas/ProyectoFinalMNA/Bolas.jl:200\n",
      "is ambiguous with: \n",
      "    -(Any,Bola) at /home/pablo1/Documents/Tareas/ProyectoFinalMNA/Bolas.jl:199.\n",
      "To fix, define \n",
      "    -(Bola,Bola)\n",
      "before the new definition.\n",
      "Warning: New definition \n",
      "    -(Bola,Any) at /home/pablo1/Documents/Tareas/ProyectoFinalMNA/Bolas.jl:200\n",
      "is ambiguous with: \n",
      "    -(Any,Bola) at /home/pablo1/Documents/Tareas/ProyectoFinalMNA/Bolas.jl:205.\n",
      "To fix, define \n",
      "    -(Bola,Bola)\n",
      "before the new definition.\n",
      "Warning: New definition \n",
      "    -(Bola,Any) at /home/pablo1/Documents/Tareas/ProyectoFinalMNA/Bolas.jl:200\n",
      "is ambiguous with: \n",
      "    -(Any,Bola) at /home/pablo1/Documents/Tareas/ProyectoFinalMNA/Bolas.jl:205.\n",
      "To fix, define \n",
      "    -(Bola,Bola)\n",
      "before the new definition.\n",
      "Warning: New definition \n",
      "    -(Any,Bola) at /home/pablo1/Documents/Tareas/ProyectoFinalMNA/Bolas.jl:205\n",
      "is ambiguous with: \n",
      "    -(Bola,Any) at /home/pablo1/Documents/Tareas/ProyectoFinalMNA/Bolas.jl:194.\n",
      "To fix, define \n",
      "    -(Bola,Bola)\n",
      "before the new definition.\n",
      "Warning: New definition \n",
      "    -(Any,Bola) at /home/pablo1/Documents/Tareas/ProyectoFinalMNA/Bolas.jl:205\n",
      "is ambiguous with: \n",
      "    -(Bola,Any) at /home/pablo1/Documents/Tareas/ProyectoFinalMNA/Bolas.jl:194.\n",
      "To fix, define \n",
      "    -(Bola,Bola)\n",
      "before the new definition.\n",
      "Warning: New definition \n",
      "    -(Any,Bola) at /home/pablo1/Documents/Tareas/ProyectoFinalMNA/Bolas.jl:205\n",
      "is ambiguous with: \n",
      "    -(Bola,Any) at /home/pablo1/Documents/Tareas/ProyectoFinalMNA/Bolas.jl:194.\n",
      "To fix, define \n",
      "    -(Bola,Bola)\n",
      "before the new definition.\n",
      "Warning: New definition \n",
      "    -(Any,Bola) at /home/pablo1/Documents/Tareas/ProyectoFinalMNA/Bolas.jl:205\n",
      "is ambiguous with: \n",
      "    -(Bola,Any) at /home/pablo1/Documents/Tareas/ProyectoFinalMNA/Bolas.jl:200.\n",
      "To fix, define \n",
      "    -(Bola,Bola)\n",
      "before the new definition.\n",
      "Warning: New definition \n",
      "    -(Any,Bola) at /home/pablo1/Documents/Tareas/ProyectoFinalMNA/Bolas.jl:205\n",
      "is ambiguous with: \n",
      "    -(Bola,Any) at /home/pablo1/Documents/Tareas/ProyectoFinalMNA/Bolas.jl:200.\n",
      "To fix, define \n",
      "    -(Bola,Bola)\n",
      "before the new definition.\n",
      "Warning: New definition \n",
      "    ^(Derive,Real) at /home/pablo1/Documents/Tareas/ProyectoFinalMNA/Derivatives.jl:93\n",
      "is ambiguous with: \n",
      "    ^(Any,Integer) at intfuncs.jl:86.\n",
      "To fix, define \n",
      "    ^(Derive,Integer)\n",
      "before the new definition.\n"
     ]
    }
   ],
   "source": [
    "workspace()\n",
    "using Bolas\n",
    "using Derivatives\n"
   ]
  },
  {
   "cell_type": "code",
   "execution_count": 115,
   "metadata": {
    "collapsed": false
   },
   "outputs": [
    {
     "data": {
      "text/plain": [
       "Bola(0.6,0.4)"
      ]
     },
     "execution_count": 115,
     "metadata": {},
     "output_type": "execute_result"
    }
   ],
   "source": [
    "A=Bola(0,1)\n",
    "B=Bola(1.2,1)\n",
    "\n",
    "interseccion_de_bolas(B,A)"
   ]
  },
  {
   "cell_type": "code",
   "execution_count": 116,
   "metadata": {
    "collapsed": false
   },
   "outputs": [
    {
     "data": {
      "text/plain": [
       "quitar_no_deseadas (generic function with 1 method)"
      ]
     },
     "execution_count": 116,
     "metadata": {},
     "output_type": "execute_result"
    }
   ],
   "source": [
    "function quitar_no_deseadas(F::Function,B,x)\n",
    "    \n",
    "    temp=Bola[]\n",
    "    dF(x)=F(makex(x))\n",
    "    \n",
    "    for i=1:length(B)\n",
    "        if contiene(dF(B[i]).d,x) == false\n",
    "            push!(temp,B[i])\n",
    "        end\n",
    "    end\n",
    "    \n",
    "    return temp\n",
    "    \n",
    "    \n",
    "end\n",
    "\n",
    "    "
   ]
  },
  {
   "cell_type": "code",
   "execution_count": 117,
   "metadata": {
    "collapsed": false
   },
   "outputs": [
    {
     "data": {
      "text/plain": [
       "2-element Array{Bola,1}:\n",
       " Bola(0,1)  \n",
       " Bola(1.2,1)"
      ]
     },
     "execution_count": 117,
     "metadata": {},
     "output_type": "execute_result"
    }
   ],
   "source": [
    "f(x)=exp(x)-1\n",
    "quitar_no_deseadas(f,[A,B],10)"
   ]
  },
  {
   "cell_type": "code",
   "execution_count": 84,
   "metadata": {
    "collapsed": false
   },
   "outputs": [
    {
     "data": {
      "text/plain": [
       "4-element Array{Bola,1}:\n",
       " Bola(-0.5,0.5)\n",
       " Bola(0.5,0.5) \n",
       " Bola(0.7,0.5) \n",
       " Bola(1.7,0.5) "
      ]
     },
     "execution_count": 84,
     "metadata": {},
     "output_type": "execute_result"
    }
   ],
   "source": [
    "bisectar_bolas([A,B])"
   ]
  },
  {
   "cell_type": "code",
   "execution_count": 118,
   "metadata": {
    "collapsed": false
   },
   "outputs": [
    {
     "data": {
      "text/plain": [
       "operador_de_newton_bola (generic function with 1 method)"
      ]
     },
     "execution_count": 118,
     "metadata": {},
     "output_type": "execute_result"
    }
   ],
   "source": [
    "function operador_de_newton_bola(F::Function,B::Bola)\n",
    "    \n",
    "    dF(x)=F(makex(x))\n",
    "    m=Bola(B.centro,0)\n",
    "    \n",
    "    return (m-F(m)/(dF(B).d))\n",
    "    \n",
    "end"
   ]
  },
  {
   "cell_type": "code",
   "execution_count": 110,
   "metadata": {
    "collapsed": false
   },
   "outputs": [
    {
     "data": {
      "text/plain": [
       "Bola(2.3201169227365472,3.3201169227365472)"
      ]
     },
     "execution_count": 110,
     "metadata": {},
     "output_type": "execute_result"
    }
   ],
   "source": [
    "f(B)"
   ]
  },
  {
   "cell_type": "code",
   "execution_count": 51,
   "metadata": {
    "collapsed": false
   },
   "outputs": [
    {
     "data": {
      "text/plain": [
       "false"
      ]
     },
     "execution_count": 51,
     "metadata": {},
     "output_type": "execute_result"
    }
   ],
   "source": [
    "contiene(dF(B).d,0)"
   ]
  },
  {
   "cell_type": "code",
   "execution_count": 119,
   "metadata": {
    "collapsed": false
   },
   "outputs": [
    {
     "data": {
      "text/plain": [
       "metodo_newton_bola (generic function with 1 method)"
      ]
     },
     "execution_count": 119,
     "metadata": {},
     "output_type": "execute_result"
    }
   ],
   "source": [
    "function metodo_newton_bola(F::Function, B::Bola)\n",
    "    \n",
    "    X=[B]\n",
    "    loop=0\n",
    "    \n",
    "    while loop < 50\n",
    "        \n",
    "        X=bisectar_bolas(X)\n",
    "        X=quitar_no_deseadas(F,X,0)\n",
    "        \n",
    "        for i=1:length(X)\n",
    "            \n",
    "            @show X[i]=operador_de_newton_bola(F,X[i])\n",
    "        end\n",
    "        \n",
    "     loop +=1\n",
    "        \n",
    "    end\n",
    "    \n",
    "    return(X)\n",
    "    \n",
    "end"
   ]
  },
  {
   "cell_type": "code",
   "execution_count": 120,
   "metadata": {
    "collapsed": false
   },
   "outputs": [
    {
     "name": "stdout",
     "output_type": "stream",
     "text": [
      "X[i] = operador_de_newton_bola(F,X[i]) => Bola(0.7231301601484298,7.8019239264248)\n",
      "X[i] = operador_de_newton_bola(F,X[i]) => Bola(1.5820849986238987,68.11533257093657)\n"
     ]
    },
    {
     "data": {
      "text/plain": [
       "0-element Array{Bola,1}"
      ]
     },
     "execution_count": 120,
     "metadata": {},
     "output_type": "execute_result"
    }
   ],
   "source": [
    "metodo_newton_bola(f,Bola(2,1))"
   ]
  },
  {
   "cell_type": "code",
   "execution_count": 77,
   "metadata": {
    "collapsed": false
   },
   "outputs": [
    {
     "data": {
      "text/plain": [
       "Bola(1.4,0.0)"
      ]
     },
     "execution_count": 77,
     "metadata": {},
     "output_type": "execute_result"
    }
   ],
   "source": [
    "interseccion_de_bolas(Bola(0.7999999999999999,0.6),Bola(1.7999999999999998,0.3999999999999999))"
   ]
  },
  {
   "cell_type": "code",
   "execution_count": 102,
   "metadata": {
    "collapsed": false
   },
   "outputs": [
    {
     "data": {
      "text/plain": [
       "1.24"
      ]
     },
     "execution_count": 102,
     "metadata": {},
     "output_type": "execute_result"
    }
   ],
   "source": [
    "f(1.2)"
   ]
  },
  {
   "cell_type": "code",
   "execution_count": null,
   "metadata": {
    "collapsed": true
   },
   "outputs": [],
   "source": []
  }
 ],
 "metadata": {
  "kernelspec": {
   "display_name": "Julia 0.3.7",
   "language": "julia",
   "name": "julia 0.3"
  },
  "language_info": {
   "name": "julia",
   "version": "0.3.8"
  }
 },
 "nbformat": 4,
 "nbformat_minor": 0
}
