{
 "metadata": {
  "language": "Julia",
  "name": "",
  "signature": "sha256:ece88599dcd1e287554e683a9b7a9c68b26fe930a15fc02f2a5ac6f24dfec92b"
 },
 "nbformat": 3,
 "nbformat_minor": 0,
 "worksheets": [
  {
   "cells": [
    {
     "cell_type": "code",
     "collapsed": false,
     "input": [
      "using Bolas\n",
      "using FactCheck\n",
      "using BolasTest"
     ],
     "language": "python",
     "metadata": {},
     "outputs": [
      {
       "output_type": "stream",
       "stream": "stdout",
       "text": [
        "Prueba b\u00e1sicas de Bolas:\n",
        "2 facts verified.\n"
       ]
      },
      {
       "output_type": "stream",
       "stream": "stdout",
       "text": [
        "Pruebas de funciones para bolas :\n",
        "5 facts verified.\n"
       ]
      },
      {
       "output_type": "stream",
       "stream": "stdout",
       "text": [
        "Prueba b\u00e1sicas de aritm\u00e9tica:\n",
        "11 facts verified.\n"
       ]
      },
      {
       "output_type": "stream",
       "stream": "stdout",
       "text": [
        "Pruebas de funciones elementales\n",
        "  Failure"
       ]
      },
      {
       "output_type": "stream",
       "stream": "stdout",
       "text": [
        "   :: (line:-1) :: got Bola(1"
       ]
      },
      {
       "output_type": "stream",
       "stream": "stdout",
       "text": [
        ".2246467991473532e-16,1.5707963267948966)\n",
        "    sin(A) => Bola(0,0)\n",
        "  Failure   :: (line:-1) :: got Bola(-1.0,1.9236706937217898e-16)\n",
        "    cos(A) => Bola(-1,(pi / 2) * 1)\n",
        "  Error"
       ]
      },
      {
       "output_type": "stream",
       "stream": "stdout",
       "text": [
        "   :: (line:-1)\n",
        "    tan(A) => Bola(0,(pi / 2) * 1)\n",
        "`convert` has no method matching convert(::Type{MathConst{:\u03c0}}"
       ]
      },
      {
       "output_type": "stream",
       "stream": "stdout",
       "text": [
        ", ::Int64)\n",
        " in sec at special/trig.jl:101\n",
        " in tan at /home/ixidor/Escritorio/juliaclase/Proyecto final/ProyectoFinal/Bolas.jl:188\n",
        " in anonymous at /home/ixidor/.julia/v0.3/FactCheck/src/FactCheck.jl:142\n",
        " in do_fact at /home/ixidor/.julia/v0.3/FactCheck/src/FactCheck.jl:201\n",
        " in anonymous at /home/ixidor/Escritorio/juliaclase/Proyecto final/ProyectoFinal/BolasTest.jl:142\n",
        " in facts at /home/ixidor/.julia/v0.3/FactCheck/src/FactCheck.jl:315\n",
        " in include at ./boot.jl:245\n",
        " in include_from_node1 at ./loading.jl:128\n",
        " in reload_path at loading.jl:152\n",
        " in _require at loading.jl:67\n",
        " in require at loading.jl:51\n",
        " in include_string at loading.jl:97\n",
        " in execute_request_0x535c5df2 at /home/ixidor/.julia/v0.3/IJulia/src/execute_request.jl:160\n",
        " in eventloop at /home/ixidor/.julia/v0.3/IJulia/src/IJulia.jl:123\n",
        " in anonymous at task.jl:340\n",
        "  Error   :: (line:-1)\n",
        "    cot(A) => Bola(Inf,(pi / 2) * 0)\n",
        "`convert` has no method matching convert(::Type{MathConst{:\u03c0}}, ::Int64)\n",
        " in cot at special/trig.jl:101\n",
        " in cot at /home/ixidor/Escritorio/juliaclase/Proyecto final/ProyectoFinal/Bolas.jl:192\n",
        " in anonymous at /home/ixidor/.julia/v0.3/FactCheck/src/FactCheck.jl:142\n",
        " in do_fact at /home/ixidor/.julia/v0.3/FactCheck/src/FactCheck.jl:201\n",
        " in anonymous at /home/ixidor/Escritorio/juliaclase/Proyecto final/ProyectoFinal/BolasTest.jl:142\n",
        " in facts at /home/ixidor/.julia/v0.3/FactCheck/src/FactCheck.jl:315\n",
        " in include at ./boot.jl:245\n",
        " in include_from_node1 at ./loading.jl:128\n",
        " in reload_path at loading.jl:152\n",
        " in _require at loading.jl:67\n",
        " in require at loading.jl:51\n",
        " in include_string at loading.jl:97\n",
        " in execute_request_0x535c5df2 at /home/ixidor/.julia/v0.3/IJulia/src/execute_request.jl:160\n",
        " in eventloop at /home/ixidor/.julia/v0.3/IJulia/src/IJulia.jl:123\n",
        " in anonymous at task.jl:340\n",
        "  Error   :: (line:-1)\n",
        "    sec(A) => Bola(-1,(pi / 2) * 0)\n",
        "`convert` has no method matching convert(::Type{MathConst{:\u03c0}}, ::Int64)\n",
        " in sec at special/trig.jl:101\n",
        " in sec at /home/ixidor/Escritorio/juliaclase/Proyecto final/ProyectoFinal/Bolas.jl:196\n",
        " in anonymous at /home/ixidor/.julia/v0.3/FactCheck/src/FactCheck.jl:142\n",
        " in do_fact at /home/ixidor/.julia/v0.3/FactCheck/src/FactCheck.jl:201\n",
        " in anonymous at /home/ixidor/Escritorio/juliaclase/Proyecto final/ProyectoFinal/BolasTest.jl:142\n",
        " in facts at /home/ixidor/.julia/v0.3/FactCheck/src/FactCheck.jl:315\n",
        " in include at ./boot.jl:245\n",
        " in include_from_node1 at ./loading.jl:128\n",
        " in reload_path at loading.jl:152\n",
        " in _require at loading.jl:67\n",
        " in require at loading.jl:51\n",
        " in include_string at loading.jl:97\n",
        " in execute_request_0x535c5df2 at /home/ixidor/.julia/v0.3/IJulia/src/execute_request.jl:160\n",
        " in eventloop at /home/ixidor/.julia/v0.3/IJulia/src/IJulia.jl:123\n",
        " in anonymous at task.jl:340\n",
        "  Error   :: (line:-1)\n",
        "    csc(A) => Bola(Inf,(pi / 2) * Inf)\n",
        "`convert` has no method matching convert(::Type{MathConst{:\u03c0}}, ::Int64)\n",
        " in csc at special/trig.jl:101\n",
        " in csc at /home/ixidor/Escritorio/juliaclase/Proyecto final/ProyectoFinal/Bolas.jl:200\n",
        " in anonymous at /home/ixidor/.julia/v0.3/FactCheck/src/FactCheck.jl:142\n",
        " in do_fact at /home/ixidor/.julia/v0.3/FactCheck/src/FactCheck.jl:201\n",
        " in anonymous at /home/ixidor/Escritorio/juliaclase/Proyecto final/ProyectoFinal/BolasTest.jl:142\n",
        " in facts at /home/ixidor/.julia/v0.3/FactCheck/src/FactCheck.jl:315\n",
        " in include at ./boot.jl:245\n",
        " in include_from_node1 at ./loading.jl:128\n",
        " in reload_path at loading.jl:152\n",
        " in _require at loading.jl:67\n",
        " in require at loading.jl:51\n",
        " in include_string at loading.jl:97\n",
        " in execute_request_0x535c5df2 at /home/ixidor/.julia/v0.3/IJulia/src/execute_request.jl:160\n",
        " in eventloop at /home/ixidor/.julia/v0.3/IJulia/src/IJulia.jl:123\n",
        " in anonymous at task.jl:340\n",
        "  Failure   :: (line:-1) :: got Bola(0.7853981633974482,1.414213562373095)\n",
        "    asin(B) => Bola(pi / 4,sqrt(2))\n",
        "  Failure   :: (line:-1) :: got Bola(0.7853981633974484,1.414213562373095)\n",
        "    acos(B) => Bola(pi / 4,sqrt(2))\n",
        "  Failure"
       ]
      },
      {
       "output_type": "stream",
       "stream": "stdout",
       "text": [
        "   :: (line:-1) :: got Bola(0.7853981633974484,0.7071067811865474)\n",
        "    asec(D) => Bola(pi / 4,1 / sqrt(2))\n",
        "  Failure   :: (line:-1) :: got Bola(0.7853981633974482,0.7071067811865474)\n",
        "    acsc(D) => Bola(pi / 4,1 / sqrt(2))\n",
        "Out of 20 total facts:\n",
        "  Verified: 10\n",
        "  Failed:   6\n",
        "  Errored:  4\n"
       ]
      }
     ],
     "prompt_number": 1
    },
    {
     "cell_type": "code",
     "collapsed": false,
     "input": [],
     "language": "python",
     "metadata": {},
     "outputs": []
    }
   ],
   "metadata": {}
  }
 ]
}