{
 "cells": [
  {
   "cell_type": "code",
   "execution_count": 21,
   "metadata": {
    "collapsed": false
   },
   "outputs": [
    {
     "name": "stderr",
     "output_type": "stream",
     "text": [
      "Warning: New definition \n",
      "    +(Bola,Any) at /home/pablo1/Documents/Tareas/ProyectoFinalMNA/Bolas.jl:216\n",
      "is ambiguous with: \n",
      "    +(Any,Bola) at /home/pablo1/Documents/Tareas/ProyectoFinalMNA/Bolas.jl:221.\n",
      "To fix, define \n",
      "    +(Bola,Bola)\n",
      "before the new definition.\n",
      "Warning: New definition \n",
      "    +(Bola,Any) at /home/pablo1/Documents/Tareas/ProyectoFinalMNA/Bolas.jl:216\n",
      "is ambiguous with: \n",
      "    +(Any,Bola) at /home/pablo1/Documents/Tareas/ProyectoFinalMNA/Bolas.jl:221.\n",
      "To fix, define \n",
      "    +(Bola,Bola)\n",
      "before the new definition.\n",
      "Warning: New definition \n",
      "    +(Any,Bola) at /home/pablo1/Documents/Tareas/ProyectoFinalMNA/Bolas.jl:221\n",
      "is ambiguous with: \n",
      "    +(Bola,Any) at /home/pablo1/Documents/Tareas/ProyectoFinalMNA/Bolas.jl:216.\n",
      "To fix, define \n",
      "    +(Bola,Bola)\n",
      "before the new definition.\n",
      "Warning: New definition \n",
      "    +(Any,Bola) at /home/pablo1/Documents/Tareas/ProyectoFinalMNA/Bolas.jl:221\n",
      "is ambiguous with: \n",
      "    +(Bola,Any) at /home/pablo1/Documents/Tareas/ProyectoFinalMNA/Bolas.jl:216.\n",
      "To fix, define \n",
      "    +(Bola,Bola)\n",
      "before the new definition.\n",
      "Warning: New definition \n",
      "    -(Bola,Any) at /home/pablo1/Documents/Tareas/ProyectoFinalMNA/Bolas.jl:231\n",
      "is ambiguous with: \n",
      "    -(Any,Bola) at /home/pablo1/Documents/Tareas/ProyectoFinalMNA/Bolas.jl:236.\n",
      "To fix, define \n",
      "    -(Bola,Bola)\n",
      "before the new definition.\n",
      "Warning: New definition \n",
      "    -(Bola,Any) at /home/pablo1/Documents/Tareas/ProyectoFinalMNA/Bolas.jl:231\n",
      "is ambiguous with: \n",
      "    -(Any,Bola) at /home/pablo1/Documents/Tareas/ProyectoFinalMNA/Bolas.jl:236.\n",
      "To fix, define \n",
      "    -(Bola,Bola)\n",
      "before the new definition.\n",
      "Warning: New definition \n",
      "    -(Any,Bola) at /home/pablo1/Documents/Tareas/ProyectoFinalMNA/Bolas.jl:236\n",
      "is ambiguous with: \n",
      "    -(Bola,Any) at /home/pablo1/Documents/Tareas/ProyectoFinalMNA/Bolas.jl:231.\n",
      "To fix, define \n",
      "    -(Bola,Bola)\n",
      "before the new definition.\n",
      "Warning: New definition \n",
      "    -(Any,Bola) at /home/pablo1/Documents/Tareas/ProyectoFinalMNA/Bolas.jl:236\n",
      "is ambiguous with: \n",
      "    -(Bola,Any) at /home/pablo1/Documents/Tareas/ProyectoFinalMNA/Bolas.jl:231.\n",
      "To fix, define \n",
      "    -(Bola,Bola)\n",
      "before the new definition.\n",
      "Warning: New definition \n",
      "    ^(Derive,Real) at /home/pablo1/Documents/Tareas/ProyectoFinalMNA/Derivatives.jl:93\n",
      "is ambiguous with: \n",
      "    ^(Any,Integer) at intfuncs.jl:86.\n",
      "To fix, define \n",
      "    ^(Derive,Integer)\n",
      "before the new definition.\n",
      "Warning: New definition \n",
      "    promote_type(Type{T<:Number},Type{Interval}) at /home/pablo1/Documents/Tareas/ProyectoFinalMNA/Intervals.jl:467\n",
      "is ambiguous with: \n",
      "    promote_type(Type{None},Type{T}) at promotion.jl:103.\n",
      "To fix, define \n",
      "    promote_type(Type{None},Type{Interval})\n",
      "before the new definition.\n",
      "Warning: New definition \n",
      "    promote_type(Type{T<:Number},Type{Interval}) at /home/pablo1/Documents/Tareas/ProyectoFinalMNA/Intervals.jl:467\n",
      "is ambiguous with: \n",
      "    promote_type(Type{T},Type{T}) at promotion.jl:101.\n",
      "To fix, define \n",
      "    promote_type(Type{_<:Number},Type{_<:Number})\n",
      "before the new definition.\n",
      "Warning: Method definition zero(Any,) in module Intervals at /home/pablo1/Documents/Tareas/ProyectoFinalMNA/Intervals.jl:478 overwritten in module Intervals at /home/pablo1/Documents/Tareas/ProyectoFinalMNA/Intervals.jl:478.\n"
     ]
    }
   ],
   "source": [
    "workspace()\n",
    "using Bolas\n",
    "using Derivatives\n",
    "using BolaIntervalo\n"
   ]
  },
  {
   "cell_type": "code",
   "execution_count": 14,
   "metadata": {
    "collapsed": false
   },
   "outputs": [
    {
     "data": {
      "text/plain": [
       "wilkinson20 (generic function with 1 method)"
      ]
     },
     "execution_count": 14,
     "metadata": {},
     "output_type": "execute_result"
    }
   ],
   "source": [
    "A=Bola(4,1)\n",
    "B=Bola(2,1)\n",
    "N=Bola(0.9999942779541016,9.5367431640625e-6)\n",
    "\n",
    "function wilkinson20(x)\n",
    "    \n",
    "    w=1\n",
    "    \n",
    "    for i=1:20\n",
    "        w*=(x-i)\n",
    "    end\n",
    "    \n",
    "    return(w)\n",
    "end\n",
    "        "
   ]
  },
  {
   "cell_type": "code",
   "execution_count": 57,
   "metadata": {
    "collapsed": false
   },
   "outputs": [
    {
     "name": "stdout",
     "output_type": "stream",
     "text": [
      "X = quitar_no_deseadas(F,X,0) => [Bola(0.9999904632568359,9.5367431640625e-6),Bola(1.000009536743164,9.5367431640625e-6),Bola(1.9999942779541016,9.5367431640625e-6),Bola(2.999998092651367,9.5367431640625e-6),Bola(4.000001907348633,9.5367431640625e-6),Bola(5.000005722045898,9.5367431640625e-6)]\n",
      "Posible raíz en 1.000044141909915 ± 2.710823653965378e-10, Bola(0.0010593084155618414,6.505976758378499e-9)\n",
      "Posible raíz en 0.9999558387316126 ± 2.7105997426428735e-10, Bola(-0.001059967955192178,6.506636480424848e-9)\n",
      "Posible raíz en 1.999999910590431 ± 2.165795851569183e-15, Bola(5.364574544609504e-7,1.2994779369558614e-14)\n",
      "Posible raíz en 2.999999984741211 ± 1.8007593497524146e-15, Bola(-6.103515559630067e-8,7.203037728738622e-15)\n",
      "Posible raíz en 4.0 ± 2.000000000000451e-15, Bola(-0.0,1.2000000000002846e-14)\n",
      "Posible raíz en 5.000000000366319 ± 3.739307731091528e-15, Bola(8.791666068534296e-9,8.974338568317621e-14)\n"
     ]
    }
   ],
   "source": [
    "function revisar_cercanas(A,B,tol) #revisa si una raíz dada está cerca de las demás\n",
    "    \n",
    "    for i = 1:length(B)\n",
    "        \n",
    "        if distancia(A,B[i]) <= tol\n",
    "            return(true) \n",
    "        end\n",
    "        \n",
    "        \n",
    "    end\n",
    "    \n",
    "    return(false)\n",
    "end\n",
    "\n",
    "function quitar_repetidas(A,tol) #remueve raices que esten mas cerca que una cierta tolerancia\n",
    "   \n",
    "    temp=Bola[]\n",
    "    \n",
    "    for i=1:length(A)\n",
    "        \n",
    "        if !(revisar_cercanas(A[i],temp,tol))\n",
    "            push!(temp,A[i])\n",
    "        end\n",
    "        \n",
    "    end\n",
    "    \n",
    "    return(temp)\n",
    "end\n",
    "\n",
    "function quitar_no_deseadas(F::Function,B,x) #Funcion para quitar bolas donde la derivada de la funcion se hace cero\n",
    "    \n",
    "    temp=Bola[]\n",
    "    dF(x)=F(makex(x)).d\n",
    "    \n",
    "    for i=1:length(B)\n",
    "        if !contiene(dF(B[i]),x)\n",
    "            push!(temp,B[i])\n",
    "        end\n",
    "    end\n",
    "    \n",
    "    return(temp)\n",
    "end\n",
    "\n",
    "function quitar_no_utiles(F::Function,B,x) #Se encarga de quitar bolas que no contienen ceros de la funcion\n",
    "    \n",
    "    temp=Bola[]\n",
    "    \n",
    "    for i=1:length(B)\n",
    "        if contiene(F(B[i]),x)\n",
    "            push!(temp,B[i])\n",
    "        end\n",
    "    end\n",
    "    \n",
    "    return(temp)\n",
    "end\n",
    "\n",
    "\n",
    "\n",
    "function operador_de_newton_bola(F::Function,B::Bola) \n",
    "    \n",
    "    dF(x)=F(makex(x)).d\n",
    "    m=Bola(B.centro,1e-15) #Le asigno un radio mínimo al punto m \n",
    "    \n",
    "    \n",
    "    return (m-F(m)/(dF(B)))\n",
    "    \n",
    "end   \n",
    "\n",
    "function metodo_newton_bola(F::Function, B::Bola)\n",
    "    \n",
    "    X=[B]\n",
    "    \n",
    "    i=0\n",
    "    tolbis=1e-5\n",
    "    tolradio=1e-10\n",
    "    tolsimilar = 1e-2\n",
    "    \n",
    "    while(X[1].radio>tolbis)\n",
    "        \n",
    "       X=bisectar_bolas(X)\n",
    "       X=quitar_no_utiles(F,X,0)\n",
    "    \n",
    "        \n",
    "        i+=1\n",
    "        \n",
    "        if i==50\n",
    "            break\n",
    "        end\n",
    "        \n",
    "        X\n",
    " \n",
    "    end\n",
    "    \n",
    "    @show X=quitar_no_deseadas(F,X,0)\n",
    "    \n",
    "    j=0\n",
    "    \n",
    "    radio_biseccion = X[1].radio\n",
    "    radio_promedio=1\n",
    "    \n",
    "    while(tolradio<radio_promedio)\n",
    "        \n",
    "        radio_promedio=0\n",
    "        \n",
    "        \n",
    "        for i=1:length(X)\n",
    "            \n",
    "            temp=operador_de_newton_bola(F,X[i])\n",
    "            \n",
    "            if interseccion_de_bolas(X[i],temp)==nothing\n",
    "                X[i]=interseccion_de_bolas(B,temp)\n",
    "            else\n",
    "                X[i]=interseccion_de_bolas(X[i],temp)\n",
    "            end\n",
    "            \n",
    "            radio_promedio+=(X[i].radio)\n",
    "        end\n",
    "         \n",
    "        radio_promedio/=length(X)\n",
    "        \n",
    "        j+=1\n",
    "        \n",
    "        if j==20\n",
    "            break\n",
    "        end\n",
    "    end\n",
    "    \n",
    "    \n",
    "\n",
    "    ans = X\n",
    "    \n",
    "    for i=1:length(ans) \n",
    "        println(\"Posible raíz en $(ans[i].centro) ± $(ans[i].radio), $(F(ans[i]))\")\n",
    "    end\n",
    "    \n",
    "end\n",
    "\n",
    "\n",
    "f(x)=(x-1)*(x-2)*(x-3)*(x-4)*(x-5)\n",
    "g(x)=(x-4)*(exp(x)-1)*(x-3)\n",
    "M=metodo_newton_bola(f,Bola(6,10))"
   ]
  },
  {
   "cell_type": "code",
   "execution_count": 62,
   "metadata": {
    "collapsed": false
   },
   "outputs": [
    {
     "data": {
      "text/plain": [
       "Bola(5.000000009157989,7.784062269786418e-11)"
      ]
     },
     "execution_count": 62,
     "metadata": {},
     "output_type": "execute_result"
    }
   ],
   "source": [
    "operador_de_newton_bola(f,Bola(5.000000228947109,1.3621190883846948e-7))\n"
   ]
  },
  {
   "cell_type": "code",
   "execution_count": 67,
   "metadata": {
    "collapsed": false
   },
   "outputs": [
    {
     "data": {
      "text/plain": [
       "false"
      ]
     },
     "execution_count": 67,
     "metadata": {},
     "output_type": "execute_result"
    }
   ],
   "source": [
    "contiene(f(Bola(5.000000228947109,1.3621190883846948e-7)),0)"
   ]
  },
  {
   "cell_type": "code",
   "execution_count": 31,
   "metadata": {
    "collapsed": false
   },
   "outputs": [
    {
     "data": {
      "text/plain": [
       "Bola(1.700000000325142377049077502723301958906439662258370670382541753535895760327455e+01 with 256 bits of precision,5.744931712241313052974049658227678358362202936489743807669440160575048763987605e+20 with 256 bits of precision)"
      ]
     },
     "execution_count": 31,
     "metadata": {},
     "output_type": "execute_result"
    }
   ],
   "source": [
    "operador_de_newton_bola(f,Bola(BigFloat(17.000045776367188),BigFloat(7.62939453125e-5)))"
   ]
  },
  {
   "cell_type": "code",
   "execution_count": 8,
   "metadata": {
    "collapsed": false
   },
   "outputs": [
    {
     "data": {
      "text/plain": [
       "1.0281872039930624"
      ]
     },
     "execution_count": 8,
     "metadata": {},
     "output_type": "execute_result"
    }
   ],
   "source": [
    "function NewtonMethod(g::Function,x,tol) #x en este caso es la \"adivinanza\" inicial\n",
    "    \n",
    "    i = 0\n",
    "    \n",
    "    while(abs(g(x))>tol)\n",
    "        \n",
    "\n",
    "        x-=GetFunctionValue(g,x)/GetDerivativeValue(g,x)\n",
    "        \n",
    "        i+=1\n",
    "        if(i==70)\n",
    "            break\n",
    "        end\n",
    "    end\n",
    "    \n",
    "    #return(\"Posible raíz en $x, la función vale f(x)=$(g(x))  \")\n",
    "    return(x)\n",
    "end\n",
    "\n",
    "NewtonMethod(f,1+1e-15,1e-15)"
   ]
  },
  {
   "cell_type": "code",
   "execution_count": 2,
   "metadata": {
    "collapsed": false
   },
   "outputs": [
    {
     "ename": "LoadError",
     "evalue": "M not defined\nwhile loading In[2], in expression starting on line 30",
     "output_type": "error",
     "traceback": [
      "M not defined\nwhile loading In[2], in expression starting on line 30",
      ""
     ]
    }
   ],
   "source": [
    "\n"
   ]
  },
  {
   "cell_type": "code",
   "execution_count": 62,
   "metadata": {
    "collapsed": false
   },
   "outputs": [
    {
     "data": {
      "text/plain": [
       "6-element Array{Bola,1}:\n",
       " Bola(3,1)  \n",
       " Bola(2,1)  \n",
       " Bola(3,1)  \n",
       " Bola(4,1)  \n",
       " Bola(2,1)  \n",
       " Bola(3.1,1)"
      ]
     },
     "execution_count": 62,
     "metadata": {},
     "output_type": "execute_result"
    }
   ],
   "source": [
    "M=[Bola(3),Bola(2),Bola(3),Bola(4),Bola(2),Bola(3.1)]"
   ]
  },
  {
   "cell_type": "code",
   "execution_count": 50,
   "metadata": {
    "collapsed": false
   },
   "outputs": [
    {
     "data": {
      "text/plain": [
       "quitar_bolas_similares (generic function with 1 method)"
      ]
     },
     "execution_count": 50,
     "metadata": {},
     "output_type": "execute_result"
    }
   ],
   "source": [
    "function quitar_bolas_similares(B,tol::Real)\n",
    "    \n",
    "    return(temp)\n",
    "end"
   ]
  },
  {
   "cell_type": "code",
   "execution_count": 22,
   "metadata": {
    "collapsed": false
   },
   "outputs": [
    {
     "data": {
      "text/plain": [
       "false"
      ]
     },
     "execution_count": 22,
     "metadata": {},
     "output_type": "execute_result"
    }
   ],
   "source": []
  },
  {
   "cell_type": "code",
   "execution_count": 54,
   "metadata": {
    "collapsed": false
   },
   "outputs": [
    {
     "ename": "LoadError",
     "evalue": "`isless` has no method matching isless(::Bola, ::Bola)\nwhile loading In[54], in expression starting on line 1",
     "output_type": "error",
     "traceback": [
      "`isless` has no method matching isless(::Bola, ::Bola)\nwhile loading In[54], in expression starting on line 1",
      "",
      " in sort! at sort.jl:262",
      " in sort! at sort.jl:314",
      " in sort! at sort.jl:353",
      " in sort at sort.jl:358"
     ]
    }
   ],
   "source": [
    "sort(M)"
   ]
  },
  {
   "cell_type": "code",
   "execution_count": 47,
   "metadata": {
    "collapsed": false
   },
   "outputs": [
    {
     "data": {
      "text/plain": [
       "49868.10344827586"
      ]
     },
     "execution_count": 47,
     "metadata": {},
     "output_type": "execute_result"
    }
   ],
   "source": [
    "57847/1.16"
   ]
  },
  {
   "cell_type": "code",
   "execution_count": 48,
   "metadata": {
    "collapsed": false
   },
   "outputs": [
    {
     "data": {
      "text/plain": [
       "10000.0"
      ]
     },
     "execution_count": 48,
     "metadata": {},
     "output_type": "execute_result"
    }
   ],
   "source": [
    "150000/15"
   ]
  },
  {
   "cell_type": "code",
   "execution_count": 106,
   "metadata": {
    "collapsed": false
   },
   "outputs": [
    {
     "data": {
      "text/plain": [
       "Bola([1,2],1)"
      ]
     },
     "execution_count": 106,
     "metadata": {},
     "output_type": "execute_result"
    }
   ],
   "source": [
    "M=Bola([1,1],1)\n",
    "N=Bola([1,2],1)"
   ]
  },
  {
   "cell_type": "code",
   "execution_count": 110,
   "metadata": {
    "collapsed": false
   },
   "outputs": [
    {
     "data": {
      "text/plain": [
       "Bola([0,-1],2)"
      ]
     },
     "execution_count": 110,
     "metadata": {},
     "output_type": "execute_result"
    }
   ],
   "source": [
    "M-N"
   ]
  },
  {
   "cell_type": "code",
   "execution_count": 9,
   "metadata": {
    "collapsed": false
   },
   "outputs": [
    {
     "data": {
      "text/plain": [
       "Bola(0.6666666666666666,6.333333333333334)"
      ]
     },
     "execution_count": 9,
     "metadata": {},
     "output_type": "execute_result"
    }
   ],
   "source": [
    "A=Bola(2,1)\n",
    "B=Bola(3,2)\n",
    "\n",
    "A/B"
   ]
  },
  {
   "cell_type": "code",
   "execution_count": 10,
   "metadata": {
    "collapsed": true
   },
   "outputs": [],
   "source": [
    "using Intervals"
   ]
  },
  {
   "cell_type": "code",
   "execution_count": 11,
   "metadata": {
    "collapsed": false
   },
   "outputs": [
    {
     "data": {
      "text/plain": [
       "Interval(0.19999999999999998,3.0)"
      ]
     },
     "execution_count": 11,
     "metadata": {},
     "output_type": "execute_result"
    }
   ],
   "source": [
    "Interval(1,3)/Interval(1,5)"
   ]
  },
  {
   "cell_type": "code",
   "execution_count": null,
   "metadata": {
    "collapsed": true
   },
   "outputs": [],
   "source": []
  }
 ],
 "metadata": {
  "kernelspec": {
   "display_name": "Julia 0.3.7",
   "language": "julia",
   "name": "julia 0.3"
  },
  "language_info": {
   "name": "julia",
   "version": "0.3.8"
  }
 },
 "nbformat": 4,
 "nbformat_minor": 0
}
