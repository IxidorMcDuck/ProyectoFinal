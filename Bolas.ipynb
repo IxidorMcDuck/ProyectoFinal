{
 "cells": [
  {
   "cell_type": "code",
   "execution_count": 4,
   "metadata": {
    "collapsed": true
   },
   "outputs": [],
   "source": []
  },
  {
   "cell_type": "code",
   "execution_count": 23,
   "metadata": {
    "collapsed": false
   },
   "outputs": [
    {
     "name": "stderr",
     "output_type": "stream",
     "text": [
      "Warning: New definition \n",
      "    +(Bola,Any) at /home/pablo1/Documents/Tareas/ProyectoFinalMNA/Bolas.jl:136\n",
      "is ambiguous with: \n",
      "    +(Any,Bola) at /home/pablo1/Documents/Tareas/ProyectoFinalMNA/Bolas.jl:134.\n",
      "To fix, define \n",
      "    +(Bola,Bola)\n",
      "before the new definition.\n",
      "Warning: New definition \n",
      "    +(Bola,Any) at /home/pablo1/Documents/Tareas/ProyectoFinalMNA/Bolas.jl:136\n",
      "is ambiguous with: \n",
      "    +(Any,Bola) at /home/pablo1/Documents/Tareas/ProyectoFinalMNA/Bolas.jl:141.\n",
      "To fix, define \n",
      "    +(Bola,Bola)\n",
      "before the new definition.\n",
      "Warning: New definition \n",
      "    +(Bola,Any) at /home/pablo1/Documents/Tareas/ProyectoFinalMNA/Bolas.jl:136\n",
      "is ambiguous with: \n",
      "    +(Any,Bola) at /home/pablo1/Documents/Tareas/ProyectoFinalMNA/Bolas.jl:141.\n",
      "To fix, define \n",
      "    +(Bola,Bola)\n",
      "before the new definition.\n",
      "Warning: New definition \n",
      "    +(Any,Bola) at /home/pablo1/Documents/Tareas/ProyectoFinalMNA/Bolas.jl:141\n",
      "is ambiguous with: \n",
      "    +(Bola,Any) at /home/pablo1/Documents/Tareas/ProyectoFinalMNA/Bolas.jl:129.\n",
      "To fix, define \n",
      "    +(Bola,Bola)\n",
      "before the new definition.\n",
      "Warning: New definition \n",
      "    +(Any,Bola) at /home/pablo1/Documents/Tareas/ProyectoFinalMNA/Bolas.jl:141\n",
      "is ambiguous with: \n",
      "    +(Bola,Any) at /home/pablo1/Documents/Tareas/ProyectoFinalMNA/Bolas.jl:136.\n",
      "To fix, define \n",
      "    +(Bola,Bola)\n",
      "before the new definition.\n",
      "Warning: New definition \n",
      "    +(Any,Bola) at /home/pablo1/Documents/Tareas/ProyectoFinalMNA/Bolas.jl:141\n",
      "is ambiguous with: \n",
      "    +(Bola,Any) at /home/pablo1/Documents/Tareas/ProyectoFinalMNA/Bolas.jl:136.\n",
      "To fix, define \n",
      "    +(Bola,Bola)\n",
      "before the new definition.\n",
      "Warning: New definition \n",
      "    -(Bola,Any) at /home/pablo1/Documents/Tareas/ProyectoFinalMNA/Bolas.jl:151\n",
      "is ambiguous with: \n",
      "    -(Any,Bola) at /home/pablo1/Documents/Tareas/ProyectoFinalMNA/Bolas.jl:149.\n",
      "To fix, define \n",
      "    -(Bola,Bola)\n",
      "before the new definition.\n",
      "Warning: New definition \n",
      "    -(Bola,Any) at /home/pablo1/Documents/Tareas/ProyectoFinalMNA/Bolas.jl:151\n",
      "is ambiguous with: \n",
      "    -(Any,Bola) at /home/pablo1/Documents/Tareas/ProyectoFinalMNA/Bolas.jl:156.\n",
      "To fix, define \n",
      "    -(Bola,Bola)\n",
      "before the new definition.\n",
      "Warning: New definition \n",
      "    -(Bola,Any) at /home/pablo1/Documents/Tareas/ProyectoFinalMNA/Bolas.jl:151\n",
      "is ambiguous with: \n",
      "    -(Any,Bola) at /home/pablo1/Documents/Tareas/ProyectoFinalMNA/Bolas.jl:156.\n",
      "To fix, define \n",
      "    -(Bola,Bola)\n",
      "before the new definition.\n",
      "Warning: New definition \n",
      "    -(Any,Bola) at /home/pablo1/Documents/Tareas/ProyectoFinalMNA/Bolas.jl:156\n",
      "is ambiguous with: \n",
      "    -(Bola,Any) at /home/pablo1/Documents/Tareas/ProyectoFinalMNA/Bolas.jl:144.\n",
      "To fix, define \n",
      "    -(Bola,Bola)\n",
      "before the new definition.\n",
      "Warning: New definition \n",
      "    -(Any,Bola) at /home/pablo1/Documents/Tareas/ProyectoFinalMNA/Bolas.jl:156\n",
      "is ambiguous with: \n",
      "    -(Bola,Any) at /home/pablo1/Documents/Tareas/ProyectoFinalMNA/Bolas.jl:151.\n",
      "To fix, define \n",
      "    -(Bola,Bola)\n",
      "before the new definition.\n",
      "Warning: New definition \n",
      "    -(Any,Bola) at /home/pablo1/Documents/Tareas/ProyectoFinalMNA/Bolas.jl:156\n",
      "is ambiguous with: \n",
      "    -(Bola,Any) at /home/pablo1/Documents/Tareas/ProyectoFinalMNA/Bolas.jl:151.\n",
      "To fix, define \n",
      "    -(Bola,Bola)\n",
      "before the new definition.\n",
      "Warning: Method definition IPv4(String,) in module Compat at /home/pablo1/.julia/v0.3/Compat/src/Compat.jl:36 overwritten in module Compat at /home/pablo1/.julia/v0.3/Compat/src/Compat.jl:36.\n",
      "Warning: Method definition IPv6(String,) in module Compat at /home/pablo1/.julia/v0.3/Compat/src/Compat.jl:37 overwritten in module Compat at /home/pablo1/.julia/v0.3/Compat/src/Compat.jl:37.\n",
      "Warning: Method definition isless(T<:IpAddr,T<:IpAddr) in module Compat at /home/pablo1/.julia/v0.3/Compat/src/Compat.jl:42 overwritten in module Compat at /home/pablo1/.julia/v0.3/Compat/src/Compat.jl:42.\n",
      "Warning: Method definition Dict(Any,) in module Compat at /home/pablo1/.julia/v0.3/Compat/src/Compat.jl:54 overwritten in module Compat at /home/pablo1/.julia/v0.3/Compat/src/Compat.jl:54.\n",
      "Warning: Method definition round(Type{T<:Integer},Integer) in module Compat at /home/pablo1/.julia/v0.3/Compat/src/Compat.jl:70 overwritten in module Compat at /home/pablo1/.julia/v0.3/Compat/src/Compat.jl:70.\n",
      "Warning: Method definition round(Type{T<:Integer},Real) in module Compat at /home/pablo1/.julia/v0.3/Compat/src/Compat.jl:71 overwritten in module Compat at /home/pablo1/.julia/v0.3/Compat/src/Compat.jl:71.\n",
      "Warning: Method definition round(Type{T<:Integer},Rational{T<:Integer}) in module Compat at /home/pablo1/.julia/v0.3/Compat/src/Compat.jl:72 overwritten in module Compat at /home/pablo1/.julia/v0.3/Compat/src/Compat.jl:72.\n",
      "Warning: Method definition round(Type{T},AbstractArray{R,1}) in module Compat at /home/pablo1/.julia/v0.3/Compat/src/Compat.jl:74 overwritten in module Compat at /home/pablo1/.julia/v0.3/Compat/src/Compat.jl:74.\n",
      "Warning: Method definition round(Type{T},AbstractArray{R,2}) in module Compat at /home/pablo1/.julia/v0.3/Compat/src/Compat.jl:77 overwritten in module Compat at /home/pablo1/.julia/v0.3/Compat/src/Compat.jl:77.\n",
      "Warning: Method definition round(Type{T},AbstractArray{T,N}) in module Compat at /home/pablo1/.julia/v0.3/Compat/src/Compat.jl:80 overwritten in module Compat at /home/pablo1/.julia/v0.3/Compat/src/Compat.jl:80.\n",
      "Warning: Method definition ceil(Type{T<:Integer},Integer) in module Compat at /home/pablo1/.julia/v0.3/Compat/src/Compat.jl:70 overwritten in module Compat at /home/pablo1/.julia/v0.3/Compat/src/Compat.jl:70.\n",
      "Warning: Method definition ceil(Type{T<:Integer},Real) in module Compat at /home/pablo1/.julia/v0.3/Compat/src/Compat.jl:71 overwritten in module Compat at /home/pablo1/.julia/v0.3/Compat/src/Compat.jl:71.\n",
      "Warning: Method definition ceil(Type{T<:Integer},Rational{T<:Integer}) in module Compat at /home/pablo1/.julia/v0.3/Compat/src/Compat.jl:72 overwritten in module Compat at /home/pablo1/.julia/v0.3/Compat/src/Compat.jl:72.\n",
      "Warning: Method definition ceil(Type{T},AbstractArray{R,1}) in module Compat at /home/pablo1/.julia/v0.3/Compat/src/Compat.jl:74 overwritten in module Compat at /home/pablo1/.julia/v0.3/Compat/src/Compat.jl:74.\n",
      "Warning: Method definition ceil(Type{T},AbstractArray{R,2}) in module Compat at /home/pablo1/.julia/v0.3/Compat/src/Compat.jl:77 overwritten in module Compat at /home/pablo1/.julia/v0.3/Compat/src/Compat.jl:77.\n",
      "Warning: Method definition ceil(Type{T},AbstractArray{T,N}) in module Compat at /home/pablo1/.julia/v0.3/Compat/src/Compat.jl:80 overwritten in module Compat at /home/pablo1/.julia/v0.3/Compat/src/Compat.jl:80.\n",
      "Warning: Method definition floor(Type{T<:Integer},Integer) in module Compat at /home/pablo1/.julia/v0.3/Compat/src/Compat.jl:70 overwritten in module Compat at /home/pablo1/.julia/v0.3/Compat/src/Compat.jl:70.\n",
      "Warning: Method definition floor(Type{T<:Integer},Real) in module Compat at /home/pablo1/.julia/v0.3/Compat/src/Compat.jl:71 overwritten in module Compat at /home/pablo1/.julia/v0.3/Compat/src/Compat.jl:71.\n",
      "Warning: Method definition floor(Type{T<:Integer},Rational{T<:Integer}) in module Compat at /home/pablo1/.julia/v0.3/Compat/src/Compat.jl:72 overwritten in module Compat at /home/pablo1/.julia/v0.3/Compat/src/Compat.jl:72.\n",
      "Warning: Method definition floor(Type{T},AbstractArray{R,1}) in module Compat at /home/pablo1/.julia/v0.3/Compat/src/Compat.jl:74 overwritten in module Compat at /home/pablo1/.julia/v0.3/Compat/src/Compat.jl:74.\n",
      "Warning: Method definition floor(Type{T},AbstractArray{R,2}) in module Compat at /home/pablo1/.julia/v0.3/Compat/src/Compat.jl:77 overwritten in module Compat at /home/pablo1/.julia/v0.3/Compat/src/Compat.jl:77.\n",
      "Warning: Method definition floor(Type{T},AbstractArray{T,N}) in module Compat at /home/pablo1/.julia/v0.3/Compat/src/Compat.jl:80 overwritten in module Compat at /home/pablo1/.julia/v0.3/Compat/src/Compat.jl:80.\n",
      "Warning: Method definition trunc(Type{T<:Integer},Integer) in module Compat at /home/pablo1/.julia/v0.3/Compat/src/Compat.jl:70 overwritten in module Compat at /home/pablo1/.julia/v0.3/Compat/src/Compat.jl:70.\n",
      "Warning: Method definition trunc(Type{T<:Integer},Real) in module Compat at /home/pablo1/.julia/v0.3/Compat/src/Compat.jl:71 overwritten in module Compat at /home/pablo1/.julia/v0.3/Compat/src/Compat.jl:71.\n",
      "Warning: Method definition trunc(Type{T<:Integer},Rational{T<:Integer}) in module Compat at /home/pablo1/.julia/v0.3/Compat/src/Compat.jl:72 overwritten in module Compat at /home/pablo1/.julia/v0.3/Compat/src/Compat.jl:72.\n",
      "Warning: Method definition trunc(Type{T},AbstractArray{R,1}) in module Compat at /home/pablo1/.julia/v0.3/Compat/src/Compat.jl:74 overwritten in module Compat at /home/pablo1/.julia/v0.3/Compat/src/Compat.jl:74.\n",
      "Warning: Method definition trunc(Type{T},AbstractArray{R,2}) in module Compat at /home/pablo1/.julia/v0.3/Compat/src/Compat.jl:77 overwritten in module Compat at /home/pablo1/.julia/v0.3/Compat/src/Compat.jl:77.\n",
      "Warning: Method definition trunc(Type{T},AbstractArray{T,N}) in module Compat at /home/pablo1/.julia/v0.3/Compat/src/Compat.jl:80 overwritten in module Compat at /home/pablo1/.julia/v0.3/Compat/src/Compat.jl:80.\n",
      "Warning: Method definition rand(Type{Bool},) in module Compat at /home/pablo1/.julia/v0.3/Compat/src/Compat.jl:187 overwritten in module Compat at /home/pablo1/.julia/v0.3/Compat/src/Compat.jl:187.\n",
      "Warning: Method definition parse(Type{T<:Integer},Char) in module Compat at /home/pablo1/.julia/v0.3/Compat/src/Compat.jl:208 overwritten in module Compat at /home/pablo1/.julia/v0.3/Compat/src/Compat.jl:208.\n",
      "Warning: Method definition parse(Type{T<:Integer},Char,Integer) in module Compat at /home/pablo1/.julia/v0.3/Compat/src/Compat.jl:209 overwritten in module Compat at /home/pablo1/.julia/v0.3/Compat/src/Compat.jl:209.\n",
      "Warning: Method definition parse(Type{T<:Integer},String) in module Compat at /home/pablo1/.julia/v0.3/Compat/src/Compat.jl:210 overwritten in module Compat at /home/pablo1/.julia/v0.3/Compat/src/Compat.jl:210.\n",
      "Warning: Method definition parse(Type{T<:Integer},String,Integer) in module Compat at /home/pablo1/.julia/v0.3/Compat/src/Compat.jl:211 overwritten in module Compat at /home/pablo1/.julia/v0.3/Compat/src/Compat.jl:211.\n",
      "Warning: Method definition parse(Type{T<:Union(Float32,Float64)},String) in module Compat at /home/pablo1/.julia/v0.3/Compat/src/Compat.jl:212 overwritten in module Compat at /home/pablo1/.julia/v0.3/Compat/src/Compat.jl:212.\n"
     ]
    },
    {
     "name": "stdout",
     "output_type": "stream",
     "text": [
      "Prueba básicas de Bolas:\n",
      "2 facts verified.\n",
      "Pruebas de funciones para bolas :\n",
      "5 facts verified.\n",
      "Prueba básicas de aritmética:\n",
      "8 facts verified.\n"
     ]
    }
   ],
   "source": [
    "workspace()\n",
    "using Bolas\n",
    "using FactCheck\n",
    "using BolasTest"
   ]
  },
  {
   "cell_type": "code",
   "execution_count": 22,
   "metadata": {
    "collapsed": false
   },
   "outputs": [
    {
     "name": "stdout",
     "output_type": "stream",
     "text": [
      "Prueba básicas de Bolas:\n",
      "2 facts verified.\n",
      "Pruebas de funciones para bolas :\n",
      "5 facts verified.\n",
      "Prueba básicas de aritmética:\n",
      "8 facts verified.\n"
     ]
    },
    {
     "data": {
      "text/plain": [
       "delayed_handler (generic function with 4 methods)"
      ]
     },
     "execution_count": 22,
     "metadata": {},
     "output_type": "execute_result"
    }
   ],
   "source": []
  },
  {
   "cell_type": "code",
   "execution_count": 6,
   "metadata": {
    "collapsed": false
   },
   "outputs": [
    {
     "data": {
      "text/plain": [
       "Bola(1,1)"
      ]
     },
     "execution_count": 6,
     "metadata": {},
     "output_type": "execute_result"
    }
   ],
   "source": [
    "Bola(1)"
   ]
  },
  {
   "cell_type": "code",
   "execution_count": 7,
   "metadata": {
    "collapsed": false
   },
   "outputs": [
    {
     "data": {
      "text/plain": [
       "Bola(1,1)"
      ]
     },
     "execution_count": 7,
     "metadata": {},
     "output_type": "execute_result"
    }
   ],
   "source": [
    "Bola(1,-1)"
   ]
  },
  {
   "cell_type": "code",
   "execution_count": 14,
   "metadata": {
    "collapsed": false
   },
   "outputs": [
    {
     "data": {
      "text/plain": [
       "Bola(3,0.1)"
      ]
     },
     "execution_count": 14,
     "metadata": {},
     "output_type": "execute_result"
    }
   ],
   "source": [
    "B=Bola(2,.1)\n",
    "A=Bola(3,.1)"
   ]
  },
  {
   "cell_type": "code",
   "execution_count": 17,
   "metadata": {
    "collapsed": false
   },
   "outputs": [
    {
     "data": {
      "text/plain": [
       "Bola(14,0.5000000000000001)"
      ]
     },
     "execution_count": 17,
     "metadata": {},
     "output_type": "execute_result"
    }
   ],
   "source": [
    "B+A+A+A+A\n"
   ]
  },
  {
   "cell_type": "code",
   "execution_count": 23,
   "metadata": {
    "collapsed": false
   },
   "outputs": [
    {
     "data": {
      "text/plain": [
       "0.8999999999999999"
      ]
     },
     "execution_count": 23,
     "metadata": {},
     "output_type": "execute_result"
    }
   ],
   "source": [
    "distancia(1.1,2)"
   ]
  },
  {
   "cell_type": "code",
   "execution_count": 44,
   "metadata": {
    "collapsed": false
   },
   "outputs": [
    {
     "data": {
      "text/plain": [
       "- (generic function with 130 methods)"
      ]
     },
     "execution_count": 44,
     "metadata": {},
     "output_type": "execute_result"
    }
   ],
   "source": [
    "function distancia(x,y) #Mide la distancia entre dos puntos\n",
    "    \n",
    "    if length(x) != length(y)\n",
    "        error(\"Error: ambos puntos deben tener el mismo numero de entradas\")\n",
    "    end\n",
    "    \n",
    "    dist=0\n",
    "    \n",
    "    for i=1:length(x)\n",
    "        dist+=(x[i]-y[i])^2\n",
    "    end\n",
    "    \n",
    "    return(sqrt(dist))\n",
    "end\n",
    "    \n",
    "function distancia(A::Bola,B::Bola) #Mide la distancia entre dos puntos\n",
    "    \n",
    "    x=A.centro\n",
    "    y=B.centro\n",
    "    \n",
    "    if length(x) != length(y)\n",
    "        error(\"Error: ambos puntos deben tener el mismo numero de entradas\")\n",
    "    end\n",
    "    \n",
    "    dist=0\n",
    "    \n",
    "    for i=1:length(x)\n",
    "        dist+=(x[i]-y[i])^2\n",
    "    end\n",
    "    \n",
    "    return(sqrt(dist))\n",
    "end\n",
    "\n",
    "\n",
    "function contiene(B::Bola,x)\n",
    "\n",
    "    if distancia(B.centro,x)<= B.radio\n",
    "        return(true)\n",
    "    else\n",
    "        return(false)\n",
    "    end\n",
    "     \n",
    "end\n",
    "\n",
    "function +(A::Bola,B::Bola)\n",
    "    \n",
    "    return(Bola(A.centro+B.centro,A.radio+B.radio))\n",
    "end\n",
    "\n",
    "function +(A::Bola,c)\n",
    "    \n",
    "    return(Bola(A.centro+c,A.radio))\n",
    "end\n",
    "\n",
    "function +(c,A::Bola)\n",
    "    \n",
    "    return(Bola(A.centro+c,A.radio))\n",
    "end\n",
    "\n",
    "function -(A::Bola,B::Bola)\n",
    "    \n",
    "    return(Bola(A.centro-B.centro,A.radio+B.radio))\n",
    "end\n",
    "\n",
    "function +(A::Bola,B::Bola)\n",
    "    \n",
    "    return(Bola(A.centro+B.centro,A.radio+B.radio))\n",
    "end\n",
    "\n",
    "function -(A::Bola,c)\n",
    "    \n",
    "    return(Bola(A.centro+c,A.radio))\n",
    "end\n",
    "\n",
    "function -(c,A::Bola)\n",
    "    \n",
    "    return(Bola(A.centro-c,A.radio))\n",
    "end    \n",
    "    "
   ]
  },
  {
   "cell_type": "code",
   "execution_count": 30,
   "metadata": {
    "collapsed": false
   },
   "outputs": [
    {
     "data": {
      "text/plain": [
       "1.4142135623730951"
      ]
     },
     "execution_count": 30,
     "metadata": {},
     "output_type": "execute_result"
    }
   ],
   "source": [
    "distancia([4,3],[5,2])"
   ]
  },
  {
   "cell_type": "code",
   "execution_count": 35,
   "metadata": {
    "collapsed": false
   },
   "outputs": [
    {
     "data": {
      "text/plain": [
       "Bola(2,0.03125)"
      ]
     },
     "execution_count": 35,
     "metadata": {},
     "output_type": "execute_result"
    }
   ],
   "source": [
    "B"
   ]
  },
  {
   "cell_type": "code",
   "execution_count": 37,
   "metadata": {
    "collapsed": false
   },
   "outputs": [
    {
     "data": {
      "text/plain": [
       "true"
      ]
     },
     "execution_count": 37,
     "metadata": {},
     "output_type": "execute_result"
    }
   ],
   "source": [
    "contiene(B,2)"
   ]
  },
  {
   "cell_type": "code",
   "execution_count": 38,
   "metadata": {
    "collapsed": false
   },
   "outputs": [
    {
     "data": {
      "text/plain": [
       "false"
      ]
     },
     "execution_count": 38,
     "metadata": {},
     "output_type": "execute_result"
    }
   ],
   "source": [
    "contiene(B,3)"
   ]
  },
  {
   "cell_type": "code",
   "execution_count": 26,
   "metadata": {
    "collapsed": false
   },
   "outputs": [
    {
     "data": {
      "text/plain": [
       "Bola(-1,3)"
      ]
     },
     "execution_count": 26,
     "metadata": {},
     "output_type": "execute_result"
    }
   ],
   "source": [
    "A = Bola(2,3)\n",
    "B = Bola(-1,-3)"
   ]
  },
  {
   "cell_type": "code",
   "execution_count": 41,
   "metadata": {
    "collapsed": false
   },
   "outputs": [
    {
     "data": {
      "text/plain": [
       "Bola(1,6)"
      ]
     },
     "execution_count": 41,
     "metadata": {},
     "output_type": "execute_result"
    }
   ],
   "source": [
    "A+B"
   ]
  },
  {
   "cell_type": "code",
   "execution_count": 27,
   "metadata": {
    "collapsed": false
   },
   "outputs": [
    {
     "data": {
      "text/plain": [
       "3.0"
      ]
     },
     "execution_count": 27,
     "metadata": {},
     "output_type": "execute_result"
    }
   ],
   "source": [
    "distancia(A,B)"
   ]
  },
  {
   "cell_type": "code",
   "execution_count": 26,
   "metadata": {
    "collapsed": false
   },
   "outputs": [
    {
     "data": {
      "text/plain": [
       "* (generic function with 117 methods)"
      ]
     },
     "execution_count": 26,
     "metadata": {},
     "output_type": "execute_result"
    }
   ],
   "source": [
    "\n",
    "\n",
    "\n",
    "    "
   ]
  },
  {
   "cell_type": "code",
   "execution_count": 27,
   "metadata": {
    "collapsed": false
   },
   "outputs": [
    {
     "data": {
      "text/plain": [
       "Bola(20,1)"
      ]
     },
     "execution_count": 27,
     "metadata": {},
     "output_type": "execute_result"
    }
   ],
   "source": [
    "5*Bola(2)*2"
   ]
  },
  {
   "cell_type": "code",
   "execution_count": null,
   "metadata": {
    "collapsed": true
   },
   "outputs": [],
   "source": []
  }
 ],
 "metadata": {
  "kernelspec": {
   "display_name": "Julia 0.3.7",
   "language": "julia",
   "name": "julia 0.3"
  },
  "language_info": {
   "name": "julia",
   "version": "0.3.7"
  }
 },
 "nbformat": 4,
 "nbformat_minor": 0
}
