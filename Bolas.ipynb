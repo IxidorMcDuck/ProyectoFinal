{
 "cells": [
  {
   "cell_type": "code",
   "execution_count": 4,
   "metadata": {
    "collapsed": true
   },
   "outputs": [],
   "source": []
  },
  {
   "cell_type": "code",
   "execution_count": 24,
   "metadata": {
    "collapsed": false
   },
   "outputs": [
    {
     "name": "stderr",
     "output_type": "stream",
     "text": [
      "Warning: New definition \n",
      "    +(Bola,Any) at /home/pablo1/Documents/Tareas/ProyectoFinalMNA/Bolas.jl:129\n",
      "is ambiguous with: \n",
      "    +(Any,Bola) at /home/pablo1/Documents/Tareas/ProyectoFinalMNA/Bolas.jl:118.\n",
      "To fix, define \n",
      "    +(Bola,Bola)\n",
      "before the new definition.\n",
      "Warning: New definition \n",
      "    +(Bola,Any) at /home/pablo1/Documents/Tareas/ProyectoFinalMNA/Bolas.jl:129\n",
      "is ambiguous with: \n",
      "    +(Any,Bola) at /home/pablo1/Documents/Tareas/ProyectoFinalMNA/Bolas.jl:118.\n",
      "To fix, define \n",
      "    +(Bola,Bola)\n",
      "before the new definition.\n",
      "Warning: New definition \n",
      "    +(Bola,Any) at /home/pablo1/Documents/Tareas/ProyectoFinalMNA/Bolas.jl:129\n",
      "is ambiguous with: \n",
      "    +(Any,Bola) at /home/pablo1/Documents/Tareas/ProyectoFinalMNA/Bolas.jl:118.\n",
      "To fix, define \n",
      "    +(Bola,Bola)\n",
      "before the new definition.\n",
      "Warning: New definition \n",
      "    +(Bola,Any) at /home/pablo1/Documents/Tareas/ProyectoFinalMNA/Bolas.jl:129\n",
      "is ambiguous with: \n",
      "    +(Any,Bola) at /home/pablo1/Documents/Tareas/ProyectoFinalMNA/Bolas.jl:118.\n",
      "To fix, define \n",
      "    +(Bola,Bola)\n",
      "before the new definition.\n",
      "Warning: New definition \n",
      "    +(Any,Bola) at /home/pablo1/Documents/Tareas/ProyectoFinalMNA/Bolas.jl:134\n",
      "is ambiguous with: \n",
      "    +(Bola,Any) at /home/pablo1/Documents/Tareas/ProyectoFinalMNA/Bolas.jl:113.\n",
      "To fix, define \n",
      "    +(Bola,Bola)\n",
      "before the new definition.\n",
      "Warning: New definition \n",
      "    +(Any,Bola) at /home/pablo1/Documents/Tareas/ProyectoFinalMNA/Bolas.jl:134\n",
      "is ambiguous with: \n",
      "    +(Bola,Any) at /home/pablo1/Documents/Tareas/ProyectoFinalMNA/Bolas.jl:113.\n",
      "To fix, define \n",
      "    +(Bola,Bola)\n",
      "before the new definition.\n",
      "Warning: New definition \n",
      "    +(Any,Bola) at /home/pablo1/Documents/Tareas/ProyectoFinalMNA/Bolas.jl:134\n",
      "is ambiguous with: \n",
      "    +(Bola,Any) at /home/pablo1/Documents/Tareas/ProyectoFinalMNA/Bolas.jl:113.\n",
      "To fix, define \n",
      "    +(Bola,Bola)\n",
      "before the new definition.\n",
      "Warning: New definition \n",
      "    +(Any,Bola) at /home/pablo1/Documents/Tareas/ProyectoFinalMNA/Bolas.jl:134\n",
      "is ambiguous with: \n",
      "    +(Bola,Any) at /home/pablo1/Documents/Tareas/ProyectoFinalMNA/Bolas.jl:113.\n",
      "To fix, define \n",
      "    +(Bola,Bola)\n",
      "before the new definition.\n",
      "Warning: New definition \n",
      "    -(Bola,Any) at /home/pablo1/Documents/Tareas/ProyectoFinalMNA/Bolas.jl:144\n",
      "is ambiguous with: \n",
      "    -(Any,Bola) at /home/pablo1/Documents/Tareas/ProyectoFinalMNA/Bolas.jl:138.\n",
      "To fix, define \n",
      "    -(Bola,Bola)\n",
      "before the new definition.\n",
      "Warning: New definition \n",
      "    -(Bola,Any) at /home/pablo1/Documents/Tareas/ProyectoFinalMNA/Bolas.jl:144\n",
      "is ambiguous with: \n",
      "    -(Any,Bola) at /home/pablo1/Documents/Tareas/ProyectoFinalMNA/Bolas.jl:138.\n",
      "To fix, define \n",
      "    -(Bola,Bola)\n",
      "before the new definition.\n",
      "Warning: New definition \n",
      "    -(Bola,Any) at /home/pablo1/Documents/Tareas/ProyectoFinalMNA/Bolas.jl:144\n",
      "is ambiguous with: \n",
      "    -(Any,Bola) at /home/pablo1/Documents/Tareas/ProyectoFinalMNA/Bolas.jl:133.\n",
      "To fix, define \n",
      "    -(Bola,Bola)\n",
      "before the new definition.\n",
      "Warning: New definition \n",
      "    -(Bola,Any) at /home/pablo1/Documents/Tareas/ProyectoFinalMNA/Bolas.jl:144\n",
      "is ambiguous with: \n",
      "    -(Any,Bola) at /home/pablo1/Documents/Tareas/ProyectoFinalMNA/Bolas.jl:133.\n",
      "To fix, define \n",
      "    -(Bola,Bola)\n",
      "before the new definition.\n",
      "Warning: New definition \n",
      "    -(Any,Bola) at /home/pablo1/Documents/Tareas/ProyectoFinalMNA/Bolas.jl:149\n",
      "is ambiguous with: \n",
      "    -(Bola,Any) at /home/pablo1/Documents/Tareas/ProyectoFinalMNA/Bolas.jl:133.\n",
      "To fix, define \n",
      "    -(Bola,Bola)\n",
      "before the new definition.\n",
      "Warning: New definition \n",
      "    -(Any,Bola) at /home/pablo1/Documents/Tareas/ProyectoFinalMNA/Bolas.jl:149\n",
      "is ambiguous with: \n",
      "    -(Bola,Any) at /home/pablo1/Documents/Tareas/ProyectoFinalMNA/Bolas.jl:133.\n",
      "To fix, define \n",
      "    -(Bola,Bola)\n",
      "before the new definition.\n",
      "Warning: New definition \n",
      "    -(Any,Bola) at /home/pablo1/Documents/Tareas/ProyectoFinalMNA/Bolas.jl:149\n",
      "is ambiguous with: \n",
      "    -(Bola,Any) at /home/pablo1/Documents/Tareas/ProyectoFinalMNA/Bolas.jl:128.\n",
      "To fix, define \n",
      "    -(Bola,Bola)\n",
      "before the new definition.\n",
      "Warning: New definition \n",
      "    -(Any,Bola) at /home/pablo1/Documents/Tareas/ProyectoFinalMNA/Bolas.jl:149\n",
      "is ambiguous with: \n",
      "    -(Bola,Any) at /home/pablo1/Documents/Tareas/ProyectoFinalMNA/Bolas.jl:128.\n",
      "To fix, define \n",
      "    -(Bola,Bola)\n",
      "before the new definition.\n"
     ]
    }
   ],
   "source": [
    "workspace()\n",
    "using Bolas"
   ]
  },
  {
   "cell_type": "code",
   "execution_count": 2,
   "metadata": {
    "collapsed": false
   },
   "outputs": [],
   "source": [
    "workspace()\n",
    "type Bola\n",
    "    \n",
    "    centro\n",
    "    radio\n",
    "   \n",
    "    Bola(c) = new(c,1)\n",
    "    Bola(c,r) = r < 0 ? new(c,abs(r)) : new(c,r)\n",
    "end"
   ]
  },
  {
   "cell_type": "code",
   "execution_count": 6,
   "metadata": {
    "collapsed": false
   },
   "outputs": [
    {
     "data": {
      "text/plain": [
       "Bola(1,1)"
      ]
     },
     "execution_count": 6,
     "metadata": {},
     "output_type": "execute_result"
    }
   ],
   "source": [
    "Bola(1)"
   ]
  },
  {
   "cell_type": "code",
   "execution_count": 7,
   "metadata": {
    "collapsed": false
   },
   "outputs": [
    {
     "data": {
      "text/plain": [
       "Bola(1,1)"
      ]
     },
     "execution_count": 7,
     "metadata": {},
     "output_type": "execute_result"
    }
   ],
   "source": [
    "Bola(1,-1)"
   ]
  },
  {
   "cell_type": "code",
   "execution_count": 14,
   "metadata": {
    "collapsed": false
   },
   "outputs": [
    {
     "data": {
      "text/plain": [
       "Bola(3,0.1)"
      ]
     },
     "execution_count": 14,
     "metadata": {},
     "output_type": "execute_result"
    }
   ],
   "source": [
    "B=Bola(2,.1)\n",
    "A=Bola(3,.1)"
   ]
  },
  {
   "cell_type": "code",
   "execution_count": 17,
   "metadata": {
    "collapsed": false
   },
   "outputs": [
    {
     "data": {
      "text/plain": [
       "Bola(14,0.5000000000000001)"
      ]
     },
     "execution_count": 17,
     "metadata": {},
     "output_type": "execute_result"
    }
   ],
   "source": [
    "B+A+A+A+A\n"
   ]
  },
  {
   "cell_type": "code",
   "execution_count": 23,
   "metadata": {
    "collapsed": false
   },
   "outputs": [
    {
     "data": {
      "text/plain": [
       "0.8999999999999999"
      ]
     },
     "execution_count": 23,
     "metadata": {},
     "output_type": "execute_result"
    }
   ],
   "source": [
    "distancia(1.1,2)"
   ]
  },
  {
   "cell_type": "code",
   "execution_count": 44,
   "metadata": {
    "collapsed": false
   },
   "outputs": [
    {
     "data": {
      "text/plain": [
       "- (generic function with 130 methods)"
      ]
     },
     "execution_count": 44,
     "metadata": {},
     "output_type": "execute_result"
    }
   ],
   "source": [
    "function distancia(x,y) #Mide la distancia entre dos puntos\n",
    "    \n",
    "    if length(x) != length(y)\n",
    "        error(\"Error: ambos puntos deben tener el mismo numero de entradas\")\n",
    "    end\n",
    "    \n",
    "    dist=0\n",
    "    \n",
    "    for i=1:length(x)\n",
    "        dist+=(x[i]-y[i])^2\n",
    "    end\n",
    "    \n",
    "    return(sqrt(dist))\n",
    "end\n",
    "    \n",
    "function distancia(A::Bola,B::Bola) #Mide la distancia entre dos puntos\n",
    "    \n",
    "    x=A.centro\n",
    "    y=B.centro\n",
    "    \n",
    "    if length(x) != length(y)\n",
    "        error(\"Error: ambos puntos deben tener el mismo numero de entradas\")\n",
    "    end\n",
    "    \n",
    "    dist=0\n",
    "    \n",
    "    for i=1:length(x)\n",
    "        dist+=(x[i]-y[i])^2\n",
    "    end\n",
    "    \n",
    "    return(sqrt(dist))\n",
    "end\n",
    "\n",
    "\n",
    "function contiene(B::Bola,x)\n",
    "\n",
    "    if distancia(B.centro,x)<= B.radio\n",
    "        return(true)\n",
    "    else\n",
    "        return(false)\n",
    "    end\n",
    "     \n",
    "end\n",
    "\n",
    "function +(A::Bola,B::Bola)\n",
    "    \n",
    "    return(Bola(A.centro+B.centro,A.radio+B.radio))\n",
    "end\n",
    "\n",
    "function +(A::Bola,c)\n",
    "    \n",
    "    return(Bola(A.centro+c,A.radio))\n",
    "end\n",
    "\n",
    "function +(c,A::Bola)\n",
    "    \n",
    "    return(Bola(A.centro+c,A.radio))\n",
    "end\n",
    "\n",
    "function -(A::Bola,B::Bola)\n",
    "    \n",
    "    return(Bola(A.centro-B.centro,A.radio+B.radio))\n",
    "end\n",
    "\n",
    "function +(A::Bola,B::Bola)\n",
    "    \n",
    "    return(Bola(A.centro+B.centro,A.radio+B.radio))\n",
    "end\n",
    "\n",
    "function -(A::Bola,c)\n",
    "    \n",
    "    return(Bola(A.centro+c,A.radio))\n",
    "end\n",
    "\n",
    "function -(c,A::Bola)\n",
    "    \n",
    "    return(Bola(A.centro-c,A.radio))\n",
    "end    \n",
    "    "
   ]
  },
  {
   "cell_type": "code",
   "execution_count": 30,
   "metadata": {
    "collapsed": false
   },
   "outputs": [
    {
     "data": {
      "text/plain": [
       "1.4142135623730951"
      ]
     },
     "execution_count": 30,
     "metadata": {},
     "output_type": "execute_result"
    }
   ],
   "source": [
    "distancia([4,3],[5,2])"
   ]
  },
  {
   "cell_type": "code",
   "execution_count": 35,
   "metadata": {
    "collapsed": false
   },
   "outputs": [
    {
     "data": {
      "text/plain": [
       "Bola(2,0.03125)"
      ]
     },
     "execution_count": 35,
     "metadata": {},
     "output_type": "execute_result"
    }
   ],
   "source": [
    "B"
   ]
  },
  {
   "cell_type": "code",
   "execution_count": 37,
   "metadata": {
    "collapsed": false
   },
   "outputs": [
    {
     "data": {
      "text/plain": [
       "true"
      ]
     },
     "execution_count": 37,
     "metadata": {},
     "output_type": "execute_result"
    }
   ],
   "source": [
    "contiene(B,2)"
   ]
  },
  {
   "cell_type": "code",
   "execution_count": 38,
   "metadata": {
    "collapsed": false
   },
   "outputs": [
    {
     "data": {
      "text/plain": [
       "false"
      ]
     },
     "execution_count": 38,
     "metadata": {},
     "output_type": "execute_result"
    }
   ],
   "source": [
    "contiene(B,3)"
   ]
  },
  {
   "cell_type": "code",
   "execution_count": 26,
   "metadata": {
    "collapsed": false
   },
   "outputs": [
    {
     "data": {
      "text/plain": [
       "Bola(-1,3)"
      ]
     },
     "execution_count": 26,
     "metadata": {},
     "output_type": "execute_result"
    }
   ],
   "source": [
    "A = Bola(2,3)\n",
    "B = Bola(-1,-3)"
   ]
  },
  {
   "cell_type": "code",
   "execution_count": 41,
   "metadata": {
    "collapsed": false
   },
   "outputs": [
    {
     "data": {
      "text/plain": [
       "Bola(1,6)"
      ]
     },
     "execution_count": 41,
     "metadata": {},
     "output_type": "execute_result"
    }
   ],
   "source": [
    "A+B"
   ]
  },
  {
   "cell_type": "code",
   "execution_count": 27,
   "metadata": {
    "collapsed": false
   },
   "outputs": [
    {
     "data": {
      "text/plain": [
       "3.0"
      ]
     },
     "execution_count": 27,
     "metadata": {},
     "output_type": "execute_result"
    }
   ],
   "source": [
    "distancia(A,B)"
   ]
  },
  {
   "cell_type": "code",
   "execution_count": null,
   "metadata": {
    "collapsed": true
   },
   "outputs": [],
   "source": []
  }
 ],
 "metadata": {
  "kernelspec": {
   "display_name": "Julia 0.3.7",
   "language": "julia",
   "name": "julia 0.3"
  },
  "language_info": {
   "name": "julia",
   "version": "0.3.7"
  }
 },
 "nbformat": 4,
 "nbformat_minor": 0
}
